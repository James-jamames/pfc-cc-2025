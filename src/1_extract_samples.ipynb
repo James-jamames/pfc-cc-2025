{
 "cells": [
  {
   "cell_type": "markdown",
   "id": "57965760",
   "metadata": {},
   "source": [
    "# Download"
   ]
  },
  {
   "cell_type": "code",
   "execution_count": null,
   "id": "c1d8b213",
   "metadata": {},
   "outputs": [],
   "source": [
    "!wget -O gpw_grassland_fscs.vi.vhr_grid.samples_20000101_20241231_go_epsg.4326_v2.gpkg \"https://zenodo.org/records/15631655/files/gpw_grassland_fscs.vi.vhr_grid.samples_20000101_20241231_go_epsg.4326_v2.gpkg?download=1\""
   ]
  },
  {
   "cell_type": "code",
   "execution_count": null,
   "id": "d3be2c5a",
   "metadata": {},
   "outputs": [],
   "source": [
    "import os\n",
    "import requests\n",
    "\n",
    "DATA_PATH = \"C:/Users/tiago/Documents/Workspace/UFG/pfc-cc-2025/data\"\n",
    "os.makedirs(DATA_PATH, exist_ok=True)\n",
    "\n",
    "url = \"https://zenodo.org/records/15631655/files/gpw_grassland_fscs.vi.vhr_grid.samples_20000101_20241231_go_epsg.4326_v2.gpkg?download=1\"\n",
    "\n",
    "filename = os.path.join(DATA_PATH, \"gpw_grassland_fscs.vi.vhr_grid.samples_20000101_20241231_go_epsg.4326_v2.gpkg\")\n",
    "\n",
    "response = requests.get(url, stream=True)\n",
    "response.raise_for_status()\n",
    "\n",
    "with open(filename, \"wb\") as f:\n",
    "    for chunk in response.iter_content(chunk_size=8192):\n",
    "        f.write(chunk)\n",
    "\n",
    "print(f\"Download concluído: {filename}\")"
   ]
  },
  {
   "cell_type": "markdown",
   "id": "35aaf6a5",
   "metadata": {},
   "source": [
    "# Extração"
   ]
  },
  {
   "cell_type": "code",
   "execution_count": 1,
   "id": "23dfbfb1",
   "metadata": {},
   "outputs": [],
   "source": [
    "from pathlib import Path\n",
    "\n",
    "BATCH_SIZE = 200_000\n",
    "\n",
    "input_fn = \"gpw_grassland_fscs.vi.vhr_grid.samples_20000101_20241231_go_epsg.4326_v2.gpkg\"\n",
    "input_dir = Path(\"../data\")\n",
    "output_dir = Path(\"../data/raw\")\n",
    "output_dir.mkdir(exist_ok=True)"
   ]
  },
  {
   "cell_type": "code",
   "execution_count": null,
   "id": "73c11fc3",
   "metadata": {},
   "outputs": [
    {
     "name": "stdout",
     "output_type": "stream",
     "text": [
      "Processed up to rowid: 200000\n",
      "Processed up to rowid: 400000\n",
      "Processed up to rowid: 600000\n",
      "Processed up to rowid: 800000\n",
      "Processed up to rowid: 1000000\n",
      "Processed up to rowid: 1200000\n",
      "Processed up to rowid: 1400000\n",
      "Processed up to rowid: 1600000\n",
      "Processed up to rowid: 1800000\n",
      "Processed up to rowid: 2000000\n",
      "Processed up to rowid: 2200000\n",
      "Processed up to rowid: 2400000\n",
      "Processed up to rowid: 2600000\n",
      "Processed up to rowid: 2800000\n",
      "Processed up to rowid: 3000000\n",
      "Processed up to rowid: 3200000\n",
      "Processed up to rowid: 3400000\n",
      "Processed up to rowid: 3600000\n",
      "Processed up to rowid: 3800000\n",
      "Processed up to rowid: 4000000\n",
      "Processed up to rowid: 4200000\n",
      "Processed up to rowid: 4400000\n",
      "Processed up to rowid: 4600000\n",
      "Processed up to rowid: 4800000\n",
      "Processed up to rowid: 5000000\n",
      "Processed up to rowid: 5200000\n",
      "Processed up to rowid: 5400000\n",
      "Processed up to rowid: 5600000\n",
      "Processed up to rowid: 5800000\n",
      "Processed up to rowid: 6000000\n",
      "Processed up to rowid: 6200000\n",
      "Processed up to rowid: 6400000\n",
      "Processed up to rowid: 6600000\n",
      "Processed up to rowid: 6800000\n",
      "Processed up to rowid: 7000000\n",
      "Processed up to rowid: 7200000\n",
      "Processed up to rowid: 7400000\n",
      "Processed up to rowid: 7600000\n",
      "Processed up to rowid: 7800000\n",
      "Processed up to rowid: 8000000\n",
      "Processed up to rowid: 8200000\n",
      "Processed up to rowid: 8400000\n",
      "Processed up to rowid: 8600000\n",
      "Processed up to rowid: 8800000\n",
      "Processed up to rowid: 9000000\n",
      "Processed up to rowid: 9200000\n",
      "Processed up to rowid: 9400000\n",
      "Processed up to rowid: 9600000\n",
      "Processed up to rowid: 9800000\n",
      "Processed up to rowid: 10000000\n",
      "Processed up to rowid: 10200000\n",
      "Processed up to rowid: 10400000\n",
      "Processed up to rowid: 10600000\n",
      "Processed up to rowid: 10800000\n",
      "Processed up to rowid: 11000000\n",
      "Processed up to rowid: 11200000\n"
     ]
    }
   ],
   "source": [
    "import geopandas as gpd\n",
    "\n",
    "map_dict = {\n",
    "    \"Other land cover\": 0.0,\n",
    "    \"Cultivated grassland\": 2.0**6,\n",
    "    \"Natural/semi-natural grassland\": 2.0**12,\n",
    "    \"Open shrubland\": 2.0**18\n",
    "}\n",
    "\n",
    "processed = 0\n",
    "\n",
    "while True:\n",
    "    gdf = gpd.read_file(input_dir / input_fn, rows=slice(processed, processed + BATCH_SIZE))\n",
    "\n",
    "    if gdf.empty:\n",
    "        print(\"No more data to process.\")\n",
    "        break\n",
    "\n",
    "    if gdf.shape[0] == BATCH_SIZE:\n",
    "        last_tile_id = gdf.iloc[-1][\"tile_id\"]\n",
    "    else:\n",
    "        last_tile_id = None\n",
    "\n",
    "    for tile_id in gdf[\"tile_id\"].unique():\n",
    "        if last_tile_id == tile_id:\n",
    "            continue \n",
    "\n",
    "        tile_gdf = gdf[gdf[\"tile_id\"] == tile_id].copy()\n",
    "\n",
    "        tile_gdf[\"bing_value\"] = tile_gdf[\"bing_class\"].map(map_dict)\n",
    "        tile_gdf[\"google_value\"] = tile_gdf[\"google_class\"].map(map_dict)\n",
    "        \n",
    "        tile_gdf.to_file(output_dir / f'{tile_id}.gpkg', driver=\"GPKG\")\n",
    "\n",
    "    processed += len(gdf)\n",
    "\n",
    "    print(f\"Processed up to rowid: {processed}\")"
   ]
  }
 ],
 "metadata": {
  "kernelspec": {
   "display_name": "gdal",
   "language": "python",
   "name": "python3"
  },
  "language_info": {
   "codemirror_mode": {
    "name": "ipython",
    "version": 3
   },
   "file_extension": ".py",
   "mimetype": "text/x-python",
   "name": "python",
   "nbconvert_exporter": "python",
   "pygments_lexer": "ipython3",
   "version": "3.13.7"
  }
 },
 "nbformat": 4,
 "nbformat_minor": 5
}
