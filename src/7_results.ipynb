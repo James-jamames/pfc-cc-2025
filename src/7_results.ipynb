{
 "cells": [
  {
   "cell_type": "code",
   "execution_count": 3,
   "id": "abf19af1",
   "metadata": {},
   "outputs": [
    {
     "name": "stderr",
     "output_type": "stream",
     "text": [
      "Exception ignored in: <_io.BufferedReader>\n",
      "Traceback (most recent call last):\n",
      "  File \"c:\\Users\\Tiago\\anaconda3\\envs\\gdal\\Lib\\site-packages\\lz4\\frame\\__init__.py\", line 753, in flush\n",
      "    self._fp.flush()\n",
      "ValueError: I/O operation on closed file.\n"
     ]
    },
    {
     "data": {
      "text/plain": [
       "[{'model': KNeighborsClassifier(n_neighbors=3),\n",
       "  't_start': 1761394646.0178933,\n",
       "  't_end': 1761394646.028679,\n",
       "  '#_fold': '01'},\n",
       " {'model': KNeighborsClassifier(n_neighbors=3),\n",
       "  't_start': 1761394655.41046,\n",
       "  't_end': 1761394655.4296544,\n",
       "  '#_fold': '02'},\n",
       " {'model': KNeighborsClassifier(n_neighbors=3),\n",
       "  't_start': 1761394664.9191623,\n",
       "  't_end': 1761394664.9298234,\n",
       "  '#_fold': '03'},\n",
       " {'model': KNeighborsClassifier(n_neighbors=3),\n",
       "  't_start': 1761394674.309381,\n",
       "  't_end': 1761394674.3205202,\n",
       "  '#_fold': '04'},\n",
       " {'model': KNeighborsClassifier(n_neighbors=3),\n",
       "  't_start': 1761394683.861864,\n",
       "  't_end': 1761394683.8727868,\n",
       "  '#_fold': '05'}]"
      ]
     },
     "execution_count": 3,
     "metadata": {},
     "output_type": "execute_result"
    }
   ],
   "source": [
    "import joblib\n",
    "\n",
    "m = joblib.load('../models/knn.m_minkowski.oxc.lz4')\n",
    "\n",
    "m"
   ]
  },
  {
   "cell_type": "code",
   "execution_count": null,
   "id": "2e6ef0af",
   "metadata": {},
   "outputs": [],
   "source": []
  }
 ],
 "metadata": {
  "kernelspec": {
   "display_name": "gdal",
   "language": "python",
   "name": "python3"
  },
  "language_info": {
   "codemirror_mode": {
    "name": "ipython",
    "version": 3
   },
   "file_extension": ".py",
   "mimetype": "text/x-python",
   "name": "python",
   "nbconvert_exporter": "python",
   "pygments_lexer": "ipython3",
   "version": "3.13.7"
  }
 },
 "nbformat": 4,
 "nbformat_minor": 5
}
