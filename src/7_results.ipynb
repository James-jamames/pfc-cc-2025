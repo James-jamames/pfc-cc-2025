{
 "cells": [
  {
   "cell_type": "code",
   "execution_count": 12,
   "id": "0d7fd6a1",
   "metadata": {},
   "outputs": [
    {
     "name": "stdout",
     "output_type": "stream",
     "text": [
      "c -> 0.488 & 0.484 & 0.486 & 0.447 & 0.415 \\\\\n",
      "n -> 0.707 & 0.708 & 0.708 & 0.399 & 0.188 \\\\\n"
     ]
    }
   ],
   "source": [
    "import joblib\n",
    "\n",
    "rc = joblib.load('../results/rf.oxc.lz4')\n",
    "rn = joblib.load('../results/rf.oxn.lz4')\n",
    "\n",
    "print(\n",
    "    f\"c -> {rc['precision_score']:.3f} & \"\n",
    "    f\"{rc['recall_score']:.3f} & \"\n",
    "    f\"{rc['f1_score']:.3f} & \"\n",
    "    f\"{rc['threshold']:.3f} & \"\n",
    "    f\"{rc['prediction_time'] * 1000:.3f} \\\\\\\\\"\n",
    ")\n",
    "\n",
    "print(\n",
    "    f\"n -> {rn['precision_score']:.3f} & \"\n",
    "    f\"{rn['recall_score']:.3f} & \"\n",
    "    f\"{rn['f1_score']:.3f} & \"\n",
    "    f\"{rn['threshold']:.3f} & \"\n",
    "    f\"{rn['prediction_time'] * 1000:.3f} \\\\\\\\\"\n",
    ")"
   ]
  },
  {
   "cell_type": "code",
   "execution_count": null,
   "id": "c3cbff5f",
   "metadata": {},
   "outputs": [
    {
     "name": "stdout",
     "output_type": "stream",
     "text": [
      "c -> 0.600 & 0.600 & 0.600 & 0.314 & 0.011 \\\\\n",
      "n -> 0.6999 & 0.6999 & 0.6999 & 0.4281 & 0.0122 \\\\\n"
     ]
    }
   ],
   "source": [
    "import joblib\n",
    "\n",
    "rc = joblib.load('../results/xgb.oxc.lz4')\n",
    "rn = joblib.load('../results/xgb.oxn.lz4')\n",
    "\n",
    "print(\n",
    "    f\"c -> {rc['precision_score']:.3f} & \"\n",
    "    f\"{rc['recall_score']:.3f} & \"\n",
    "    f\"{rc['f1_score']:.3f} & \"\n",
    "    f\"{rc['threshold']:.3f} & \"\n",
    "    f\"{rc['prediction_time'] * 1000:.3f} \\\\\\\\\"\n",
    ")\n",
    "\n",
    "print(\n",
    "    f\"n -> {rn['precision_score']:.3f} & \"\n",
    "    f\"{rn['recall_score']:.3f} & \"\n",
    "    f\"{rn['f1_score']:.3f} & \"\n",
    "    f\"{rn['threshold']:.3f} & \"\n",
    "    f\"{rn['prediction_time'] * 1000:.3f} \\\\\\\\\"\n",
    ")"
   ]
  },
  {
   "cell_type": "code",
   "execution_count": 6,
   "id": "caf9cdd6",
   "metadata": {},
   "outputs": [
    {
     "name": "stdout",
     "output_type": "stream",
     "text": [
      "c -> 0.610 & 0.610 & 0.610 & 0.309 & 0.013 \\\\\n",
      "n -> 0.704 & 0.704 & 0.704 & 0.422 & 0.039 \\\\\n"
     ]
    }
   ],
   "source": [
    "import joblib\n",
    "\n",
    "rc = joblib.load('../results/lgbm.oxc.lz4')\n",
    "rn = joblib.load('../results/lgbm.oxn.lz4')\n",
    "\n",
    "print(\n",
    "    f\"c -> {rc['precision_score']:.3f} & \"\n",
    "    f\"{rc['recall_score']:.3f} & \"\n",
    "    f\"{rc['f1_score']:.3f} & \"\n",
    "    f\"{rc['threshold']:.3f} & \"\n",
    "    f\"{rc['prediction_time'] * 1000:.3f} \\\\\\\\\"\n",
    ")\n",
    "\n",
    "print(\n",
    "    f\"n -> {rn['precision_score']:.3f} & \"\n",
    "    f\"{rn['recall_score']:.3f} & \"\n",
    "    f\"{rn['f1_score']:.3f} & \"\n",
    "    f\"{rn['threshold']:.3f} & \"\n",
    "    f\"{rn['prediction_time'] * 1000:.3f} \\\\\\\\\"\n",
    ")"
   ]
  },
  {
   "cell_type": "code",
   "execution_count": 10,
   "id": "280d96d2",
   "metadata": {},
   "outputs": [
    {
     "name": "stdout",
     "output_type": "stream",
     "text": [
      "c -> 0.566 & 0.566 & 0.566 & 0.315 & 0.295 \\\\\n",
      "n -> 0.675 & 0.675 & 0.675 & 0.438 & 1.123 \\\\\n"
     ]
    }
   ],
   "source": [
    "import joblib\n",
    "\n",
    "rc = joblib.load('../results/svc.k_linear.oxc.lz4')\n",
    "rn = joblib.load('../results/svc.k_linear.oxn.lz4')\n",
    "\n",
    "print(\n",
    "    f\"c -> {rc['precision_score']:.3f} & \"\n",
    "    f\"{rc['recall_score']:.3f} & \"\n",
    "    f\"{rc['f1_score']:.3f} & \"\n",
    "    f\"{rc['threshold']:.3f} & \"\n",
    "    f\"{rc['prediction_time'] * 1000:.3f} \\\\\\\\\"\n",
    ")\n",
    "\n",
    "print(\n",
    "    f\"n -> {rn['precision_score']:.3f} & \"\n",
    "    f\"{rn['recall_score']:.3f} & \"\n",
    "    f\"{rn['f1_score']:.3f} & \"\n",
    "    f\"{rn['threshold']:.3f} & \"\n",
    "    f\"{rn['prediction_time'] * 1000:.3f} \\\\\\\\\"\n",
    ")"
   ]
  },
  {
   "cell_type": "code",
   "execution_count": 8,
   "id": "cf45c839",
   "metadata": {},
   "outputs": [
    {
     "name": "stdout",
     "output_type": "stream",
     "text": [
      "c -> 0.633 & 0.633 & 0.633 & 0.279 & 0.239 \\\\\n",
      "n -> 0.717 & 0.717 & 0.717 & 0.393 & 0.609 \\\\\n"
     ]
    }
   ],
   "source": [
    "import joblib\n",
    "\n",
    "rc = joblib.load('../results/svc.k_poly.oxc.lz4')\n",
    "rn = joblib.load('../results/svc.k_poly.oxn.lz4')\n",
    "\n",
    "print(\n",
    "    f\"c -> {rc['precision_score']:.3f} & \"\n",
    "    f\"{rc['recall_score']:.3f} & \"\n",
    "    f\"{rc['f1_score']:.3f} & \"\n",
    "    f\"{rc['threshold']:.3f} & \"\n",
    "    f\"{rc['prediction_time'] * 1000:.3f} \\\\\\\\\"\n",
    ")\n",
    "\n",
    "print(\n",
    "    f\"n -> {rn['precision_score']:.3f} & \"\n",
    "    f\"{rn['recall_score']:.3f} & \"\n",
    "    f\"{rn['f1_score']:.3f} & \"\n",
    "    f\"{rn['threshold']:.3f} & \"\n",
    "    f\"{rn['prediction_time'] * 1000:.3f} \\\\\\\\\"\n",
    ")"
   ]
  },
  {
   "cell_type": "code",
   "execution_count": 9,
   "id": "9fe8e56b",
   "metadata": {},
   "outputs": [
    {
     "name": "stdout",
     "output_type": "stream",
     "text": [
      "c -> 0.635 & 0.635 & 0.635 & 0.276 & 0.732 \\\\\n",
      "n -> 0.721 & 0.721 & 0.721 & 0.399 & 1.320 \\\\\n"
     ]
    }
   ],
   "source": [
    "import joblib\n",
    "\n",
    "rc = joblib.load('../results/svc.k_rbf.oxc.lz4')\n",
    "rn = joblib.load('../results/svc.k_rbf.oxn.lz4')\n",
    "\n",
    "print(\n",
    "    f\"c -> {rc['precision_score']:.3f} & \"\n",
    "    f\"{rc['recall_score']:.3f} & \"\n",
    "    f\"{rc['f1_score']:.3f} & \"\n",
    "    f\"{rc['threshold']:.3f} & \"\n",
    "    f\"{rc['prediction_time'] * 1000:.3f} \\\\\\\\\"\n",
    ")\n",
    "\n",
    "print(\n",
    "    f\"n -> {rn['precision_score']:.3f} & \"\n",
    "    f\"{rn['recall_score']:.3f} & \"\n",
    "    f\"{rn['f1_score']:.3f} & \"\n",
    "    f\"{rn['threshold']:.3f} & \"\n",
    "    f\"{rn['prediction_time'] * 1000:.3f} \\\\\\\\\"\n",
    ")"
   ]
  },
  {
   "cell_type": "code",
   "execution_count": 19,
   "id": "38cbbbcb",
   "metadata": {},
   "outputs": [
    {
     "name": "stdout",
     "output_type": "stream",
     "text": [
      "c -> 0.568 & 0.508 & 0.536 & - & 0.333 \\\\\n",
      "n -> 0.666 & 0.643 & 0.654 & - & 0.380 \\\\\n"
     ]
    }
   ],
   "source": [
    "import joblib\n",
    "\n",
    "rc = joblib.load('../results/knn.m_minkowski.oxc.lz4')\n",
    "rn = joblib.load('../results/knn.m_minkowski.oxn.lz4')\n",
    "\n",
    "print(\n",
    "    f\"c -> {rc['precision_score']:.3f} & \"\n",
    "    f\"{rc['recall_score']:.3f} & \"\n",
    "    f\"{rc['f1_score']:.3f} & \"\n",
    "    f\"- & \"\n",
    "    f\"{rc['prediction_time'] * 1000:.3f} \\\\\\\\\"\n",
    ")\n",
    "\n",
    "print(\n",
    "    f\"n -> {rn['precision_score']:.3f} & \"\n",
    "    f\"{rn['recall_score']:.3f} & \"\n",
    "    f\"{rn['f1_score']:.3f} & \"\n",
    "    f\"- & \"\n",
    "    f\"{rn['prediction_time'] * 1000:.3f} \\\\\\\\\"\n",
    ")"
   ]
  },
  {
   "cell_type": "code",
   "execution_count": 20,
   "id": "447b9f51",
   "metadata": {},
   "outputs": [
    {
     "name": "stdout",
     "output_type": "stream",
     "text": [
      "c -> 0.568 & 0.508 & 0.536 & - & 0.331 \\\\\n",
      "n -> 0.666 & 0.643 & 0.654 & - & 0.384 \\\\\n"
     ]
    }
   ],
   "source": [
    "import joblib\n",
    "\n",
    "rc = joblib.load('../results/knn.m_euclidean.oxc.lz4')\n",
    "rn = joblib.load('../results/knn.m_euclidean.oxn.lz4')\n",
    "\n",
    "print(\n",
    "    f\"c -> {rc['precision_score']:.3f} & \"\n",
    "    f\"{rc['recall_score']:.3f} & \"\n",
    "    f\"{rc['f1_score']:.3f} & \"\n",
    "    f\"- & \"\n",
    "    f\"{rc['prediction_time'] * 1000:.3f} \\\\\\\\\"\n",
    ")\n",
    "\n",
    "print(\n",
    "    f\"n -> {rn['precision_score']:.3f} & \"\n",
    "    f\"{rn['recall_score']:.3f} & \"\n",
    "    f\"{rn['f1_score']:.3f} & \"\n",
    "    f\"- & \"\n",
    "    f\"{rn['prediction_time'] * 1000:.3f} \\\\\\\\\"\n",
    ")"
   ]
  },
  {
   "cell_type": "code",
   "execution_count": 21,
   "id": "32d4f126",
   "metadata": {},
   "outputs": [
    {
     "name": "stdout",
     "output_type": "stream",
     "text": [
      "c -> 0.567 & 0.507 & 0.535 & - & 1.280 \\\\\n",
      "n -> 0.666 & 0.641 & 0.653 & - & 1.486 \\\\\n"
     ]
    }
   ],
   "source": [
    "import joblib\n",
    "\n",
    "rc = joblib.load('../results/knn.m_manhattan.oxc.lz4')\n",
    "rn = joblib.load('../results/knn.m_manhattan.oxn.lz4')\n",
    "\n",
    "print(\n",
    "    f\"c -> {rc['precision_score']:.3f} & \"\n",
    "    f\"{rc['recall_score']:.3f} & \"\n",
    "    f\"{rc['f1_score']:.3f} & \"\n",
    "    f\"- & \"\n",
    "    f\"{rc['prediction_time'] * 1000:.3f} \\\\\\\\\"\n",
    ")\n",
    "\n",
    "print(\n",
    "    f\"n -> {rn['precision_score']:.3f} & \"\n",
    "    f\"{rn['recall_score']:.3f} & \"\n",
    "    f\"{rn['f1_score']:.3f} & \"\n",
    "    f\"- & \"\n",
    "    f\"{rn['prediction_time'] * 1000:.3f} \\\\\\\\\"\n",
    ")"
   ]
  },
  {
   "cell_type": "code",
   "execution_count": 22,
   "id": "961c6524",
   "metadata": {},
   "outputs": [
    {
     "name": "stdout",
     "output_type": "stream",
     "text": [
      "c -> 0.568 & 0.508 & 0.536 & - & 3.350 \\\\\n",
      "n -> 0.666 & 0.643 & 0.654 & - & 4.046 \\\\\n"
     ]
    }
   ],
   "source": [
    "import joblib\n",
    "\n",
    "rc = joblib.load('../results/knn.m_cosine.oxc.lz4')\n",
    "rn = joblib.load('../results/knn.m_cosine.oxn.lz4')\n",
    "\n",
    "print(\n",
    "    f\"c -> {rc['precision_score']:.3f} & \"\n",
    "    f\"{rc['recall_score']:.3f} & \"\n",
    "    f\"{rc['f1_score']:.3f} & \"\n",
    "    f\"- & \"\n",
    "    f\"{rc['prediction_time'] * 1000:.3f} \\\\\\\\\"\n",
    ")\n",
    "\n",
    "print(\n",
    "    f\"n -> {rn['precision_score']:.3f} & \"\n",
    "    f\"{rn['recall_score']:.3f} & \"\n",
    "    f\"{rn['f1_score']:.3f} & \"\n",
    "    f\"- & \"\n",
    "    f\"{rn['prediction_time'] * 1000:.3f} \\\\\\\\\"\n",
    ")"
   ]
  },
  {
   "cell_type": "code",
   "execution_count": 23,
   "id": "76a05dca",
   "metadata": {},
   "outputs": [
    {
     "name": "stdout",
     "output_type": "stream",
     "text": [
      "c -> 0.513 & 0.509 & 0.511 & - & 0.321 \\\\\n",
      "n -> 0.635 & 0.633 & 0.633 & - & 0.380 \\\\\n"
     ]
    }
   ],
   "source": [
    "import joblib\n",
    "\n",
    "rc = joblib.load('../results/knn.nn_1.oxc.lz4')\n",
    "rn = joblib.load('../results/knn.nn_1.oxn.lz4')\n",
    "\n",
    "print(\n",
    "    f\"c -> {rc['precision_score']:.3f} & \"\n",
    "    f\"{rc['recall_score']:.3f} & \"\n",
    "    f\"{rc['f1_score']:.3f} & \"\n",
    "    f\"- & \"\n",
    "    f\"{rc['prediction_time'] * 1000:.3f} \\\\\\\\\"\n",
    ")\n",
    "\n",
    "print(\n",
    "    f\"n -> {rn['precision_score']:.3f} & \"\n",
    "    f\"{rn['recall_score']:.3f} & \"\n",
    "    f\"{rn['f1_score']:.3f} & \"\n",
    "    f\"- & \"\n",
    "    f\"{rn['prediction_time'] * 1000:.3f} \\\\\\\\\"\n",
    ")"
   ]
  },
  {
   "cell_type": "code",
   "execution_count": 24,
   "id": "4c7b3452",
   "metadata": {},
   "outputs": [
    {
     "name": "stdout",
     "output_type": "stream",
     "text": [
      "c -> 0.568 & 0.508 & 0.536 & - & 0.336 \\\\\n",
      "n -> 0.666 & 0.643 & 0.654 & - & 0.373 \\\\\n"
     ]
    }
   ],
   "source": [
    "import joblib\n",
    "\n",
    "rc = joblib.load('../results/knn.nn_3.oxc.lz4')\n",
    "rn = joblib.load('../results/knn.nn_3.oxn.lz4')\n",
    "\n",
    "print(\n",
    "    f\"c -> {rc['precision_score']:.3f} & \"\n",
    "    f\"{rc['recall_score']:.3f} & \"\n",
    "    f\"{rc['f1_score']:.3f} & \"\n",
    "    f\"- & \"\n",
    "    f\"{rc['prediction_time'] * 1000:.3f} \\\\\\\\\"\n",
    ")\n",
    "\n",
    "print(\n",
    "    f\"n -> {rn['precision_score']:.3f} & \"\n",
    "    f\"{rn['recall_score']:.3f} & \"\n",
    "    f\"{rn['f1_score']:.3f} & \"\n",
    "    f\"- & \"\n",
    "    f\"{rn['prediction_time'] * 1000:.3f} \\\\\\\\\"\n",
    ")"
   ]
  },
  {
   "cell_type": "code",
   "execution_count": null,
   "id": "b5abb461",
   "metadata": {},
   "outputs": [],
   "source": []
  }
 ],
 "metadata": {
  "kernelspec": {
   "display_name": "gdal",
   "language": "python",
   "name": "python3"
  },
  "language_info": {
   "codemirror_mode": {
    "name": "ipython",
    "version": 3
   },
   "file_extension": ".py",
   "mimetype": "text/x-python",
   "name": "python",
   "nbconvert_exporter": "python",
   "pygments_lexer": "ipython3",
   "version": "3.11.14"
  }
 },
 "nbformat": 4,
 "nbformat_minor": 5
}
