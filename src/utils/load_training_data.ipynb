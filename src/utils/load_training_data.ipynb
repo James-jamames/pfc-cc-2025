{
 "cells": [
  {
   "cell_type": "markdown",
   "id": "18c3549b",
   "metadata": {},
   "source": [
    "## Load Sample Ships"
   ]
  },
  {
   "cell_type": "markdown",
   "id": "5a0aa0c7",
   "metadata": {},
   "source": [
    "## Load AlphaEarth Data"
   ]
  },
  {
   "cell_type": "code",
   "execution_count": null,
   "id": "f756810e",
   "metadata": {},
   "outputs": [
    {
     "ename": "",
     "evalue": "",
     "output_type": "error",
     "traceback": [
      "\u001b[1;31mRunning cells with '.venv (Python 3.12.10)' requires the ipykernel package.\n",
      "\u001b[1;31mInstall 'ipykernel' into the Python environment. \n",
      "\u001b[1;31mCommand: 'c:/Users/tiago/Documents/Workspace/UFG/pfc-cc-2025/.venv/Scripts/python.exe -m pip install ipykernel -U --force-reinstall'"
     ]
    }
   ],
   "source": [
    "import ee\n",
    "import requests\n",
    "from io import BytesIO"
   ]
  },
  {
   "cell_type": "code",
   "execution_count": null,
   "id": "afdda298",
   "metadata": {},
   "outputs": [],
   "source": [
    "ee.Authenticate()\n",
    "ee.Initialize(project=\"ee-tiagogoncalves\")"
   ]
  },
  {
   "cell_type": "code",
   "execution_count": null,
   "id": "7f56c9ff",
   "metadata": {},
   "outputs": [],
   "source": [
    "image = ee.ImageCollection(\"LANDSAT/LC09/C02/T1_TOA\") \\\n",
    "    .filterBounds(ee.Geometry.Point(-47.9292, -15.7801)) \\\n",
    "    .filterDate(\"2024-07-01\", \"2024-07-15\") \\\n",
    "    .sort(\"CLOUD_COVER\") \\\n",
    "    .first()\n",
    "\n",
    "# Definir uma região (256x256 m) — você pode ajustar o tamanho\n",
    "region = ee.Geometry.Rectangle([-47.95, -15.80, -47.90, -15.75])\n",
    "\n",
    "# Gerar URL de download como GeoTIFF\n",
    "url = image.getDownloadURL({\n",
    "    'region': region,\n",
    "    'scale': 30,\n",
    "    'format': 'GEO_TIFF',\n",
    "})\n",
    "\n",
    "# Fazer o download usando requests\n",
    "response = requests.get(url)\n",
    "with open(\"landsat_tile.tif\", \"wb\") as f:\n",
    "    f.write(response.content)\n",
    "\n",
    "print(\"Download concluído: landsat_tile.tif\")"
   ]
  },
  {
   "cell_type": "markdown",
   "id": "5e6baa81",
   "metadata": {},
   "source": [
    "## Load Satelite Data"
   ]
  }
 ],
 "metadata": {
  "kernelspec": {
   "display_name": ".venv",
   "language": "python",
   "name": "python3"
  },
  "language_info": {
   "name": "python",
   "version": "3.12.10"
  }
 },
 "nbformat": 4,
 "nbformat_minor": 5
}
