{
 "cells": [
  {
   "cell_type": "markdown",
   "id": "18c3549b",
   "metadata": {},
   "source": [
    "# Download GPKG"
   ]
  },
  {
   "cell_type": "markdown",
   "id": "3e5b6cc4",
   "metadata": {},
   "source": [
    "## Grid"
   ]
  },
  {
   "cell_type": "code",
   "execution_count": null,
   "id": "d3be2c5a",
   "metadata": {},
   "outputs": [],
   "source": [
    "import os\n",
    "import requests\n",
    "\n",
    "DATA_PATH = \"C:/Users/tiago/Documents/Workspace/UFG/pfc-cc-2025/data\"\n",
    "os.makedirs(DATA_PATH, exist_ok=True)\n",
    "\n",
    "url = \"https://zenodo.org/records/15631655/files/gpw_grassland_fscs.vi.vhr_grid.samples_20000101_20241231_go_epsg.4326_v2.gpkg?download=1\"\n",
    "\n",
    "filename = os.path.join(DATA_PATH, \"gpw_grassland_fscs.vi.vhr_grid.samples_20000101_20241231_go_epsg.4326_v2.gpkg\")\n",
    "\n",
    "response = requests.get(url, stream=True)\n",
    "response.raise_for_status()\n",
    "\n",
    "with open(filename, \"wb\") as f:\n",
    "    for chunk in response.iter_content(chunk_size=8192):\n",
    "        f.write(chunk)\n",
    "\n",
    "print(f\"Download concluído: {filename}\")"
   ]
  },
  {
   "cell_type": "markdown",
   "id": "21121113",
   "metadata": {},
   "source": [
    "## Tile"
   ]
  },
  {
   "cell_type": "code",
   "execution_count": null,
   "id": "97f7be24",
   "metadata": {},
   "outputs": [],
   "source": [
    "import os\n",
    "import requests\n",
    "\n",
    "DATA_PATH = \"C:/Users/tiago/Documents/Workspace/UFG/pfc-cc-2025/data\"\n",
    "os.makedirs(DATA_PATH, exist_ok=True)\n",
    "\n",
    "url = \"https://zenodo.org/records/15631655/files/gpw_grassland_fscs.vi.vhr_tile.samples_20000101_20241231_go_epsg.4326_v1.gpkg?download=1\"\n",
    "\n",
    "filename = os.path.join(DATA_PATH, \"gpw_grassland_samples.gpkg\")\n",
    "\n",
    "response = requests.get(url, stream=True)\n",
    "response.raise_for_status()\n",
    "\n",
    "with open(filename, \"wb\") as f:\n",
    "    for chunk in response.iter_content(chunk_size=8192):\n",
    "        f.write(chunk)\n",
    "\n",
    "print(f\"Download concluído: {filename}\")"
   ]
  },
  {
   "cell_type": "markdown",
   "id": "5a0aa0c7",
   "metadata": {},
   "source": [
    "# Retreive AlphaEarth Images"
   ]
  },
  {
   "cell_type": "code",
   "execution_count": 2,
   "id": "afdda298",
   "metadata": {},
   "outputs": [
    {
     "name": "stderr",
     "output_type": "stream",
     "text": [
      "*** Earth Engine *** Share your feedback by taking our Annual Developer Satisfaction Survey: https://google.qualtrics.com/jfe/form/SV_7TDKVSyKvBdmMqW?ref=4i2o6\n"
     ]
    }
   ],
   "source": [
    "import ee\n",
    "\n",
    "ee.Authenticate()\n",
    "ee.Initialize(project=\"ee-tiagogoncalves\")"
   ]
  },
  {
   "cell_type": "code",
   "execution_count": 3,
   "id": "4bf1cb61",
   "metadata": {},
   "outputs": [],
   "source": [
    "import os\n",
    "import geopandas as gpd\n",
    "\n",
    "DATA_PATH = \"C:/Users/tiago/Documents/Workspace/UFG/pfc-cc-2025/data\"\n",
    "FEATURE_PATH = \"C:/Users/tiago/Documents/Workspace/UFG/pfc-cc-2025/data/gee_images\"\n",
    "\n",
    "os.makedirs(FEATURE_PATH, exist_ok=True)"
   ]
  },
  {
   "cell_type": "code",
   "execution_count": null,
   "id": "254bbc29",
   "metadata": {},
   "outputs": [],
   "source": [
    "def get_download_url(geometry, year):\n",
    "    left_bottom = [geometry[0], geometry[1]]\n",
    "    right_top = [geometry[2], geometry[3]]\n",
    "\n",
    "    geometry = ee.Geometry.Rectangle([left_bottom, right_top])\n",
    "\n",
    "    s_date = ee.Date.fromYMD(year, 1, 1)\n",
    "    e_date = s_date.advance(1, 'year')\n",
    "                \n",
    "    collection = ee.ImageCollection(\"GOOGLE/SATELLITE_EMBEDDING/V1/ANNUAL\")\n",
    "    \n",
    "    image = collection.filterBounds(geometry).filterDate(s_date, e_date).first()\n",
    "    \n",
    "    return image.getDownloadURL({\n",
    "        'scale': 10,\n",
    "        'region': geometry,\n",
    "        'format': 'GEO_TIFF'\n",
    "    })\n",
    "\n",
    "\n",
    "def download_from_url(filename, url):\n",
    "    import requests\n",
    "    response = requests.get(url)\n",
    "\n",
    "    output_filename = f\"{filename}.tif\"\n",
    "    output_path = os.path.join(FEATURE_PATH, output_filename)\n",
    "    \n",
    "    if response.status_code == 200:\n",
    "        with open(output_path, 'wb') as f:\n",
    "            f.write(response.content)\n",
    "        print(f\"    ✓ Salvo: {filename}\")\n",
    "    else:\n",
    "        print(f\"    ❌ Erro ao baixar: Status {response.status_code}\")"
   ]
  },
  {
   "cell_type": "code",
   "execution_count": 6,
   "id": "b37507c8",
   "metadata": {},
   "outputs": [],
   "source": [
    "gpw_grassland_samples = gpd.read_file(os.path.join(DATA_PATH, \"gpw_grassland_fscs.vi.vhr_tile.samples_20000101_20241231_go_epsg.4326_v1.gpkg\"))\n",
    "\n",
    "gpw_grassland_samples_espg_4326 = gpw_grassland_samples.to_crs(\"EPSG:4326\")"
   ]
  },
  {
   "cell_type": "code",
   "execution_count": 10,
   "id": "1866f5f9",
   "metadata": {},
   "outputs": [
    {
     "name": "stdout",
     "output_type": "stream",
     "text": [
      "Baixando imagem para tile_id: 1-mvp (índice 0)...\n",
      "    ❌ Erro ao baixar a imagem: Bands parameter must be a list.. Tentando novamente...\n",
      "Baixando imagem para tile_id: 1-mvp (índice 0)...\n",
      "    ❌ Erro ao baixar a imagem: Bands parameter must be a list.. Tentando novamente...\n"
     ]
    },
    {
     "ename": "KeyboardInterrupt",
     "evalue": "",
     "output_type": "error",
     "traceback": [
      "\u001b[31m---------------------------------------------------------------------------\u001b[39m",
      "\u001b[31mEEException\u001b[39m                               Traceback (most recent call last)",
      "\u001b[36mCell\u001b[39m\u001b[36m \u001b[39m\u001b[32mIn[10]\u001b[39m\u001b[32m, line 10\u001b[39m\n\u001b[32m      8\u001b[39m \u001b[38;5;28mprint\u001b[39m(\u001b[33mf\u001b[39m\u001b[33m\"\u001b[39m\u001b[33mBaixando imagem para tile_id: \u001b[39m\u001b[38;5;132;01m{\u001b[39;00mrow.vi_tile_id\u001b[38;5;132;01m}\u001b[39;00m\u001b[33m (índice \u001b[39m\u001b[38;5;132;01m{\u001b[39;00midx\u001b[38;5;132;01m}\u001b[39;00m\u001b[33m)...\u001b[39m\u001b[33m\"\u001b[39m)\n\u001b[32m---> \u001b[39m\u001b[32m10\u001b[39m url = \u001b[43mget_download_url\u001b[49m\u001b[43m(\u001b[49m\u001b[43mgeometry\u001b[49m\u001b[43m,\u001b[49m\u001b[43m \u001b[49m\u001b[32;43m2024\u001b[39;49m\u001b[43m)\u001b[49m\n\u001b[32m     12\u001b[39m \u001b[38;5;28mprint\u001b[39m(\u001b[33mf\u001b[39m\u001b[33m\"\u001b[39m\u001b[33m  URL obtida, iniciando download... \u001b[39m\u001b[38;5;132;01m{\u001b[39;00murl\u001b[38;5;132;01m}\u001b[39;00m\u001b[33m\"\u001b[39m)\n",
      "\u001b[36mCell\u001b[39m\u001b[36m \u001b[39m\u001b[32mIn[4]\u001b[39m\u001b[32m, line 14\u001b[39m, in \u001b[36mget_download_url\u001b[39m\u001b[34m(geometry, year)\u001b[39m\n\u001b[32m     12\u001b[39m image = collection.filterBounds(geometry).filterDate(s_date, e_date).first()\n\u001b[32m---> \u001b[39m\u001b[32m14\u001b[39m \u001b[38;5;28;01mreturn\u001b[39;00m \u001b[43mimage\u001b[49m\u001b[43m.\u001b[49m\u001b[43mgetDownloadURL\u001b[49m\u001b[43m(\u001b[49m\u001b[43m{\u001b[49m\n\u001b[32m     15\u001b[39m \u001b[43m    \u001b[49m\u001b[33;43m'\u001b[39;49m\u001b[33;43mbands\u001b[39;49m\u001b[33;43m'\u001b[39;49m\u001b[43m:\u001b[49m\u001b[43m \u001b[49m\u001b[43m{\u001b[49m\n\u001b[32m     16\u001b[39m \u001b[43m        \u001b[49m\u001b[33;43m'\u001b[39;49m\u001b[33;43mcrs\u001b[39;49m\u001b[33;43m'\u001b[39;49m\u001b[43m:\u001b[49m\u001b[43m \u001b[49m\u001b[33;43m'\u001b[39;49m\u001b[33;43mEPSG:4326\u001b[39;49m\u001b[33;43m'\u001b[39;49m\u001b[43m,\u001b[49m\n\u001b[32m     17\u001b[39m \u001b[43m    \u001b[49m\u001b[43m}\u001b[49m\u001b[43m,\u001b[49m\n\u001b[32m     18\u001b[39m \u001b[43m    \u001b[49m\u001b[33;43m'\u001b[39;49m\u001b[33;43mscale\u001b[39;49m\u001b[33;43m'\u001b[39;49m\u001b[43m:\u001b[49m\u001b[43m \u001b[49m\u001b[32;43m10\u001b[39;49m\u001b[43m,\u001b[49m\n\u001b[32m     19\u001b[39m \u001b[43m    \u001b[49m\u001b[33;43m'\u001b[39;49m\u001b[33;43mregion\u001b[39;49m\u001b[33;43m'\u001b[39;49m\u001b[43m:\u001b[49m\u001b[43m \u001b[49m\u001b[43mgeometry\u001b[49m\u001b[43m,\u001b[49m\n\u001b[32m     20\u001b[39m \u001b[43m    \u001b[49m\u001b[33;43m'\u001b[39;49m\u001b[33;43mformat\u001b[39;49m\u001b[33;43m'\u001b[39;49m\u001b[43m:\u001b[49m\u001b[43m \u001b[49m\u001b[33;43m'\u001b[39;49m\u001b[33;43mGEO_TIFF\u001b[39;49m\u001b[33;43m'\u001b[39;49m\n\u001b[32m     21\u001b[39m \u001b[43m\u001b[49m\u001b[43m}\u001b[49m\u001b[43m)\u001b[49m\n",
      "\u001b[36mFile \u001b[39m\u001b[32mc:\\Users\\tiago\\Documents\\Workspace\\UFG\\pfc-cc-2025\\.venv\\Lib\\site-packages\\ee\\image.py:517\u001b[39m, in \u001b[36mImage.getDownloadURL\u001b[39m\u001b[34m(self, params)\u001b[39m\n\u001b[32m    516\u001b[39m request[\u001b[33m'\u001b[39m\u001b[33mimage\u001b[39m\u001b[33m'\u001b[39m] = \u001b[38;5;28mself\u001b[39m\n\u001b[32m--> \u001b[39m\u001b[32m517\u001b[39m \u001b[38;5;28;01mreturn\u001b[39;00m data.makeDownloadUrl(\u001b[43mdata\u001b[49m\u001b[43m.\u001b[49m\u001b[43mgetDownloadId\u001b[49m\u001b[43m(\u001b[49m\u001b[43mrequest\u001b[49m\u001b[43m)\u001b[49m)\n",
      "\u001b[36mFile \u001b[39m\u001b[32mc:\\Users\\tiago\\Documents\\Workspace\\UFG\\pfc-cc-2025\\.venv\\Lib\\site-packages\\ee\\data.py:1355\u001b[39m, in \u001b[36mgetDownloadId\u001b[39m\u001b[34m(params)\u001b[39m\n\u001b[32m   1354\u001b[39m \u001b[38;5;28;01mif\u001b[39;00m \u001b[38;5;129;01mnot\u001b[39;00m \u001b[38;5;28misinstance\u001b[39m(bands, \u001b[38;5;28mlist\u001b[39m):\n\u001b[32m-> \u001b[39m\u001b[32m1355\u001b[39m   \u001b[38;5;28;01mraise\u001b[39;00m ee_exception.EEException(\u001b[33m'\u001b[39m\u001b[33mBands parameter must be a list.\u001b[39m\u001b[33m'\u001b[39m)\n\u001b[32m   1356\u001b[39m \u001b[38;5;28;01mif\u001b[39;00m \u001b[38;5;28mall\u001b[39m(\u001b[38;5;28misinstance\u001b[39m(band, \u001b[38;5;28mstr\u001b[39m) \u001b[38;5;28;01mfor\u001b[39;00m band \u001b[38;5;129;01min\u001b[39;00m bands):\n\u001b[32m   1357\u001b[39m   \u001b[38;5;66;03m# Support expressing the bands list as a list of strings.\u001b[39;00m\n",
      "\u001b[31mEEException\u001b[39m: Bands parameter must be a list.",
      "\nDuring handling of the above exception, another exception occurred:\n",
      "\u001b[31mKeyboardInterrupt\u001b[39m                         Traceback (most recent call last)",
      "\u001b[36mCell\u001b[39m\u001b[36m \u001b[39m\u001b[32mIn[10]\u001b[39m\u001b[32m, line 19\u001b[39m\n\u001b[32m     17\u001b[39m         \u001b[38;5;28;01mexcept\u001b[39;00m \u001b[38;5;167;01mException\u001b[39;00m \u001b[38;5;28;01mas\u001b[39;00m e:\n\u001b[32m     18\u001b[39m             \u001b[38;5;28mprint\u001b[39m(\u001b[33mf\u001b[39m\u001b[33m\"\u001b[39m\u001b[33m    ❌ Erro ao baixar a imagem: \u001b[39m\u001b[38;5;132;01m{\u001b[39;00me\u001b[38;5;132;01m}\u001b[39;00m\u001b[33m. Tentando novamente...\u001b[39m\u001b[33m\"\u001b[39m)\n\u001b[32m---> \u001b[39m\u001b[32m19\u001b[39m             \u001b[43msleep\u001b[49m\u001b[43m(\u001b[49m\u001b[32;43m2\u001b[39;49m\u001b[43m)\u001b[49m\n\u001b[32m     21\u001b[39m \u001b[38;5;28mprint\u001b[39m(\u001b[33m\"\u001b[39m\u001b[33m✅ Processamento concluído!\u001b[39m\u001b[33m\"\u001b[39m)\n\u001b[32m     23\u001b[39m saved_files = [f \u001b[38;5;28;01mfor\u001b[39;00m f \u001b[38;5;129;01min\u001b[39;00m os.listdir(FEATURE_PATH) \u001b[38;5;28;01mif\u001b[39;00m f.endswith(\u001b[33m'\u001b[39m\u001b[33m.tif\u001b[39m\u001b[33m'\u001b[39m)]\n",
      "\u001b[31mKeyboardInterrupt\u001b[39m: "
     ]
    }
   ],
   "source": [
    "from time import sleep\n",
    "\n",
    "for idx, row in gpw_grassland_samples_espg_4326.iterrows():\n",
    "    geometry = row.geometry.bounds\n",
    "\n",
    "    for _ in range(2):\n",
    "        try:\n",
    "            print(f\"Baixando imagem para tile_id: {row.vi_tile_id} (índice {idx})...\")\n",
    "\n",
    "            url = get_download_url(geometry, 2024)\n",
    "\n",
    "            print(f\"  URL obtida, iniciando download... {url}\")\n",
    "\n",
    "            download_from_url(row.vi_tile_id, url)\n",
    "\n",
    "            break\n",
    "        except Exception as e:\n",
    "            print(f\"    ❌ Erro ao baixar a imagem: {e}. Tentando novamente...\")\n",
    "            sleep(2)\n",
    "\n",
    "print(\"✅ Processamento concluído!\")\n",
    "\n",
    "saved_files = [f for f in os.listdir(FEATURE_PATH) if f.endswith('.tif')]\n",
    "print(f\"Total de arquivos GeoTIFF salvos: {len(saved_files)}\")"
   ]
  }
 ],
 "metadata": {
  "kernelspec": {
   "display_name": ".venv",
   "language": "python",
   "name": "python3"
  },
  "language_info": {
   "codemirror_mode": {
    "name": "ipython",
    "version": 3
   },
   "file_extension": ".py",
   "mimetype": "text/x-python",
   "name": "python",
   "nbconvert_exporter": "python",
   "pygments_lexer": "ipython3",
   "version": "3.12.10"
  }
 },
 "nbformat": 4,
 "nbformat_minor": 5
}
