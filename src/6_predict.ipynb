{
 "cells": [
  {
   "cell_type": "markdown",
   "id": "1c5e97e9",
   "metadata": {},
   "source": [
    "# Tools"
   ]
  },
  {
   "cell_type": "code",
   "execution_count": 1,
   "id": "d9dd5723",
   "metadata": {},
   "outputs": [],
   "source": [
    "from pathlib import Path\n",
    "\n",
    "MODELS_DIR = Path(\"../models\")\n",
    "SAMPLES_DIR = Path(\"../data\")\n",
    "OUTPUT_DIR = Path(\"../results\")\n",
    "OUTPUT_DIR.mkdir(exist_ok=True)"
   ]
  },
  {
   "cell_type": "code",
   "execution_count": 2,
   "id": "839e9ac0",
   "metadata": {},
   "outputs": [],
   "source": [
    "import time\n",
    "import joblib\n",
    "import numpy as np\n",
    "import pandas as pd\n",
    "import pyarrow.dataset as ds\n",
    "\n",
    "from pathlib import Path\n",
    "\n",
    "from sklearn.metrics import precision_score, recall_score, f1_score, precision_recall_curve"
   ]
  },
  {
   "cell_type": "code",
   "execution_count": 3,
   "id": "d61f4575",
   "metadata": {},
   "outputs": [],
   "source": [
    "def load_samples(itter: int, class_name: str) -> pd.DataFrame:\n",
    "    target_value = {'oxc': 1, 'oxn': 2, 'oxs': 3}[class_name]\n",
    "\n",
    "    dataset = ds.dataset(Path('../data') / f\"{itter:02}_samples_test.pq\", format=\"parquet\")\n",
    "    table = dataset.to_table(filter=ds.field('class').isin(range(0, target_value + 1, target_value)))\n",
    "\n",
    "    samples = table.to_pandas()\n",
    "\n",
    "    samples['class'] = samples['class'].apply(lambda x: x // target_value)\n",
    "    \n",
    "    return samples"
   ]
  },
  {
   "cell_type": "code",
   "execution_count": 4,
   "id": "6a8c3455",
   "metadata": {},
   "outputs": [],
   "source": [
    "def get_optimal_threshold(y, y_hat_prob):\n",
    "    precision, recall, threshold = precision_recall_curve(y, y_hat_prob)\n",
    "    \n",
    "    nonzero_mask = np.logical_and((precision != 0.0), (recall != 0.0))\n",
    "    \n",
    "    optimal_idx = np.argmax(1 - np.abs(precision[nonzero_mask] - recall[nonzero_mask]))\n",
    "    \n",
    "    return threshold[optimal_idx]"
   ]
  },
  {
   "cell_type": "markdown",
   "id": "9d786030",
   "metadata": {},
   "source": [
    "# Predições"
   ]
  },
  {
   "cell_type": "code",
   "execution_count": 5,
   "id": "3794ea02",
   "metadata": {},
   "outputs": [],
   "source": [
    "CLASS_NAMES = ['oxc', 'oxn']\n",
    "\n",
    "COVARIATES = [f'B{i:02}' for i in range(1, 65)]"
   ]
  },
  {
   "cell_type": "markdown",
   "id": "264e5d86",
   "metadata": {},
   "source": [
    "## RandomForest"
   ]
  },
  {
   "cell_type": "code",
   "execution_count": null,
   "id": "7bf154ca",
   "metadata": {},
   "outputs": [
    {
     "name": "stderr",
     "output_type": "stream",
     "text": [
      "Exception ignored in: <_io.BufferedReader>\n",
      "Traceback (most recent call last):\n",
      "  File \"c:\\Users\\Tiago\\anaconda3\\envs\\gdal\\Lib\\site-packages\\lz4\\frame\\__init__.py\", line 753, in flush\n",
      "    self._fp.flush()\n",
      "ValueError: I/O operation on closed file.\n",
      "Exception ignored in: <_io.BufferedReader>\n",
      "Traceback (most recent call last):\n",
      "  File \"c:\\Users\\Tiago\\anaconda3\\envs\\gdal\\Lib\\site-packages\\lz4\\frame\\__init__.py\", line 753, in flush\n",
      "    self._fp.flush()\n",
      "ValueError: I/O operation on closed file.\n"
     ]
    }
   ],
   "source": [
    "for class_name in CLASS_NAMES:\n",
    "    model_path = MODELS_DIR / f\"rf.{class_name}.lz4\"\n",
    "    model_dict = joblib.load(model_path)\n",
    "\n",
    "    y = []\n",
    "    y_hat_prob = []\n",
    "    time_records = []\n",
    "\n",
    "    for itter in range(5):\n",
    "        model = model_dict[itter]['model']\n",
    "\n",
    "        samples = load_samples(itter+1, class_name)\n",
    "\n",
    "        s_time = time.time()\n",
    "\n",
    "        model.predict_proba(samples[COVARIATES])\n",
    "\n",
    "        time_records.append(time.time() - s_time)\n",
    "        y.extend(samples['class'].to_list())\n",
    "        y_hat_prob.extend(model.predict_proba(samples[COVARIATES])[:,1])\n",
    "\n",
    "    threshold = get_optimal_threshold(y, y_hat_prob)\n",
    "\n",
    "    y_hat = (np.array(y_hat_prob) >= threshold).astype(int)\n",
    "\n",
    "    joblib.dump({\n",
    "        'threshold': threshold,\n",
    "        'f1_score': f1_score(y, y_hat),\n",
    "        'recall_score': recall_score(y, y_hat),\n",
    "        'precision_score': precision_score(y, y_hat),\n",
    "        'time_records': time_records\n",
    "    }, OUTPUT_DIR / f\"rf.{class_name}.lz4\")"
   ]
  },
  {
   "cell_type": "markdown",
   "id": "f61d8ca9",
   "metadata": {},
   "source": [
    "## KNeighborsClassifier"
   ]
  },
  {
   "cell_type": "code",
   "execution_count": null,
   "id": "82edfcb6",
   "metadata": {},
   "outputs": [],
   "source": [
    "for class_name in CLASS_NAMES:\n",
    "    for metric in ['minkowski', 'euclidean', 'manhattan', 'cosine']:\n",
    "        filename = f\"knn.m_{metric}.{class_name}.lz4\"\n",
    "\n",
    "        if (OUTPUT_DIR / filename).exists():\n",
    "            continue\n",
    "\n",
    "        model_path = MODELS_DIR / filename\n",
    "        model_dict = joblib.load(model_path)\n",
    "\n",
    "        y = []\n",
    "        y_hat = []\n",
    "        time_records = []\n",
    "\n",
    "        for itter in range(5):\n",
    "            model = model_dict[itter]['model']\n",
    "\n",
    "            samples = load_samples(itter+1, class_name).sample(frac=0.1)\n",
    "\n",
    "            s_time = time.time()\n",
    "\n",
    "            model.predict(samples[COVARIATES])\n",
    "\n",
    "            time_records.append(time.time() - s_time)\n",
    "            y.extend(samples['class'].to_list())\n",
    "            y_hat.extend(model.predict(samples[COVARIATES]))\n",
    "\n",
    "            print(time.time() - s_time, \"Terminado - \", itter)\n",
    "\n",
    "        joblib.dump({\n",
    "            'threshold': None,\n",
    "            'f1_score': f1_score(y, y_hat),\n",
    "            'recall_score': recall_score(y, y_hat),\n",
    "            'precision_score': precision_score(y, y_hat),\n",
    "            'time_records': time_records\n",
    "        }, OUTPUT_DIR / filename)\n",
    "\n",
    "        break"
   ]
  },
  {
   "cell_type": "code",
   "execution_count": null,
   "id": "73efad2f",
   "metadata": {},
   "outputs": [],
   "source": [
    "for class_name in CLASS_NAMES:\n",
    "    for n_neighbors in [1, 3]:\n",
    "        filename = f\"knn.nn_{n_neighbors}.{class_name}.lz4\"\n",
    "\n",
    "        model_path = MODELS_DIR / filename\n",
    "        model_dict = joblib.load(model_path)\n",
    "\n",
    "        y = []\n",
    "        y_hat = []\n",
    "        time_records = []\n",
    "\n",
    "        for itter in range(5):\n",
    "            model = model_dict[itter]['model']\n",
    "\n",
    "            samples = load_samples(itter+1, class_name)\n",
    "\n",
    "            s_time = time.time()\n",
    "\n",
    "            model.predict(samples[COVARIATES])\n",
    "\n",
    "            time_records.append(time.time() - s_time)\n",
    "            y.extend(samples['class'].to_list())\n",
    "            y_hat.extend(model.predict(samples[COVARIATES]))\n",
    "\n",
    "        joblib.dump({\n",
    "            'threshold': None,\n",
    "            'f1_score': f1_score(y, y_hat),\n",
    "            'recall_score': recall_score(y, y_hat),\n",
    "            'precision_score': precision_score(y, y_hat),\n",
    "            'time_records': time_records\n",
    "        }, OUTPUT_DIR / filename)"
   ]
  },
  {
   "cell_type": "markdown",
   "id": "f96a5c59",
   "metadata": {},
   "source": [
    "## SVC"
   ]
  },
  {
   "cell_type": "code",
   "execution_count": null,
   "id": "35ae2120",
   "metadata": {},
   "outputs": [],
   "source": [
    "for class_name in CLASS_NAMES:\n",
    "    for kernel in ['linear', 'poly', 'rbf']:\n",
    "        filename = f\"svc.k_{kernel}.{class_name}.lz4\"\n",
    "\n",
    "        model_path = MODELS_DIR / filename\n",
    "        model_dict = joblib.load(model_path)\n",
    "\n",
    "        y = []\n",
    "        y_hat_prob = []\n",
    "        time_records = []\n",
    "\n",
    "        for itter in range(5):\n",
    "            model = model_dict[itter]['model']\n",
    "\n",
    "            samples = load_samples(itter+1, class_name)\n",
    "\n",
    "            s_time = time.time()\n",
    "\n",
    "            model.predict_proba(samples[COVARIATES])\n",
    "\n",
    "            time_records.append(time.time() - s_time)\n",
    "            y.extend(samples['class'].to_list())\n",
    "            y_hat_prob.extend(model.predict_proba(samples[COVARIATES])[:,1])\n",
    "\n",
    "        threshold = get_optimal_threshold(y, y_hat_prob)\n",
    "\n",
    "        y_hat = (np.array(y_hat_prob) >= threshold).astype(int)\n",
    "\n",
    "        joblib.dump({\n",
    "            'threshold': threshold,\n",
    "            'f1_score': f1_score(y, y_hat),\n",
    "            'recall_score': recall_score(y, y_hat),\n",
    "            'precision_score': precision_score(y, y_hat),\n",
    "            'time_records': time_records\n",
    "        }, OUTPUT_DIR / filename)"
   ]
  }
 ],
 "metadata": {
  "kernelspec": {
   "display_name": "gdal",
   "language": "python",
   "name": "python3"
  },
  "language_info": {
   "codemirror_mode": {
    "name": "ipython",
    "version": 3
   },
   "file_extension": ".py",
   "mimetype": "text/x-python",
   "name": "python",
   "nbconvert_exporter": "python",
   "pygments_lexer": "ipython3",
   "version": "3.11.14"
  }
 },
 "nbformat": 4,
 "nbformat_minor": 5
}
