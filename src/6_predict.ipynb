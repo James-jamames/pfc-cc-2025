{
 "cells": [
  {
   "cell_type": "markdown",
   "id": "1c5e97e9",
   "metadata": {},
   "source": [
    "# Tools"
   ]
  },
  {
   "cell_type": "code",
   "execution_count": 1,
   "id": "d9dd5723",
   "metadata": {},
   "outputs": [],
   "source": [
    "from pathlib import Path\n",
    "\n",
    "MODELS_DIR = Path(\"../models\")\n",
    "SAMPLES_DIR = Path(\"../data\")\n",
    "OUTPUT_DIR = Path(\"../results\")\n",
    "OUTPUT_DIR.mkdir(exist_ok=True)"
   ]
  },
  {
   "cell_type": "code",
   "execution_count": 2,
   "id": "839e9ac0",
   "metadata": {},
   "outputs": [],
   "source": [
    "import time\n",
    "import joblib\n",
    "import numpy as np\n",
    "import pandas as pd\n",
    "import pyarrow.dataset as ds\n",
    "\n",
    "from joblib import Parallel, delayed\n",
    "\n",
    "from sklearn.metrics import precision_score, recall_score, f1_score, precision_recall_curve"
   ]
  },
  {
   "cell_type": "code",
   "execution_count": 3,
   "id": "ede74b07",
   "metadata": {},
   "outputs": [],
   "source": [
    "CLASS_NAMES = ['oxc', 'oxn']\n",
    "\n",
    "COVARIATES = [f'B{i:02}' for i in range(1, 65)]"
   ]
  },
  {
   "cell_type": "code",
   "execution_count": 4,
   "id": "d61f4575",
   "metadata": {},
   "outputs": [],
   "source": [
    "def load_samples(itter: int, class_name: str) -> pd.DataFrame:\n",
    "    target_value = {'oxc': 1, 'oxn': 2, 'oxs': 3}[class_name]\n",
    "\n",
    "    dataset = ds.dataset(Path('../data') / f\"{itter:02}_samples_test.pq\", format=\"parquet\")\n",
    "    table = dataset.to_table(filter=ds.field('class').isin(range(0, target_value + 1, target_value)))\n",
    "\n",
    "    samples = table.to_pandas()\n",
    "\n",
    "    samples['class'] = samples['class'].apply(lambda x: x // target_value)\n",
    "    \n",
    "    return samples"
   ]
  },
  {
   "cell_type": "code",
   "execution_count": 5,
   "id": "6a8c3455",
   "metadata": {},
   "outputs": [],
   "source": [
    "def get_optimal_threshold(y, y_hat_prob):\n",
    "    precision, recall, threshold = precision_recall_curve(y, y_hat_prob)\n",
    "    \n",
    "    nonzero_mask = np.logical_and((precision != 0.0), (recall != 0.0))\n",
    "    \n",
    "    optimal_idx = np.argmax(1 - np.abs(precision[nonzero_mask] - recall[nonzero_mask]))\n",
    "    \n",
    "    return threshold[optimal_idx]"
   ]
  },
  {
   "cell_type": "code",
   "execution_count": null,
   "id": "45bdddd5",
   "metadata": {},
   "outputs": [],
   "source": [
    "N_JOBS = 10\n",
    "\n",
    "def predict_proba_batch(model, X_batch):\n",
    "    s_time = time.time()\n",
    "\n",
    "    y = X_batch['class']\n",
    "    y_hat_proba = model.predict_proba(X_batch[COVARIATES])[:,1]\n",
    "\n",
    "    return {\n",
    "        'y': y,\n",
    "        'y_hat_proba': y_hat_proba,\n",
    "        'prediction_delay': time.time() - s_time,\n",
    "        'batch_size': len(y)\n",
    "    }\n",
    "\n",
    "def predict_proba_parallel(model, X_valid):\n",
    "    batch_size = len(X_valid) // N_JOBS\n",
    "\n",
    "    results = Parallel(n_jobs=N_JOBS)(\n",
    "        delayed(predict_proba_batch)(model, X_valid[i:i+batch_size])\n",
    "        for i in range(0, len(X_valid), batch_size)\n",
    "    )\n",
    "\n",
    "    y = np.concatenate([result['y'] for result in results])\n",
    "    y_hat_proba = np.concatenate([result['y_hat_proba'] for result in results])\n",
    "    prediction_delay = [result['prediction_delay'] for result in results]\n",
    "    batch_size = [result['batch_size'] for result in results]\n",
    "\n",
    "    threshold = get_optimal_threshold(y, y_hat_proba)\n",
    "\n",
    "    y_hat = (np.array(y_hat_proba) >= threshold).astype(int)\n",
    "    \n",
    "    return {\n",
    "        'threshold': threshold,\n",
    "        'f1_score': f1_score(y, y_hat),\n",
    "        'recall_score': recall_score(y, y_hat),\n",
    "        'precision_score': precision_score(y, y_hat),\n",
    "        'prediction_delay': np.mean([t / b for t, b in zip(prediction_delay, batch_size)])\n",
    "    }"
   ]
  },
  {
   "cell_type": "markdown",
   "id": "264e5d86",
   "metadata": {},
   "source": [
    "## RandomForest"
   ]
  },
  {
   "cell_type": "code",
   "execution_count": null,
   "id": "7bf154ca",
   "metadata": {},
   "outputs": [
    {
     "name": "stderr",
     "output_type": "stream",
     "text": [
      "Exception ignored in: <_io.BufferedReader>\n",
      "Traceback (most recent call last):\n",
      "  File \"c:\\Users\\Tiago\\anaconda3\\envs\\gdal\\Lib\\site-packages\\lz4\\frame\\__init__.py\", line 753, in flush\n",
      "    self._fp.flush()\n",
      "ValueError: I/O operation on closed file.\n",
      "Exception ignored in: <_io.BufferedReader>\n",
      "Traceback (most recent call last):\n",
      "  File \"c:\\Users\\Tiago\\anaconda3\\envs\\gdal\\Lib\\site-packages\\lz4\\frame\\__init__.py\", line 753, in flush\n",
      "    self._fp.flush()\n",
      "ValueError: I/O operation on closed file.\n"
     ]
    }
   ],
   "source": [
    "for class_name in CLASS_NAMES:\n",
    "    filename = f\"rf.{class_name}.lz4\"\n",
    "\n",
    "    model_path = MODELS_DIR / filename\n",
    "    model_dict = joblib.load(model_path)\n",
    "\n",
    "    results = []\n",
    "\n",
    "    for itter in range(5):\n",
    "        model = model_dict[itter]['model']\n",
    "\n",
    "        samples = load_samples(itter+1, class_name)\n",
    "\n",
    "        results.append(predict_proba_parallel(model, samples))\n",
    "\n",
    "    joblib.dump({\n",
    "        'threshold': np.mean([result['threshold'] for result in results]),\n",
    "        'f1_score': np.mean([result['f1_score'] for result in results]),\n",
    "        'recall_score': np.mean([result['recall_score'] for result in results]),\n",
    "        'precision_score': np.mean([result['precision_score'] for result in results]),\n",
    "        'prediction_delay': np.mean([result['prediction_delay'] for result in results]),\n",
    "        'results': results\n",
    "    }, OUTPUT_DIR / filename)"
   ]
  },
  {
   "cell_type": "markdown",
   "id": "f61d8ca9",
   "metadata": {},
   "source": [
    "## KNeighborsClassifier"
   ]
  },
  {
   "cell_type": "code",
   "execution_count": null,
   "id": "82edfcb6",
   "metadata": {},
   "outputs": [],
   "source": [
    "for class_name in CLASS_NAMES:\n",
    "    for metric in ['minkowski', 'euclidean', 'manhattan', 'cosine']:\n",
    "        filename = f\"knn.m_{metric}.{class_name}.lz4\"\n",
    "\n",
    "        if (OUTPUT_DIR / filename).exists():\n",
    "            continue\n",
    "\n",
    "        model_path = MODELS_DIR / filename\n",
    "        model_dict = joblib.load(model_path)\n",
    "\n",
    "        y = []\n",
    "        y_hat = []\n",
    "        time_records = []\n",
    "\n",
    "        for itter in range(5):\n",
    "            model = model_dict[itter]['model']\n",
    "\n",
    "            samples = load_samples(itter+1, class_name).sample(frac=0.1)\n",
    "\n",
    "            s_time = time.time()\n",
    "\n",
    "            model.predict(samples[COVARIATES])\n",
    "\n",
    "            time_records.append(time.time() - s_time)\n",
    "            y.extend(samples['class'].to_list())\n",
    "            y_hat.extend(model.predict(samples[COVARIATES]))\n",
    "\n",
    "            print(time.time() - s_time, \"Terminado - \", itter)\n",
    "\n",
    "        joblib.dump({\n",
    "            'threshold': None,\n",
    "            'f1_score': f1_score(y, y_hat),\n",
    "            'recall_score': recall_score(y, y_hat),\n",
    "            'precision_score': precision_score(y, y_hat),\n",
    "            'time_records': time_records\n",
    "        }, OUTPUT_DIR / filename)\n",
    "\n",
    "        break"
   ]
  },
  {
   "cell_type": "code",
   "execution_count": null,
   "id": "73efad2f",
   "metadata": {},
   "outputs": [],
   "source": [
    "for class_name in CLASS_NAMES:\n",
    "    for n_neighbors in [1, 3]:\n",
    "        filename = f\"knn.nn_{n_neighbors}.{class_name}.lz4\"\n",
    "\n",
    "        model_path = MODELS_DIR / filename\n",
    "        model_dict = joblib.load(model_path)\n",
    "\n",
    "        y = []\n",
    "        y_hat = []\n",
    "        time_records = []\n",
    "\n",
    "        for itter in range(5):\n",
    "            model = model_dict[itter]['model']\n",
    "\n",
    "            samples = load_samples(itter+1, class_name)\n",
    "\n",
    "            s_time = time.time()\n",
    "\n",
    "            model.predict(samples[COVARIATES])\n",
    "\n",
    "            time_records.append(time.time() - s_time)\n",
    "            y.extend(samples['class'].to_list())\n",
    "            y_hat.extend(model.predict(samples[COVARIATES]))\n",
    "\n",
    "        joblib.dump({\n",
    "            'threshold': None,\n",
    "            'f1_score': f1_score(y, y_hat),\n",
    "            'recall_score': recall_score(y, y_hat),\n",
    "            'precision_score': precision_score(y, y_hat),\n",
    "            'time_records': time_records\n",
    "        }, OUTPUT_DIR / filename)"
   ]
  },
  {
   "cell_type": "markdown",
   "id": "f96a5c59",
   "metadata": {},
   "source": [
    "## SVC"
   ]
  },
  {
   "cell_type": "code",
   "execution_count": null,
   "id": "35ae2120",
   "metadata": {},
   "outputs": [],
   "source": [
    "for class_name in CLASS_NAMES:\n",
    "    for kernel in ['linear', 'poly', 'rbf']:\n",
    "        filename = f\"svc.k_{kernel}.{class_name}.lz4\"\n",
    "\n",
    "        model_path = MODELS_DIR / filename\n",
    "        model_dict = joblib.load(model_path)\n",
    "\n",
    "        results = []\n",
    "\n",
    "        for itter in range(5):\n",
    "            model = model_dict[itter]['model']\n",
    "\n",
    "            samples = load_samples(itter+1, class_name)\n",
    "\n",
    "            results.append(predict_proba_parallel(model, samples))\n",
    "\n",
    "        joblib.dump({\n",
    "            'threshold': np.mean([result['threshold'] for result in results]),\n",
    "            'f1_score': np.mean([result['f1_score'] for result in results]),\n",
    "            'recall_score': np.mean([result['recall_score'] for result in results]),\n",
    "            'precision_score': np.mean([result['precision_score'] for result in results]),\n",
    "            'prediction_delay': np.mean([result['prediction_delay'] for result in results]),\n",
    "            'results': results\n",
    "        }, OUTPUT_DIR / filename)"
   ]
  }
 ],
 "metadata": {
  "kernelspec": {
   "display_name": "gdal",
   "language": "python",
   "name": "python3"
  },
  "language_info": {
   "codemirror_mode": {
    "name": "ipython",
    "version": 3
   },
   "file_extension": ".py",
   "mimetype": "text/x-python",
   "name": "python",
   "nbconvert_exporter": "python",
   "pygments_lexer": "ipython3",
   "version": "3.13.7"
  }
 },
 "nbformat": 4,
 "nbformat_minor": 5
}
