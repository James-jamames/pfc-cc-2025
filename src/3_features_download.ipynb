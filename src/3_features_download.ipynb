{
 "cells": [
  {
   "cell_type": "code",
   "execution_count": 1,
   "id": "a22cfa17",
   "metadata": {},
   "outputs": [],
   "source": [
    "import ee\n",
    "import geopandas as gpd\n",
    "\n",
    "ee.Authenticate()\n",
    "ee.Initialize(project=\"ee-tiagogoncalves\")"
   ]
  },
  {
   "cell_type": "code",
   "execution_count": 2,
   "id": "bd4dc860",
   "metadata": {},
   "outputs": [],
   "source": [
    "from pathlib import Path\n",
    "\n",
    "input_dir = Path(\"../data/raw\")\n",
    "output_dir = Path(\"../data/feature\")\n",
    "output_dir.mkdir(exist_ok=True)\n",
    "\n",
    "gpkg_files = list(input_dir.glob(\"*.gpkg\"))"
   ]
  },
  {
   "cell_type": "code",
   "execution_count": 3,
   "id": "ef091f61",
   "metadata": {},
   "outputs": [],
   "source": [
    "def get_download_url(xmin, ymin, xmax, ymax, year):\n",
    "    geometry = ee.Geometry.Rectangle([[xmin, ymin], [xmax, ymax]], proj='EPSG:3857')\n",
    "\n",
    "    s_date = ee.Date.fromYMD(year, 1, 1)\n",
    "    e_date = s_date.advance(1, 'year')\n",
    "                \n",
    "    collection = ee.ImageCollection(\"GOOGLE/SATELLITE_EMBEDDING/V1/ANNUAL\")\n",
    "    \n",
    "    image = collection.filterBounds(geometry).filterDate(s_date, e_date).first()\n",
    "    \n",
    "    return image.getDownloadURL({\n",
    "        'scale': 10,\n",
    "        'region': geometry,\n",
    "        'format': 'GEO_TIFF'\n",
    "    })\n",
    "\n",
    "\n",
    "def download_from_url(filename, url):\n",
    "    import requests\n",
    "    response = requests.get(url)\n",
    "    \n",
    "    if response.status_code == 200:\n",
    "        with open(output_dir / f\"{filename}.tif\", 'wb') as f:\n",
    "            f.write(response.content)\n",
    "        print(f\"    ✓ Salvo: {filename}\")\n",
    "    else:\n",
    "        print(f\"    ❌ Erro ao baixar: Status {response.status_code}\")"
   ]
  },
  {
   "cell_type": "code",
   "execution_count": null,
   "id": "352d0609",
   "metadata": {},
   "outputs": [
    {
     "name": "stdout",
     "output_type": "stream",
     "text": [
      "2018\n",
      "✅ Processamento concluído!\n"
     ]
    }
   ],
   "source": [
    "from time import sleep\n",
    "\n",
    "erros = []\n",
    "\n",
    "for gpkg_file in gpkg_files:\n",
    "    gdf = gpd.read_file(gpkg_file)\n",
    "\n",
    "    xmin, ymin, xmax, ymax = gdf.total_bounds\n",
    "\n",
    "    year = gdf['google_image_start_date'][0].split('-')[0]\n",
    "\n",
    "    if year < 17 or year > 24:\n",
    "        continue\n",
    "\n",
    "    for attempt in range(3):\n",
    "        try:\n",
    "            url = get_download_url(xmin, ymin, xmax, ymax, year)\n",
    "\n",
    "            download_from_url(gpkg_file.stem, url)\n",
    "\n",
    "            break\n",
    "        except Exception as e:\n",
    "            if attempt == 2:\n",
    "                erros.append((gpkg_file.stem, e))\n",
    "\n",
    "            print(f\"    ❌ Erro ao baixar a imagem: {e}. Tentando novamente...\")\n",
    "            sleep(2**attempt)\n",
    "\n",
    "print(\"✅ Processamento concluído!\")"
   ]
  },
  {
   "cell_type": "code",
   "execution_count": null,
   "id": "3059f815",
   "metadata": {},
   "outputs": [],
   "source": []
  }
 ],
 "metadata": {
  "kernelspec": {
   "display_name": ".venv",
   "language": "python",
   "name": "python3"
  },
  "language_info": {
   "codemirror_mode": {
    "name": "ipython",
    "version": 3
   },
   "file_extension": ".py",
   "mimetype": "text/x-python",
   "name": "python",
   "nbconvert_exporter": "python",
   "pygments_lexer": "ipython3",
   "version": "3.12.10"
  }
 },
 "nbformat": 4,
 "nbformat_minor": 5
}
