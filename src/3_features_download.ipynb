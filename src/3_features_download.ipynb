{
 "cells": [
  {
   "cell_type": "code",
   "execution_count": 55,
   "id": "a22cfa17",
   "metadata": {},
   "outputs": [],
   "source": [
    "import os\n",
    "import ee\n",
    "import geopandas as gpd\n",
    "\n",
    "from shapely.geometry  import box\n",
    "\n",
    "ee.Authenticate()\n",
    "ee.Initialize(project=\"ee-tiagogoncalves\")\n",
    "\n",
    "TILES_PATH = \"C:/Users/tiago/Documents/Workspace/UFG/pfc-cc-2025/data/tiles\"\n",
    "FEATURE_PATH = \"C:/Users/tiago/Documents/Workspace/UFG/pfc-cc-2025/data/embeddings\"\n",
    "\n",
    "os.makedirs(FEATURE_PATH, exist_ok=True)"
   ]
  },
  {
   "cell_type": "code",
   "execution_count": null,
   "id": "ef091f61",
   "metadata": {},
   "outputs": [],
   "source": [
    "def get_download_url(xmin, ymin, xmax, ymax, year):\n",
    "    geometry = ee.Geometry.Rectangle([[xmin, ymin], [xmax, ymax]], proj='EPSG:3857')\n",
    "\n",
    "    s_date = ee.Date.fromYMD(year, 1, 1)\n",
    "    e_date = s_date.advance(1, 'year')\n",
    "                \n",
    "    collection = ee.ImageCollection(\"GOOGLE/SATELLITE_EMBEDDING/V1/ANNUAL\")\n",
    "    \n",
    "    image = collection.filterBounds(geometry).filterDate(s_date, e_date).first()\n",
    "    \n",
    "    return image.getDownloadURL({\n",
    "        'scale': 10,\n",
    "        'region': geometry,\n",
    "        'format': 'GEO_TIFF'\n",
    "    })\n",
    "\n",
    "\n",
    "def download_from_url(filename, url):\n",
    "    import requests\n",
    "    response = requests.get(url)\n",
    "\n",
    "    output_filename = f\"{filename}-embeddings.tif\"\n",
    "    output_path = os.path.join(FEATURE_PATH, output_filename)\n",
    "    \n",
    "    if response.status_code == 200:\n",
    "        with open(output_path, 'wb') as f:\n",
    "            f.write(response.content)\n",
    "        print(f\"    ✓ Salvo: {filename}\")\n",
    "    else:\n",
    "        print(f\"    ❌ Erro ao baixar: Status {response.status_code}\")"
   ]
  },
  {
   "cell_type": "code",
   "execution_count": 60,
   "id": "352d0609",
   "metadata": {},
   "outputs": [
    {
     "name": "stdout",
     "output_type": "stream",
     "text": [
      "3298060.0 9564778.0 3299080.0 9565798.0\n",
      "    ❌ Erro ao baixar a imagem: Image is unbounded. Must specify a region or a pixel grid with dimensions.. Tentando novamente...\n",
      "    ❌ Erro ao baixar a imagem: Image is unbounded. Must specify a region or a pixel grid with dimensions.. Tentando novamente...\n",
      "✅ Processamento concluído!\n",
      "Total de arquivos GeoTIFF salvos: 1\n"
     ]
    }
   ],
   "source": [
    "from time import sleep\n",
    "\n",
    "filenames = [f for f in os.listdir(TILES_PATH) if os.path.isfile(os.path.join(TILES_PATH, f))]\n",
    "\n",
    "for filename in filenames:\n",
    "    gdf = gpd.read_file(os.path.join(TILES_PATH, filename))\n",
    "\n",
    "    xmin, ymin, xmax, ymax = gdf.total_bounds\n",
    "    print(xmin, ymin, xmax, ymax)\n",
    "\n",
    "    for _ in range(2):\n",
    "        try:\n",
    "            url = get_download_url(xmin, ymin, xmax, ymax, 2024)\n",
    "\n",
    "            download_from_url(filename.split('-')[0], url)\n",
    "\n",
    "            break\n",
    "        except Exception as e:\n",
    "            print(f\"    ❌ Erro ao baixar a imagem: {e}. Tentando novamente...\")\n",
    "            sleep(2)\n",
    "\n",
    "    break\n",
    "print(\"✅ Processamento concluído!\")\n",
    "\n",
    "saved_files = [f for f in os.listdir(FEATURE_PATH) if f.endswith('.tif')]\n",
    "print(f\"Total de arquivos GeoTIFF salvos: {len(saved_files)}\")"
   ]
  },
  {
   "cell_type": "code",
   "execution_count": 54,
   "id": "9b4be137",
   "metadata": {},
   "outputs": [
    {
     "data": {
      "text/plain": [
       "array([3298060., 9564778., 3299080., 9565798.])"
      ]
     },
     "execution_count": 54,
     "metadata": {},
     "output_type": "execute_result"
    }
   ],
   "source": [
    "gdf = gpd.read_file('C:/Users/tiago/Documents/Workspace/UFG/pfc-cc-2025/data/tiles/1-mvp.gpkg')\n",
    "\n",
    "gdf.total_bounds"
   ]
  },
  {
   "cell_type": "code",
   "execution_count": null,
   "id": "100e2c4a",
   "metadata": {},
   "outputs": [],
   "source": []
  }
 ],
 "metadata": {
  "kernelspec": {
   "display_name": ".venv",
   "language": "python",
   "name": "python3"
  },
  "language_info": {
   "codemirror_mode": {
    "name": "ipython",
    "version": 3
   },
   "file_extension": ".py",
   "mimetype": "text/x-python",
   "name": "python",
   "nbconvert_exporter": "python",
   "pygments_lexer": "ipython3",
   "version": "3.12.10"
  }
 },
 "nbformat": 4,
 "nbformat_minor": 5
}
