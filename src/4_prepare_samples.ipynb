{
 "cells": [
  {
   "cell_type": "markdown",
   "id": "bbb9a692",
   "metadata": {},
   "source": [
    "Bi-montlhy Landsat -> https://browser.stac.dataspace.copernicus.eu/collections/opengeohub-landsat-bimonthly-mosaic-v1.0.1?.language=pt"
   ]
  },
  {
   "cell_type": "markdown",
   "id": "d5b3cc8f",
   "metadata": {},
   "source": [
    "# Samples"
   ]
  },
  {
   "cell_type": "code",
   "execution_count": 1,
   "id": "9d11217e",
   "metadata": {},
   "outputs": [],
   "source": [
    "from pathlib import Path\n",
    "\n",
    "input_dir = Path(\"../data/raster\")\n",
    "output_dir = Path(\"../data/parquet\")\n",
    "output_dir.mkdir(exist_ok=True)\n",
    "\n",
    "raster_files = list((input_dir / 'google').glob(\"*.tif\")) + list((input_dir / 'bing').glob(\"*.tif\"))"
   ]
  },
  {
   "cell_type": "code",
   "execution_count": 2,
   "id": "31c31c9c",
   "metadata": {},
   "outputs": [],
   "source": [
    "import rasterio\n",
    "import pandas as pd\n",
    "import geopandas as gpd\n",
    "\n",
    "from tqdm import tqdm\n",
    "from shapely.geometry import Point"
   ]
  },
  {
   "cell_type": "code",
   "execution_count": 3,
   "id": "0199dbe6",
   "metadata": {},
   "outputs": [],
   "source": [
    "def raster2gpkg(input_dir):\n",
    "    with rasterio.open(input_dir) as src:\n",
    "        data = src.read()\n",
    "        transform = src.transform\n",
    "        crs = src.crs\n",
    "        nodata = src.nodata\n",
    "\n",
    "    _, rows, cols = data.shape\n",
    "\n",
    "    geoms = []\n",
    "    records = []\n",
    "\n",
    "    for i in range(rows):\n",
    "        for j in range(cols):\n",
    "            values = data[:, i, j]\n",
    "\n",
    "            if any(values == nodata):\n",
    "                continue\n",
    "\n",
    "            x, y = transform * (j + 0.5, i + 0.5)\n",
    "\n",
    "            geoms.append(Point(x, y))\n",
    "\n",
    "            record = {f\"B{b+1:02}\": values[b] for b in range(64)}\n",
    "\n",
    "            record[\"class\"] = values[64]\n",
    "            record[\"tile_id\"] = input_dir.stem\n",
    "\n",
    "            records.append(record)\n",
    "\n",
    "    gdf = gpd.GeoDataFrame(records, geometry=geoms, crs=crs)\n",
    "\n",
    "    return gdf if not gdf.empty else None"
   ]
  },
  {
   "cell_type": "code",
   "execution_count": 4,
   "id": "1e094bf9",
   "metadata": {},
   "outputs": [],
   "source": [
    "def reduce_samples(gdf: gpd.GeoDataFrame, frac: int):\n",
    "    gdfs = []\n",
    "\n",
    "    for value in range(4):\n",
    "        new_gdf = gdf[gdf['class'] == value].copy()\n",
    "\n",
    "        if not new_gdf.empty:\n",
    "            new_gdf = new_gdf.sample(frac=frac, random_state=0).copy()\n",
    "\n",
    "            gdfs.append(new_gdf)\n",
    "\n",
    "    return gpd.GeoDataFrame(pd.concat(gdfs, ignore_index=True), crs=gdfs[0].crs)"
   ]
  },
  {
   "cell_type": "code",
   "execution_count": null,
   "id": "ffc53d81",
   "metadata": {},
   "outputs": [
    {
     "name": "stderr",
     "output_type": "stream",
     "text": [
      "100%|██████████| 8098/8098 [43:45<00:00,  3.08it/s]\n"
     ]
    }
   ],
   "source": [
    "gdfs = []\n",
    "\n",
    "counter = 0\n",
    "\n",
    "for raster_file in tqdm(raster_files):\n",
    "    gdf = raster2gpkg(raster_file)\n",
    "\n",
    "    if not gdf is None:\n",
    "        gdf = gdf.to_crs(\"EPSG:4326\")\n",
    "\n",
    "        gdf = reduce_samples(gdf, 0.2)\n",
    "        \n",
    "        gdf.to_parquet(output_dir / f\"{counter}.pq\", index=False)\n",
    "\n",
    "        counter += 1\n"
   ]
  },
  {
   "cell_type": "markdown",
   "id": "941edf42",
   "metadata": {},
   "source": [
    "# Concat"
   ]
  },
  {
   "cell_type": "code",
   "execution_count": 1,
   "id": "0ee3e051",
   "metadata": {},
   "outputs": [],
   "source": [
    "from pathlib import Path\n",
    "\n",
    "input_dir = Path(\"../data/parquet\")\n",
    "output_dir = Path(\"../data\")\n",
    "output_dir.mkdir(exist_ok=True)\n",
    "\n",
    "parquet_files = list((input_dir).glob(\"*.pq\"))"
   ]
  },
  {
   "cell_type": "code",
   "execution_count": 2,
   "id": "0fed3cff",
   "metadata": {},
   "outputs": [
    {
     "name": "stderr",
     "output_type": "stream",
     "text": [
      "100%|██████████| 8070/8070 [01:15<00:00, 106.27it/s]\n"
     ]
    }
   ],
   "source": [
    "import pyarrow.parquet as pq\n",
    "import pyarrow as pa\n",
    "\n",
    "from tqdm import tqdm\n",
    "\n",
    "writer = None\n",
    "\n",
    "for files in tqdm(parquet_files):\n",
    "    reader = pq.ParquetFile(files)\n",
    "\n",
    "    for batch in reader.iter_batches():\n",
    "        table = pa.Table.from_batches([batch])\n",
    "\n",
    "        if writer is None:\n",
    "            writer = pq.ParquetWriter(output_dir / \"samples.pq\", table.schema)\n",
    "\n",
    "        writer.write_table(table)\n",
    "\n",
    "if writer:\n",
    "    writer.close()"
   ]
  },
  {
   "cell_type": "markdown",
   "id": "168248f3",
   "metadata": {},
   "source": [
    "# View"
   ]
  },
  {
   "cell_type": "code",
   "execution_count": 3,
   "id": "b6ed0628",
   "metadata": {},
   "outputs": [
    {
     "data": {
      "text/plain": [
       "class\n",
       "0.0    3463847\n",
       "2.0    1130850\n",
       "1.0     482438\n",
       "3.0     249533\n",
       "Name: count, dtype: int64"
      ]
     },
     "execution_count": 3,
     "metadata": {},
     "output_type": "execute_result"
    }
   ],
   "source": [
    "import pandas as pd\n",
    "\n",
    "df = pd.read_parquet('../data/samples.pq')\n",
    "\n",
    "df['class'].value_counts()"
   ]
  },
  {
   "cell_type": "code",
   "execution_count": null,
   "id": "79d69a02",
   "metadata": {},
   "outputs": [],
   "source": []
  }
 ],
 "metadata": {
  "kernelspec": {
   "display_name": "gdal",
   "language": "python",
   "name": "python3"
  },
  "language_info": {
   "codemirror_mode": {
    "name": "ipython",
    "version": 3
   },
   "file_extension": ".py",
   "mimetype": "text/x-python",
   "name": "python",
   "nbconvert_exporter": "python",
   "pygments_lexer": "ipython3",
   "version": "3.13.7"
  }
 },
 "nbformat": 4,
 "nbformat_minor": 5
}
