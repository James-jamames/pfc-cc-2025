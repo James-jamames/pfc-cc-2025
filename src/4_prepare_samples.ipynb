{
 "cells": [
  {
   "cell_type": "markdown",
   "id": "bbb9a692",
   "metadata": {},
   "source": [
    "Bi-montlhy Landsat -> https://browser.stac.dataspace.copernicus.eu/collections/opengeohub-landsat-bimonthly-mosaic-v1.0.1?.language=pt"
   ]
  },
  {
   "cell_type": "markdown",
   "id": "d5b3cc8f",
   "metadata": {},
   "source": [
    "# Samples"
   ]
  },
  {
   "cell_type": "code",
   "execution_count": 2,
   "id": "9d11217e",
   "metadata": {},
   "outputs": [],
   "source": [
    "from pathlib import Path\n",
    "\n",
    "input_dir = Path(\"../data/raster\")\n",
    "output_dir = Path(\"../data/parquet\")\n",
    "output_dir.mkdir(exist_ok=True)\n",
    "\n",
    "raster_files = list((input_dir / 'google').glob(\"*.tif\")) + list((input_dir / 'bing').glob(\"*.tif\"))"
   ]
  },
  {
   "cell_type": "code",
   "execution_count": 3,
   "id": "31c31c9c",
   "metadata": {},
   "outputs": [],
   "source": [
    "import rasterio\n",
    "import pandas as pd\n",
    "\n",
    "from tqdm import tqdm"
   ]
  },
  {
   "cell_type": "code",
   "execution_count": null,
   "id": "0199dbe6",
   "metadata": {},
   "outputs": [],
   "source": [
    "def raster2gpkg(input_dir):\n",
    "    with rasterio.open(input_dir) as src:\n",
    "        data = src.read()\n",
    "        nodata = src.nodata\n",
    "        transform = src.transform\n",
    "\n",
    "    _, rows, cols = data.shape\n",
    "\n",
    "    records = []\n",
    "\n",
    "    for i in range(rows):\n",
    "        for j in range(cols):\n",
    "            values = data[:, i, j]\n",
    "\n",
    "            if any(values == nodata):\n",
    "                continue\n",
    "\n",
    "            x, y = transform * (j + 0.5, i + 0.5)\n",
    "\n",
    "            record = {f\"B{b+1:02}\": values[b] for b in range(64)}\n",
    "\n",
    "            record['x'] = x\n",
    "            record['y'] = y\n",
    "            record[\"class\"] = values[64]\n",
    "            record[\"tile_id\"] = input_dir.stem\n",
    "\n",
    "            records.append(record)\n",
    "\n",
    "    df = pd.DataFrame(records)\n",
    "\n",
    "    return df if not df.empty else None"
   ]
  },
  {
   "cell_type": "code",
   "execution_count": 5,
   "id": "ffc53d81",
   "metadata": {},
   "outputs": [
    {
     "name": "stderr",
     "output_type": "stream",
     "text": [
      "100%|██████████| 8098/8098 [36:05<00:00,  3.74it/s]\n"
     ]
    }
   ],
   "source": [
    "counter = 0\n",
    "\n",
    "for raster_file in tqdm(raster_files):\n",
    "    df = raster2gpkg(raster_file)\n",
    "\n",
    "    if not df is None:\n",
    "        df.to_parquet(output_dir / f\"{counter}.pq\", index=False)\n",
    "\n",
    "        counter += 1"
   ]
  },
  {
   "cell_type": "markdown",
   "id": "941edf42",
   "metadata": {},
   "source": [
    "# Concat"
   ]
  },
  {
   "cell_type": "code",
   "execution_count": 6,
   "id": "0ee3e051",
   "metadata": {},
   "outputs": [],
   "source": [
    "from pathlib import Path\n",
    "\n",
    "input_dir = Path(\"../data/parquet\")\n",
    "output_dir = Path(\"../data\")\n",
    "output_dir.mkdir(exist_ok=True)\n",
    "\n",
    "parquet_files = list((input_dir).glob(\"*.pq\"))"
   ]
  },
  {
   "cell_type": "code",
   "execution_count": 7,
   "id": "0fed3cff",
   "metadata": {},
   "outputs": [
    {
     "name": "stderr",
     "output_type": "stream",
     "text": [
      "100%|██████████| 8070/8070 [02:22<00:00, 56.72it/s]\n"
     ]
    }
   ],
   "source": [
    "import pyarrow.parquet as pq\n",
    "import pyarrow as pa\n",
    "\n",
    "from tqdm import tqdm\n",
    "\n",
    "writer = None\n",
    "\n",
    "for files in tqdm(parquet_files):\n",
    "    reader = pq.ParquetFile(files)\n",
    "\n",
    "    for batch in reader.iter_batches():\n",
    "        table = pa.Table.from_batches([batch])\n",
    "\n",
    "        if writer is None:\n",
    "            writer = pq.ParquetWriter(output_dir / \"samples.pq\", table.schema)\n",
    "\n",
    "        writer.write_table(table)\n",
    "\n",
    "if writer:\n",
    "    writer.close()"
   ]
  },
  {
   "cell_type": "markdown",
   "id": "168248f3",
   "metadata": {},
   "source": [
    "# GroupKFold"
   ]
  },
  {
   "cell_type": "code",
   "execution_count": null,
   "id": "fbdc14de",
   "metadata": {},
   "outputs": [],
   "source": [
    "from pathlib import Path\n",
    "\n",
    "input_dir = Path(\"../data\")\n",
    "output_dir = Path(\"../data\")"
   ]
  },
  {
   "cell_type": "code",
   "execution_count": null,
   "id": "b6ed0628",
   "metadata": {},
   "outputs": [
    {
     "data": {
      "text/plain": [
       "class\n",
       "0.0    3463847\n",
       "2.0    1130850\n",
       "1.0     482438\n",
       "3.0     249533\n",
       "Name: count, dtype: int64"
      ]
     },
     "execution_count": 3,
     "metadata": {},
     "output_type": "execute_result"
    }
   ],
   "source": [
    "import joblib\n",
    "import pandas as pd\n",
    "\n",
    "from sklearn.model_selection import GroupKFold\n",
    "\n",
    "N_SPLITS = 5\n",
    "\n",
    "samples = pd.read_parquet(input_dir / \"samples.pq\")\n",
    "\n",
    "covariates = [f\"B{b:02}\" for b in range(1, 65)]\n",
    "\n",
    "counter = 1\n",
    "\n",
    "groupKFold = GroupKFold(N_SPLITS, shuffle=True, random_state=0)\n",
    "\n",
    "for train_idx, test_idx in groupKFold.split(samples[covariates], samples['class'], samples['tile_id']):\n",
    "        train_samples = samples.iloc[train_idx].sample(frac=0.2).to_parquet(output_dir / f\"{counter:02}_samples_train.pq\", index=False)\n",
    "        test_samples = samples.iloc[test_idx].to_parquet(output_dir / f\"{counter:02}_samples_test.pq\", index=False)\n",
    "\n",
    "        counter += 1"
   ]
  },
  {
   "cell_type": "code",
   "execution_count": 1,
   "id": "82f0b1c9",
   "metadata": {},
   "outputs": [
    {
     "data": {
      "text/plain": [
       "'01'"
      ]
     },
     "execution_count": 1,
     "metadata": {},
     "output_type": "execute_result"
    }
   ],
   "source": [
    "f\"{1:02}\""
   ]
  },
  {
   "cell_type": "code",
   "execution_count": null,
   "id": "f11464ec",
   "metadata": {},
   "outputs": [],
   "source": []
  }
 ],
 "metadata": {
  "kernelspec": {
   "display_name": "gdal",
   "language": "python",
   "name": "python3"
  },
  "language_info": {
   "codemirror_mode": {
    "name": "ipython",
    "version": 3
   },
   "file_extension": ".py",
   "mimetype": "text/x-python",
   "name": "python",
   "nbconvert_exporter": "python",
   "pygments_lexer": "ipython3",
   "version": "3.13.7"
  }
 },
 "nbformat": 4,
 "nbformat_minor": 5
}
