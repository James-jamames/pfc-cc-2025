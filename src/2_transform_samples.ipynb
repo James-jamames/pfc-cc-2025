{
 "cells": [
  {
   "cell_type": "markdown",
   "id": "d180d3f3",
   "metadata": {},
   "source": [
    "# Extrair"
   ]
  },
  {
   "cell_type": "code",
   "execution_count": null,
   "id": "552894b6",
   "metadata": {},
   "outputs": [],
   "source": [
    "from pathlib import Path\n",
    "\n",
    "BATCH_SIZE = 10000000\n",
    "\n",
    "GPKG_PATH = Path(\"../data\")\n",
    "GPKG_FILENAME = \"gpw_grassland_fscs.vi.vhr_grid.samples_20000101_20241231_go_epsg.4326_v2.gpkg\"\n",
    "\n",
    "output_dir = Path(\"../data/raw\")\n",
    "output_dir.mkdir(exist_ok=True)"
   ]
  },
  {
   "cell_type": "code",
   "execution_count": null,
   "id": "d4e24590",
   "metadata": {},
   "outputs": [
    {
     "name": "stdout",
     "output_type": "stream",
     "text": [
      "Processed up to rowid: 10000000\n",
      "Processed up to rowid: 20000000\n",
      "Processed up to rowid: 30000000\n",
      "Processed up to rowid: 40000000\n",
      "Processed up to rowid: 50000000\n",
      "Processed up to rowid: 60000000\n",
      "Processed up to rowid: 70000000\n",
      "Processed up to rowid: 80000000\n",
      "Processed up to rowid: 90000000\n",
      "Processed up to rowid: 100000000\n",
      "Processed up to rowid: 102654330\n",
      "No more data to process.\n"
     ]
    }
   ],
   "source": [
    "import geopandas as gpd\n",
    "\n",
    "processed = 0\n",
    "\n",
    "while True:\n",
    "    gdf = gpd.read_file(GPKG_PATH / GPKG_FILENAME, rows=slice(processed, processed + BATCH_SIZE))\n",
    "\n",
    "    if gdf.empty:\n",
    "        print(\"No more data to process.\")\n",
    "        break\n",
    "\n",
    "    if gdf.shape[0] + 1 == BATCH_SIZE:\n",
    "        last_tile_id = gdf.iloc[-1][\"tile_id\"]\n",
    "    else:\n",
    "        last_tile_id = None\n",
    "\n",
    "    # Save each tile as a separate GeoPackage\n",
    "    for tile_id in gdf[\"tile_id\"].unique():\n",
    "        if not \"mvp\" in tile_id or last_tile_id == tile_id:\n",
    "            continue \n",
    "\n",
    "        tile_gdf = gdf[gdf[\"tile_id\"] == tile_id]\n",
    "\n",
    "        tile_gdf.to_file(output_dir / f'{tile_id}.gpkg', driver=\"GPKG\")\n",
    "\n",
    "    processed += len(gdf)\n",
    "\n",
    "    print(f\"Processed up to rowid: {processed}\")"
   ]
  },
  {
   "cell_type": "markdown",
   "id": "472df9d2",
   "metadata": {},
   "source": [
    "# Transformar"
   ]
  },
  {
   "cell_type": "code",
   "execution_count": 2,
   "id": "c00734bd",
   "metadata": {},
   "outputs": [],
   "source": [
    "from pathlib import Path\n",
    "\n",
    "input_dir = Path(\"../data/raw\")\n",
    "output_dir = Path(\"../data/mapped\")\n",
    "output_dir.mkdir(exist_ok=True)"
   ]
  },
  {
   "cell_type": "code",
   "execution_count": 3,
   "id": "6310dc64",
   "metadata": {},
   "outputs": [],
   "source": [
    "import geopandas as gpd\n",
    "\n",
    "map_dict = {\n",
    "    \"Other land cover\": 0,\n",
    "    \"Cultivated grassland\": 1,\n",
    "    \"Natural/semi-natural grassland\": 2\n",
    "}\n",
    "\n",
    "for gpkg_file in input_dir.glob(\"*.gpkg\"):\n",
    "    gdf = gpd.read_file(gpkg_file)\n",
    "    \n",
    "    if \"google_class\" in gdf.columns:\n",
    "        gdf[\"google_class\"] = gdf[\"google_class\"].map(map_dict)\n",
    "    else:\n",
    "        print(f\"⚠️ Coluna 'google_class' não encontrada em {gpkg_file.name}\")\n",
    "        continue\n",
    "    \n",
    "    gdf.to_file(output_dir / f'{gpkg_file.stem}.gpkg', driver=\"GPKG\")"
   ]
  },
  {
   "cell_type": "markdown",
   "id": "a4360db9",
   "metadata": {},
   "source": [
    "# Rasterizar"
   ]
  },
  {
   "cell_type": "code",
   "execution_count": null,
   "id": "53a31460",
   "metadata": {},
   "outputs": [],
   "source": [
    "# gdal_rasterize -a google_class -l 1-mvp -tr 10 10 -te 3298060 9564778 3299080 9565798 -ot Int16 -a_nodata -1 1-mvp.gpkg 1-mvp.tif"
   ]
  },
  {
   "cell_type": "code",
   "execution_count": 1,
   "id": "ec4d7b07",
   "metadata": {},
   "outputs": [],
   "source": [
    "import geopandas as gpd\n",
    "from pathlib import Path\n",
    "\n",
    "input_dir = Path(\"../data/mapped\")\n",
    "output_dir = Path(\"../data/raster\")\n",
    "output_dir.mkdir(exist_ok=True)\n",
    "\n",
    "gpkg_files = list(input_dir.glob(\"*.gpkg\"))"
   ]
  },
  {
   "cell_type": "code",
   "execution_count": 2,
   "id": "fd97e161",
   "metadata": {},
   "outputs": [
    {
     "name": "stderr",
     "output_type": "stream",
     "text": [
      "c:\\Users\\tiago\\anaconda3\\envs\\gdal\\Lib\\site-packages\\osgeo\\gdal.py:330: FutureWarning: Neither gdal.UseExceptions() nor gdal.DontUseExceptions() has been explicitly called. In GDAL 4.0, exceptions will be enabled by default.\n",
      "  warnings.warn(\n"
     ]
    }
   ],
   "source": [
    "from osgeo import gdal\n",
    "\n",
    "for gpkg in gpkg_files:\n",
    "    layer = gpkg.stem\n",
    "    gdf = gpd.read_file(gpkg, layer=layer)\n",
    "    xmin, ymin, xmax, ymax = gdf.total_bounds\n",
    "\n",
    "    options = gdal.RasterizeOptions(\n",
    "        attribute=\"google_class\",\n",
    "        layers=[layer],\n",
    "        outputType=gdal.GDT_Int16,\n",
    "        xRes=10,\n",
    "        yRes=10,\n",
    "        noData=-1,\n",
    "        outputBounds=(xmin, ymin, xmax, ymax)\n",
    "    )\n",
    "\n",
    "    gdal.Rasterize(str(output_dir / f\"{layer}.tif\"), str(gpkg), options=options)"
   ]
  },
  {
   "cell_type": "markdown",
   "id": "872f4504",
   "metadata": {},
   "source": [
    "# Warp"
   ]
  },
  {
   "cell_type": "code",
   "execution_count": null,
   "id": "136a2581",
   "metadata": {},
   "outputs": [],
   "source": [
    "# gdalwarp -t_srs EPSG:32635 -te 624600 7192530 625060 7193000 -tr 10 10 -r mode -dstnodata -1 1-mvp.tif 1-mvp-warped.tif"
   ]
  },
  {
   "cell_type": "code",
   "execution_count": 2,
   "id": "bfe06f69",
   "metadata": {},
   "outputs": [],
   "source": [
    "from pathlib import Path\n",
    "\n",
    "input_dir = Path(\"../data/raster\")\n",
    "output_dir = Path(\"../data/warp\")\n",
    "features_dir = Path(\"../data/feature\")\n",
    "output_dir.mkdir(exist_ok=True)\n",
    "\n",
    "gpkg_files = list(input_dir.glob(\"*.tif\"))"
   ]
  },
  {
   "cell_type": "code",
   "execution_count": 3,
   "id": "599267e3",
   "metadata": {},
   "outputs": [],
   "source": [
    "from osgeo import gdal, osr\n",
    "\n",
    "def get_output_bounds(filename: str):\n",
    "    ds = gdal.Open(str(features_dir / f'{filename}.tif'))\n",
    "\n",
    "    gt = ds.GetGeoTransform()\n",
    "    xmin = gt[0]\n",
    "    ymin = gt[3]\n",
    "    xres = gt[1]\n",
    "    yres = gt[5]\n",
    "    xsize = ds.RasterXSize\n",
    "    ysize = ds.RasterYSize\n",
    "    xmax = xmin + xres * xsize\n",
    "    ymax = ymin + yres * ysize\n",
    "\n",
    "    return (xmin, ymin, xmax, ymax)\n",
    "\n",
    "def get_epsg_from_gpkg(filename) -> int:\n",
    "    ds = gdal.Open(features_dir / f'{filename}.tif')\n",
    "    proj = ds.GetProjection()\n",
    "    srs = osr.SpatialReference()\n",
    "    srs.ImportFromWkt(proj)\n",
    "\n",
    "    return srs.GetAttrValue(\"AUTHORITY\", 1)"
   ]
  },
  {
   "cell_type": "code",
   "execution_count": 4,
   "id": "0de595f4",
   "metadata": {},
   "outputs": [
    {
     "name": "stderr",
     "output_type": "stream",
     "text": [
      "c:\\Users\\tiago\\anaconda3\\envs\\gdal\\Lib\\site-packages\\osgeo\\gdal.py:330: FutureWarning: Neither gdal.UseExceptions() nor gdal.DontUseExceptions() has been explicitly called. In GDAL 4.0, exceptions will be enabled by default.\n",
      "  warnings.warn(\n"
     ]
    }
   ],
   "source": [
    "for gpkg in gpkg_files:\n",
    "    filename = gpkg.stem\n",
    "\n",
    "    espg = get_epsg_from_gpkg(filename)\n",
    "\n",
    "    warp_options = gdal.WarpOptions(\n",
    "        format=\"GTiff\",\n",
    "        dstSRS=f\"EPSG:{espg}\",\n",
    "        outputBounds=get_output_bounds(filename),\n",
    "        xRes=10, yRes=10,                  \n",
    "        resampleAlg=\"mode\",                \n",
    "        dstNodata=-1                       \n",
    "    )\n",
    "\n",
    "    gdal.Warp(str(output_dir / f'{filename}.tif'), str(input_dir / f'{filename}.tif'), options=warp_options)"
   ]
  },
  {
   "cell_type": "markdown",
   "id": "26f3cffa",
   "metadata": {},
   "source": [
    "# Mask"
   ]
  },
  {
   "cell_type": "code",
   "execution_count": 1,
   "id": "be3a0bd7",
   "metadata": {},
   "outputs": [],
   "source": [
    "from pathlib import Path\n",
    "\n",
    "warped_dir = Path(\"../data/warp\")\n",
    "output_dir = Path(\"../data/mask\")\n",
    "features_dir = Path(\"../data/feature\")\n",
    "output_dir.mkdir(exist_ok=True)\n",
    "\n",
    "files = list(warped_dir.glob(\"*.tif\"))"
   ]
  },
  {
   "cell_type": "code",
   "execution_count": 2,
   "id": "0073912a",
   "metadata": {},
   "outputs": [],
   "source": [
    "import rasterio\n",
    "import numpy as np\n",
    "\n",
    "for file in files:\n",
    "    with rasterio.open(file) as msrc:\n",
    "        mask = msrc.read()\n",
    "\n",
    "        mask = mask[:, ::-1, :]\n",
    "\n",
    "    with rasterio.open(features_dir / f'{file.stem}.tif') as fsrc:\n",
    "        data = fsrc.read()\n",
    "        profile = fsrc.profile.copy()\n",
    "\n",
    "    nodata = profile.get(\"nodata\")\n",
    "\n",
    "    masked_data = np.where(mask >= 0, data, nodata)\n",
    "\n",
    "    data_concat = np.concatenate([masked_data, mask], axis=0)\n",
    "\n",
    "    profile.update(count=data_concat.shape[0])\n",
    "\n",
    "    with rasterio.open(output_dir / f'{file.stem}.tif', \"w\", **profile) as dst:\n",
    "        dst.write(data_concat)"
   ]
  },
  {
   "cell_type": "markdown",
   "id": "d5b3cc8f",
   "metadata": {},
   "source": [
    "# Samples"
   ]
  },
  {
   "cell_type": "code",
   "execution_count": 3,
   "id": "9d11217e",
   "metadata": {},
   "outputs": [],
   "source": [
    "from pathlib import Path\n",
    "\n",
    "input_dir = Path(\"../data/mask\")\n",
    "output_dir = Path(\"../data/samples\")\n",
    "output_dir.mkdir(exist_ok=True)\n",
    "\n",
    "files = list(input_dir.glob(\"*.tif\"))"
   ]
  },
  {
   "cell_type": "code",
   "execution_count": null,
   "id": "ffc53d81",
   "metadata": {},
   "outputs": [],
   "source": [
    "import rasterio\n",
    "import geopandas as gpd\n",
    "from shapely.geometry import Point\n",
    "\n",
    "for file in files:\n",
    "    with rasterio.open(file) as src:\n",
    "        data = src.read()\n",
    "        transform = src.transform\n",
    "        crs = src.crs\n",
    "        nodata = src.nodata\n",
    "\n",
    "    bands, rows, cols = data.shape\n",
    "\n",
    "    records = []\n",
    "    geoms = []\n",
    "\n",
    "    for i in range(rows):\n",
    "        for j in range(cols):\n",
    "            values = data[:, i, j]\n",
    "\n",
    "            if any(values == nodata):\n",
    "                continue\n",
    "\n",
    "            x, y = transform * (j + 0.5, i + 0.5)\n",
    "            geoms.append(Point(x, y))\n",
    "\n",
    "            record = {f\"B{b+1}\": values[b] for b in range(bands)}\n",
    "            record[\"class\"] = record.pop(\"B65\")\n",
    "            record[\"tile_id\"] = file.stem\n",
    "\n",
    "            records.append(record)\n",
    "\n",
    "    gdf = gpd.GeoDataFrame(records, geometry=geoms, crs=crs)\n",
    "\n",
    "    gdf.to_file(output_dir / f'{file.stem}.gpkg', layer=file.stem, driver=\"GPKG\")"
   ]
  },
  {
   "cell_type": "markdown",
   "id": "6b8d8319",
   "metadata": {},
   "source": [
    "# Concat Samples"
   ]
  },
  {
   "cell_type": "code",
   "execution_count": 5,
   "id": "d30af9d3",
   "metadata": {},
   "outputs": [],
   "source": [
    "import pandas as pd\n",
    "import geopandas as gpd\n",
    "from pathlib import Path\n",
    "\n",
    "input_dir = Path(\"../data/samples\")\n",
    "output_fn = \"samples.gpkg\"\n",
    "\n",
    "gpkg_files = list(input_dir.glob(\"*.gpkg\"))"
   ]
  },
  {
   "cell_type": "code",
   "execution_count": 6,
   "id": "e0ac22e0",
   "metadata": {},
   "outputs": [
    {
     "name": "stdout",
     "output_type": "stream",
     "text": [
      "Todos os GPKGs concatenados em: samples.gpkg\n"
     ]
    }
   ],
   "source": [
    "gdfs = []\n",
    "\n",
    "for file in gpkg_files:\n",
    "    gdf = gpd.read_file(file)\n",
    "    gdf = gdf.to_crs(\"EPSG:4326\")\n",
    "    gdfs.append(gdf)\n",
    "\n",
    "gdf_all = gpd.GeoDataFrame(pd.concat(gdfs, ignore_index=True), crs=gdfs[0].crs)\n",
    "\n",
    "gdf_all.to_file(output_dir / output_fn, layer=\"all_points\", driver=\"GPKG\")\n",
    "\n",
    "print(f\"Todos os GPKGs concatenados em: {output_fn}\")"
   ]
  },
  {
   "cell_type": "markdown",
   "id": "168248f3",
   "metadata": {},
   "source": [
    "# View"
   ]
  },
  {
   "cell_type": "code",
   "execution_count": 2,
   "id": "ace13db0",
   "metadata": {},
   "outputs": [],
   "source": [
    "import geopandas as gpd\n",
    "\n",
    "gdf = gpd.read_file(\"../data/samples/samples.gpkg\")"
   ]
  },
  {
   "cell_type": "code",
   "execution_count": 6,
   "id": "db4aee0d",
   "metadata": {},
   "outputs": [
    {
     "data": {
      "text/plain": [
       "0          1-mvp\n",
       "1          1-mvp\n",
       "2          1-mvp\n",
       "3          1-mvp\n",
       "4          1-mvp\n",
       "           ...  \n",
       "8366501    1-mvp\n",
       "8366502    1-mvp\n",
       "8366503    1-mvp\n",
       "8366504    1-mvp\n",
       "8366505    1-mvp\n",
       "Name: tile_id, Length: 8366506, dtype: object"
      ]
     },
     "execution_count": 6,
     "metadata": {},
     "output_type": "execute_result"
    }
   ],
   "source": [
    "gdf['tile_id']"
   ]
  },
  {
   "cell_type": "code",
   "execution_count": null,
   "id": "48487a9f",
   "metadata": {},
   "outputs": [],
   "source": []
  }
 ],
 "metadata": {
  "kernelspec": {
   "display_name": "gdal",
   "language": "python",
   "name": "python3"
  },
  "language_info": {
   "codemirror_mode": {
    "name": "ipython",
    "version": 3
   },
   "file_extension": ".py",
   "mimetype": "text/x-python",
   "name": "python",
   "nbconvert_exporter": "python",
   "pygments_lexer": "ipython3",
   "version": "3.13.7"
  }
 },
 "nbformat": 4,
 "nbformat_minor": 5
}
