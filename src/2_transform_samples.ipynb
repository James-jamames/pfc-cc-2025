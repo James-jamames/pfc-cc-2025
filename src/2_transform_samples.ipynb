{
 "cells": [
  {
   "cell_type": "markdown",
   "id": "bbb9a692",
   "metadata": {},
   "source": [
    "Bi-montlhy Landsat -> https://browser.stac.dataspace.copernicus.eu/collections/opengeohub-landsat-bimonthly-mosaic-v1.0.1?.language=pt"
   ]
  },
  {
   "cell_type": "markdown",
   "id": "d180d3f3",
   "metadata": {},
   "source": [
    "# Extração"
   ]
  },
  {
   "cell_type": "code",
   "execution_count": 1,
   "id": "552894b6",
   "metadata": {},
   "outputs": [],
   "source": [
    "from pathlib import Path\n",
    "\n",
    "BATCH_SIZE = 1_000_000\n",
    "\n",
    "input_fn = \"gpw_grassland_fscs.vi.vhr_grid.samples_20000101_20241231_go_epsg.4326_v2.gpkg\"\n",
    "input_dir = Path(\"../data\")\n",
    "output_dir = Path(\"../data/raw\")\n",
    "output_dir.mkdir(exist_ok=True)"
   ]
  },
  {
   "cell_type": "code",
   "execution_count": 2,
   "id": "d4e24590",
   "metadata": {},
   "outputs": [
    {
     "name": "stdout",
     "output_type": "stream",
     "text": [
      "Processed up to rowid: 1000000\n",
      "Processed up to rowid: 2000000\n",
      "Processed up to rowid: 3000000\n",
      "Processed up to rowid: 4000000\n",
      "Processed up to rowid: 5000000\n",
      "Processed up to rowid: 6000000\n",
      "Processed up to rowid: 7000000\n",
      "Processed up to rowid: 8000000\n",
      "Processed up to rowid: 9000000\n",
      "Processed up to rowid: 10000000\n",
      "Processed up to rowid: 11000000\n",
      "Processed up to rowid: 12000000\n",
      "Processed up to rowid: 13000000\n",
      "Processed up to rowid: 14000000\n",
      "Processed up to rowid: 15000000\n",
      "Processed up to rowid: 16000000\n",
      "Processed up to rowid: 17000000\n",
      "Processed up to rowid: 18000000\n",
      "Processed up to rowid: 19000000\n",
      "Processed up to rowid: 20000000\n",
      "Processed up to rowid: 21000000\n",
      "Processed up to rowid: 22000000\n",
      "Processed up to rowid: 23000000\n",
      "Processed up to rowid: 24000000\n",
      "Processed up to rowid: 25000000\n",
      "Processed up to rowid: 26000000\n",
      "Processed up to rowid: 27000000\n",
      "Processed up to rowid: 28000000\n",
      "Processed up to rowid: 29000000\n",
      "Processed up to rowid: 30000000\n",
      "Processed up to rowid: 31000000\n",
      "Processed up to rowid: 32000000\n",
      "Processed up to rowid: 33000000\n",
      "Processed up to rowid: 34000000\n",
      "Processed up to rowid: 35000000\n",
      "Processed up to rowid: 36000000\n",
      "Processed up to rowid: 37000000\n",
      "Processed up to rowid: 38000000\n",
      "Processed up to rowid: 39000000\n",
      "Processed up to rowid: 40000000\n",
      "Processed up to rowid: 41000000\n",
      "Processed up to rowid: 42000000\n",
      "Processed up to rowid: 43000000\n",
      "Processed up to rowid: 44000000\n",
      "Processed up to rowid: 45000000\n",
      "Processed up to rowid: 46000000\n",
      "Processed up to rowid: 47000000\n",
      "Processed up to rowid: 48000000\n",
      "Processed up to rowid: 49000000\n",
      "Processed up to rowid: 50000000\n",
      "Processed up to rowid: 51000000\n",
      "Processed up to rowid: 52000000\n",
      "Processed up to rowid: 53000000\n",
      "Processed up to rowid: 54000000\n",
      "Processed up to rowid: 55000000\n",
      "Processed up to rowid: 56000000\n",
      "Processed up to rowid: 57000000\n",
      "Processed up to rowid: 58000000\n",
      "Processed up to rowid: 59000000\n",
      "Processed up to rowid: 60000000\n",
      "Processed up to rowid: 61000000\n",
      "Processed up to rowid: 62000000\n",
      "Processed up to rowid: 63000000\n",
      "Processed up to rowid: 64000000\n",
      "Processed up to rowid: 65000000\n",
      "Processed up to rowid: 66000000\n",
      "Processed up to rowid: 67000000\n",
      "Processed up to rowid: 68000000\n",
      "Processed up to rowid: 69000000\n",
      "Processed up to rowid: 70000000\n",
      "Processed up to rowid: 71000000\n",
      "Processed up to rowid: 72000000\n",
      "Processed up to rowid: 73000000\n",
      "Processed up to rowid: 74000000\n",
      "Processed up to rowid: 75000000\n",
      "Processed up to rowid: 76000000\n",
      "Processed up to rowid: 77000000\n",
      "Processed up to rowid: 78000000\n",
      "Processed up to rowid: 79000000\n",
      "Processed up to rowid: 80000000\n",
      "Processed up to rowid: 81000000\n",
      "Processed up to rowid: 82000000\n",
      "Processed up to rowid: 83000000\n",
      "Processed up to rowid: 84000000\n",
      "Processed up to rowid: 85000000\n",
      "Processed up to rowid: 86000000\n",
      "Processed up to rowid: 87000000\n",
      "Processed up to rowid: 88000000\n",
      "Processed up to rowid: 89000000\n",
      "Processed up to rowid: 90000000\n",
      "Processed up to rowid: 91000000\n",
      "Processed up to rowid: 92000000\n",
      "Processed up to rowid: 93000000\n",
      "Processed up to rowid: 94000000\n",
      "Processed up to rowid: 95000000\n",
      "Processed up to rowid: 96000000\n",
      "Processed up to rowid: 97000000\n",
      "Processed up to rowid: 98000000\n",
      "Processed up to rowid: 99000000\n",
      "Processed up to rowid: 100000000\n",
      "Processed up to rowid: 101000000\n",
      "Processed up to rowid: 102000000\n",
      "Processed up to rowid: 102654330\n",
      "No more data to process.\n"
     ]
    }
   ],
   "source": [
    "import geopandas as gpd\n",
    "\n",
    "map_dict = {\n",
    "    \"Other land cover\": 0.0,\n",
    "    \"Cultivated grassland\": 1.0,\n",
    "    \"Natural/semi-natural grassland\": 2.0**6\n",
    "}\n",
    "\n",
    "processed = 0\n",
    "\n",
    "while True:\n",
    "    gdf = gpd.read_file(input_dir / input_fn, rows=slice(processed, processed + BATCH_SIZE))\n",
    "\n",
    "    if gdf.empty:\n",
    "        print(\"No more data to process.\")\n",
    "        break\n",
    "\n",
    "    if gdf.shape[0] + 1 == BATCH_SIZE:\n",
    "        last_tile_id = gdf.iloc[-1][\"tile_id\"]\n",
    "    else:\n",
    "        last_tile_id = None\n",
    "\n",
    "    for tile_id in gdf[\"tile_id\"].unique():\n",
    "        if last_tile_id == tile_id:\n",
    "            continue \n",
    "\n",
    "        tile_gdf = gdf[gdf[\"tile_id\"] == tile_id].copy()\n",
    "\n",
    "        tile_gdf[\"google_value\"] = tile_gdf[\"google_class\"].map(map_dict)\n",
    "\n",
    "        tile_gdf.to_file(output_dir / f'{tile_id}.gpkg', driver=\"GPKG\")\n",
    "\n",
    "    processed += len(gdf)\n",
    "\n",
    "    print(f\"Processed up to rowid: {processed}\")"
   ]
  },
  {
   "cell_type": "markdown",
   "id": "a4360db9",
   "metadata": {},
   "source": [
    "# Rasterizar"
   ]
  },
  {
   "cell_type": "code",
   "execution_count": null,
   "id": "53a31460",
   "metadata": {},
   "outputs": [],
   "source": [
    "# gdal_rasterize -a google_class -l 1-mvp -tr 10 10 -te 3298060 9564778 3299080 9565798 -ot Int16 -a_nodata -1 1-mvp.gpkg 1-mvp.tif\n",
    "\n",
    "# gdalwarp -t_srs EPSG:32635 -te 624600 7192530 625060 7193000 -tr 10 10 -r mode -dstnodata -1 1-mvp.tif 1-mvp-warped.tif"
   ]
  },
  {
   "cell_type": "code",
   "execution_count": 1,
   "id": "ec4d7b07",
   "metadata": {},
   "outputs": [],
   "source": [
    "import shutil\n",
    "from pathlib import Path\n",
    "\n",
    "input_dir = Path(\"../data/raw\")\n",
    "output_dir = Path(\"../data/raster\")\n",
    "output_dir.mkdir(exist_ok=True)\n",
    "\n",
    "gpkg_files = list(input_dir.glob(\"*.gpkg\"))"
   ]
  },
  {
   "cell_type": "code",
   "execution_count": 2,
   "id": "1144f1c4",
   "metadata": {},
   "outputs": [],
   "source": [
    "import rasterio\n",
    "import numpy as np\n",
    "import geopandas as gpd\n",
    "\n",
    "from osgeo import gdal, osr"
   ]
  },
  {
   "cell_type": "code",
   "execution_count": 3,
   "id": "53fb3a11",
   "metadata": {},
   "outputs": [],
   "source": [
    "def rasterize(input_dir: Path, output_dir: Path):\n",
    "    layer = input_dir.stem\n",
    "    gdf = gpd.read_file(input_dir, layer=layer)\n",
    "    xmin, ymin, xmax, ymax = gdf.total_bounds\n",
    "\n",
    "    options = gdal.RasterizeOptions(\n",
    "        attribute=\"google_value\",\n",
    "        layers=[layer],\n",
    "        outputType=gdal.GDT_Int16,\n",
    "        xRes=10,\n",
    "        yRes=10,\n",
    "        noData=-1,\n",
    "        outputBounds=(xmin, ymin, xmax, ymax)\n",
    "    )\n",
    "\n",
    "    gdal.Rasterize(output_dir / f\"{layer}.tif\", input_dir, options=options)"
   ]
  },
  {
   "cell_type": "code",
   "execution_count": 4,
   "id": "4530570c",
   "metadata": {},
   "outputs": [],
   "source": [
    "def get_output_bounds(ds):\n",
    "    gt = ds.GetGeoTransform()\n",
    "    xmin = gt[0]\n",
    "    ymin = gt[3]\n",
    "    xres = gt[1]\n",
    "    yres = gt[5]\n",
    "    xsize = ds.RasterXSize\n",
    "    ysize = ds.RasterYSize\n",
    "    xmax = xmin + xres * xsize\n",
    "    ymax = ymin + yres * ysize\n",
    "\n",
    "    return (xmin, ymin, xmax, ymax)\n",
    "\n",
    "def get_epsg_from_gpkg(ds) -> int:\n",
    "    proj = ds.GetProjection()\n",
    "    srs = osr.SpatialReference()\n",
    "    srs.ImportFromWkt(proj)\n",
    "\n",
    "    return srs.GetAttrValue(\"AUTHORITY\", 1)\n",
    "\n",
    "def warp(input_dir: Path, output_dir: Path):\n",
    "    input_fn = input_dir.stem\n",
    "\n",
    "    ds = gdal.Open(Path(\"../data/feature\") / f'{input_fn}.tif')\n",
    "\n",
    "    warp_options = gdal.WarpOptions(\n",
    "        format=\"GTiff\",\n",
    "        dstSRS=f\"EPSG:{get_epsg_from_gpkg(ds)}\",\n",
    "        outputBounds=get_output_bounds(ds),\n",
    "        xRes=10, yRes=10,                  \n",
    "        resampleAlg=\"average\", #  mode              \n",
    "        dstNodata=-1                       \n",
    "    )\n",
    "\n",
    "    gdal.Warp(output_dir / f'{input_fn}.tif', input_dir, options=warp_options)"
   ]
  },
  {
   "cell_type": "code",
   "execution_count": 5,
   "id": "dac8685a",
   "metadata": {},
   "outputs": [],
   "source": [
    "def mask(input_dir: Path, output_dir: Path):\n",
    "    fn = input_dir.stem\n",
    "\n",
    "    with rasterio.open(input_dir) as msrc:\n",
    "        mask = msrc.read()\n",
    "        mask = mask[:, ::-1, :]\n",
    "\n",
    "    with rasterio.open(Path(\"../data/feature\") / f'{fn}.tif') as fsrc:\n",
    "        data = fsrc.read()\n",
    "        profile = fsrc.profile.copy()\n",
    "\n",
    "    nodata = profile.get(\"nodata\")\n",
    "\n",
    "    masked_data = np.where(np.isin(mask, [0, 1, 64]), data, nodata)\n",
    "\n",
    "    data_concat = np.concatenate([masked_data, mask], axis=0)\n",
    "\n",
    "    profile.update(count=data_concat.shape[0])\n",
    "\n",
    "    with rasterio.open(output_dir / f'{fn}.tif', \"w\", **profile) as dst:\n",
    "        dst.write(data_concat)"
   ]
  },
  {
   "cell_type": "code",
   "execution_count": 6,
   "id": "fd97e161",
   "metadata": {},
   "outputs": [
    {
     "name": "stderr",
     "output_type": "stream",
     "text": [
      "c:\\Users\\tiago\\anaconda3\\envs\\gdal\\Lib\\site-packages\\osgeo\\gdal.py:330: FutureWarning: Neither gdal.UseExceptions() nor gdal.DontUseExceptions() has been explicitly called. In GDAL 4.0, exceptions will be enabled by default.\n",
      "  warnings.warn(\n"
     ]
    }
   ],
   "source": [
    "rtemp_dir = Path(\"../data/temp_r\")\n",
    "rtemp_dir.mkdir(exist_ok=True)\n",
    "\n",
    "wtemp_dir = Path(\"../data/temp_w\")\n",
    "wtemp_dir.mkdir(exist_ok=True)\n",
    "\n",
    "for gpkg_file in gpkg_files:\n",
    "    rasterize(gpkg_file, rtemp_dir)\n",
    "\n",
    "    warp(rtemp_dir / f\"{gpkg_file.stem}.tif\", wtemp_dir)\n",
    "\n",
    "    mask(wtemp_dir / f\"{gpkg_file.stem}.tif\", output_dir)\n",
    "\n",
    "shutil.rmtree(rtemp_dir)\n",
    "shutil.rmtree(wtemp_dir)"
   ]
  },
  {
   "cell_type": "markdown",
   "id": "d5b3cc8f",
   "metadata": {},
   "source": [
    "# Samples"
   ]
  },
  {
   "cell_type": "code",
   "execution_count": 1,
   "id": "9d11217e",
   "metadata": {},
   "outputs": [],
   "source": [
    "from pathlib import Path\n",
    "\n",
    "input_dir = Path(\"../data/raster\")\n",
    "output_dir = Path(\"../data\")\n",
    "output_dir.mkdir(exist_ok=True)\n",
    "\n",
    "raster_files = list(input_dir.glob(\"*.tif\"))"
   ]
  },
  {
   "cell_type": "code",
   "execution_count": 2,
   "id": "31c31c9c",
   "metadata": {},
   "outputs": [],
   "source": [
    "import rasterio\n",
    "import pandas as pd\n",
    "import geopandas as gpd\n",
    "from shapely.geometry import Point"
   ]
  },
  {
   "cell_type": "code",
   "execution_count": 3,
   "id": "0199dbe6",
   "metadata": {},
   "outputs": [],
   "source": [
    "def raster2gpkg(input_dir):\n",
    "    with rasterio.open(input_dir) as src:\n",
    "        data = src.read()\n",
    "        transform = src.transform\n",
    "        crs = src.crs\n",
    "        nodata = src.nodata\n",
    "\n",
    "    _, rows, cols = data.shape\n",
    "\n",
    "    geoms = []\n",
    "    records = []\n",
    "\n",
    "    for i in range(rows):\n",
    "        for j in range(cols):\n",
    "            values = data[:, i, j]\n",
    "\n",
    "            if any(values == nodata):\n",
    "                continue\n",
    "\n",
    "            x, y = transform * (j + 0.5, i + 0.5)\n",
    "\n",
    "            geoms.append(Point(x, y))\n",
    "\n",
    "            record = {f\"B{b+1:02}\": values[b] for b in range(64)}\n",
    "\n",
    "            record[\"class\"] = {0: 0, 1: 1, 64: 2}[values[64]]\n",
    "            record[\"tile_id\"] = input_dir.stem\n",
    "\n",
    "            records.append(record)\n",
    "\n",
    "    gdf = gpd.GeoDataFrame(records, geometry=geoms, crs=crs)\n",
    "\n",
    "    return gdf if not gdf.empty else None"
   ]
  },
  {
   "cell_type": "code",
   "execution_count": 4,
   "id": "1e094bf9",
   "metadata": {},
   "outputs": [],
   "source": [
    "def reduce_samples(gdf: gpd.GeoDataFrame, frac: int):\n",
    "    gdfs = []\n",
    "\n",
    "    for value in [0, 1, 2]:\n",
    "        new_gdf = gdf[gdf['class'] == value].copy()\n",
    "\n",
    "        if not new_gdf.empty:\n",
    "            new_gdf = new_gdf.sample(frac=frac, random_state=0).copy()\n",
    "\n",
    "            gdfs.append(new_gdf)\n",
    "\n",
    "    return gpd.GeoDataFrame(pd.concat(gdfs, ignore_index=True), crs=gdfs[0].crs)"
   ]
  },
  {
   "cell_type": "code",
   "execution_count": 5,
   "id": "ffc53d81",
   "metadata": {},
   "outputs": [],
   "source": [
    "gdfs = []\n",
    "\n",
    "for raster_file in raster_files:\n",
    "    gdf = raster2gpkg(raster_file)\n",
    "\n",
    "    if not gdf is None:\n",
    "        gdf = gdf.to_crs(\"EPSG:4326\")\n",
    "\n",
    "        gdf = reduce_samples(gdf, 0.20)\n",
    "        \n",
    "        gdfs.append(gdf) \n",
    "\n",
    "gdf_all = gpd.GeoDataFrame(pd.concat(gdfs, ignore_index=True), crs=gdfs[0].crs)\n",
    "\n",
    "gdf_all.to_file(output_dir / 'samples.gpkg', layer=\"all_points\", driver=\"GPKG\")\n",
    "\n",
    "gdf_all.to_parquet(output_dir / \"samples.pq\", index=False)"
   ]
  },
  {
   "cell_type": "code",
   "execution_count": 6,
   "id": "b6ed0628",
   "metadata": {},
   "outputs": [
    {
     "data": {
      "text/plain": [
       "class\n",
       "0    7366959\n",
       "2    1856736\n",
       "1     685985\n",
       "Name: count, dtype: int64"
      ]
     },
     "execution_count": 6,
     "metadata": {},
     "output_type": "execute_result"
    }
   ],
   "source": [
    "import pandas as pd\n",
    "\n",
    "df = pd.read_parquet('../data/samples.pq')\n",
    "\n",
    "df['class'].value_counts()"
   ]
  },
  {
   "cell_type": "markdown",
   "id": "168248f3",
   "metadata": {},
   "source": [
    "# Train/Valid"
   ]
  },
  {
   "cell_type": "code",
   "execution_count": 10,
   "id": "ace13db0",
   "metadata": {},
   "outputs": [],
   "source": [
    "from pathlib import Path\n",
    "\n",
    "input_dir = Path(\"../data/samples\")\n",
    "output_fn = \"samples.gpkg\""
   ]
  },
  {
   "cell_type": "code",
   "execution_count": null,
   "id": "e3cd52d4",
   "metadata": {},
   "outputs": [
    {
     "name": "stdout",
     "output_type": "stream",
     "text": [
      "ids_valid: ['536-mvp', '153-mvp', '1433-mvp', '796-mvp', '130-mvp', '397-mvp', '1515-mvp', '1447-mvp', '1550-mvp', '148-mvp', '1659-mvp', '1317-mvp', '1836-mvp', '501-mvp', '1519-mvp', '773-mvp', '191-mvp', '1034-mvp', '602-mvp', '1584-mvp', '261-mvp', '1202-mvp', '444-mvp', '282-mvp', '1543-mvp', '871-mvp', '1705-mvp', '757-mvp', '1504-mvp', '396-mvp', '1238-mvp', '392-mvp', '1537-mvp', '1290-mvp', '339-mvp', '213-mvp', '1263-mvp', '745-mvp', '346-mvp', '118-mvp', '1715-mvp', '200-mvp', '421-mvp', '1538-mvp', '589-mvp', '164-mvp', '1465-mvp', '1288-mvp', '1830-mvp', '1594-mvp', '1846-mvp', '333-mvp', '604-mvp', '1143-mvp', '1645-mvp', '883-mvp', '884-mvp', '304-mvp', '1721-mvp', '1380-mvp', '156-mvp', '1432-mvp', '1613-mvp', '293-mvp', '701-mvp', '1027-mvp', '19-mvp', '109-mvp', '1565-mvp', '476-mvp', '580-mvp', '1475-mvp', '1829-mvp', '13-mvp', '778-mvp', '847-mvp', '1451-mvp', '188-mvp', '1384-mvp', '1526-mvp', '1456-mvp', '1474-mvp', '1151-mvp', '927-mvp', '353-mvp', '1013-mvp', '1722-mvp', '129-mvp', '1337-mvp', '522-mvp', '1227-mvp', '1819-mvp', '1807-mvp', '1630-mvp', '817-mvp', '1301-mvp', '225-mvp', '1802-mvp', '688-mvp', '720-mvp', '1557-mvp', '913-mvp', '784-mvp', '1657-mvp', '1095-mvp', '1805-mvp', '57-mvp', '1152-mvp', '328-mvp', '1222-mvp', '162-mvp', '151-mvp', '1394-mvp', '1119-mvp', '1229-mvp', '885-mvp', '1813-mvp', '1117-mvp', '463-mvp', '630-mvp', '908-mvp', '1132-mvp', '52-mvp', '382-mvp', '49-mvp', '1770-mvp', '837-mvp', '1564-mvp', '504-mvp', '237-mvp', '1361-mvp', '693-mvp', '331-mvp', '1670-mvp', '562-mvp', '1039-mvp', '1460-mvp', '1823-mvp', '703-mvp', '103-mvp', '184-mvp', '1314-mvp', '1581-mvp', '1362-mvp', '1121-mvp', '1332-mvp', '889-mvp', '380-mvp', '1866-mvp', '238-mvp', '244-mvp', '223-mvp', '1205-mvp', '1300-mvp', '1112-mvp', '637-mvp', '568-mvp', '1199-mvp', '591-mvp', '1525-mvp', '1236-mvp', '655-mvp', '1367-mvp', '1740-mvp', '1111-mvp', '1591-mvp', '1030-mvp', '1472-mvp', '1639-mvp', '1373-mvp', '1485-mvp', '854-mvp', '1057-mvp', '1008-mvp', '938-mvp', '1477-mvp', '1411-mvp', '507-mvp', '468-mvp', '869-mvp', '79-mvp', '1532-mvp', '1844-mvp', '1038-mvp', '335-mvp', '1061-mvp', '866-mvp', '767-mvp', '864-mvp', '651-mvp', '1627-mvp', '297-mvp', '1201-mvp', '1366-mvp', '217-mvp', '216-mvp', '88-mvp', '212-mvp', '1274-mvp', '20-mvp', '1185-mvp', '1655-mvp', '1702-mvp', '1742-mvp', '1087-mvp', '1607-mvp', '366-mvp', '853-mvp', '1146-mvp', '1797-mvp', '71-mvp', '1717-mvp', '342-mvp', '910-mvp', '1156-mvp', '840-mvp', '898-mvp', '1730-mvp', '1055-mvp', '706-mvp', '1731-mvp', '1427-mvp', '1686-mvp', '316-mvp', '14-mvp', '42-mvp', '209-mvp', '475-mvp', '626-mvp', '718-mvp', '1786-mvp', '744-mvp', '1077-mvp', '1116-mvp', '368-mvp', '1275-mvp', '821-mvp', '759-mvp', '1744-mvp', '1687-mvp', '227-mvp', '422-mvp', '1507-mvp', '1355-mvp', '1428-mvp', '1348-mvp', '276-mvp', '1551-mvp', '1653-mvp', '1177-mvp', '1688-mvp', '1097-mvp', '1269-mvp', '1409-mvp', '105-mvp', '683-mvp', '270-mvp', '1120-mvp', '1553-mvp', '1318-mvp', '1396-mvp', '299-mvp', '933-mvp', '1766-mvp', '1080-mvp', '471-mvp', '858-mvp', '391-mvp', '628-mvp', '1733-mvp', '975-mvp', '1745-mvp', '490-mvp', '1016-mvp', '106-mvp', '752-mvp', '1342-mvp']\n"
     ]
    }
   ],
   "source": [
    "import random\n",
    "import geopandas as gpd\n",
    "\n",
    "gdf = gpd.read_file(\"../data/samples/samples.gpkg\")\n",
    "\n",
    "lista = list(gdf['tile_id'].unique())\n",
    "\n",
    "qtd_valid = max(1, int(len(lista) * 0.2))\n",
    "\n",
    "ids_valid = random.sample(lista, qtd_valid)\n",
    "\n",
    "print(\"ids_valid:\", ids_valid)"
   ]
  },
  {
   "cell_type": "code",
   "execution_count": 6,
   "id": "1cc0fb8f",
   "metadata": {},
   "outputs": [],
   "source": [
    "gdf[\"is_valid\"] = gdf[\"tile_id\"].isin(ids_valid)"
   ]
  },
  {
   "cell_type": "code",
   "execution_count": 12,
   "id": "db4aee0d",
   "metadata": {},
   "outputs": [],
   "source": [
    "gdf.to_file(input_dir / output_fn, layer=\"all_points\", driver=\"GPKG\")"
   ]
  }
 ],
 "metadata": {
  "kernelspec": {
   "display_name": "gdal",
   "language": "python",
   "name": "python3"
  },
  "language_info": {
   "codemirror_mode": {
    "name": "ipython",
    "version": 3
   },
   "file_extension": ".py",
   "mimetype": "text/x-python",
   "name": "python",
   "nbconvert_exporter": "python",
   "pygments_lexer": "ipython3",
   "version": "3.13.7"
  }
 },
 "nbformat": 4,
 "nbformat_minor": 5
}
