{
 "cells": [
  {
   "cell_type": "code",
   "execution_count": 1,
   "id": "552894b6",
   "metadata": {},
   "outputs": [],
   "source": [
    "import os\n",
    "import geopandas as gpd\n",
    "\n",
    "DATA_PATH = \"C:/Users/tiago/Documents/Workspace/UFG/pfc-cc-2025/data\"\n",
    "GPKG_FILENAME = \"gpw_grassland_fscs.vi.vhr_grid.samples_20000101_20241231_go_epsg.4326_v2.gpkg\"\n",
    "\n",
    "BATCH_SIZE = 10000000"
   ]
  },
  {
   "cell_type": "code",
   "execution_count": 2,
   "id": "d4e24590",
   "metadata": {},
   "outputs": [
    {
     "name": "stdout",
     "output_type": "stream",
     "text": [
      "Processed up to rowid: 9999999\n",
      "Processed up to rowid: 19999999\n",
      "Processed up to rowid: 29999999\n",
      "Processed up to rowid: 39999999\n",
      "Processed up to rowid: 49999999\n",
      "Processed up to rowid: 59999999\n",
      "Processed up to rowid: 69999999\n",
      "Processed up to rowid: 79999999\n",
      "Processed up to rowid: 89999999\n",
      "Processed up to rowid: 99999999\n",
      "Processed up to rowid: 102654331\n",
      "No more data to process.\n"
     ]
    }
   ],
   "source": [
    "_path = os.path.join(DATA_PATH, GPKG_FILENAME)\n",
    "\n",
    "processed = 0\n",
    "\n",
    "while True:\n",
    "    gdf = gpd.read_file(_path, where=f\"rowid >= {processed} AND rowid < {processed + BATCH_SIZE}\")\n",
    "\n",
    "    if gdf.empty:\n",
    "        print(\"No more data to process.\")\n",
    "        break\n",
    "\n",
    "    if gdf.shape[0] + 1 == BATCH_SIZE:\n",
    "        last_tile_id = gdf.iloc[-1][\"tile_id\"]\n",
    "    else:\n",
    "        last_tile_id = None\n",
    "\n",
    "    # Save each tile as a separate GeoPackage\n",
    "    for tile_id in gdf[\"tile_id\"].unique():\n",
    "        if not \"mvp\" in tile_id or last_tile_id == tile_id:\n",
    "            continue \n",
    "\n",
    "        tile_gdf = gdf[gdf[\"tile_id\"] == tile_id]\n",
    "        output_path = os.path.join(DATA_PATH + '/tiles', f\"{tile_id}.gpkg\")\n",
    "\n",
    "        os.makedirs(os.path.dirname(output_path), exist_ok=True)\n",
    "\n",
    "        tile_gdf.to_file(output_path, driver=\"GPKG\")\n",
    "\n",
    "    processed += len(gdf)\n",
    "\n",
    "    print(f\"Processed up to rowid: {processed}\")"
   ]
  }
 ],
 "metadata": {
  "kernelspec": {
   "display_name": ".venv",
   "language": "python",
   "name": "python3"
  },
  "language_info": {
   "codemirror_mode": {
    "name": "ipython",
    "version": 3
   },
   "file_extension": ".py",
   "mimetype": "text/x-python",
   "name": "python",
   "nbconvert_exporter": "python",
   "pygments_lexer": "ipython3",
   "version": "3.12.10"
  }
 },
 "nbformat": 4,
 "nbformat_minor": 5
}
