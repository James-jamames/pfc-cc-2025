{
 "cells": [
  {
   "cell_type": "markdown",
   "id": "33d6dd2a",
   "metadata": {},
   "source": [
    "# TODO\n",
    "\n",
    "[ ] Avaliar o custo de tempo para inferencia de cada modelo."
   ]
  },
  {
   "cell_type": "markdown",
   "id": "b1df04bc-cd6c-4abf-9e6f-e7c1da2be89f",
   "metadata": {},
   "source": [
    "# Path"
   ]
  },
  {
   "cell_type": "code",
   "execution_count": null,
   "id": "bbeea2cf-18aa-476e-a4e6-ad0133952d82",
   "metadata": {
    "tags": []
   },
   "outputs": [],
   "source": [
    "from pathlib import Path\n",
    "\n",
    "INPUT_DIR = Path(\"../data\")\n",
    "OUTPUT_DIR = Path(\"../models\")\n",
    "\n",
    "SAMPLES_FN = \"{n_fold}_samples_train.pq\""
   ]
  },
  {
   "cell_type": "markdown",
   "id": "cbe796e8-48e6-4860-9dd9-263afa2baf81",
   "metadata": {},
   "source": [
    "# Training"
   ]
  },
  {
   "cell_type": "code",
   "execution_count": null,
   "id": "b96819d5-9c27-4258-955f-9d05afde52a0",
   "metadata": {
    "scrolled": true,
    "tags": []
   },
   "outputs": [],
   "source": [
    "import time\n",
    "import joblib\n",
    "import numpy as np\n",
    "import pandas as pd\n",
    "\n",
    "from sklearn.svm import SVC\n",
    "from sklearn.linear_model import SGDClassifier\n",
    "from sklearn.neighbors import KNeighborsClassifier\n",
    "from sklearn.ensemble import RandomForestClassifier\n",
    "from sklearn.linear_model import LogisticRegression\n",
    "from sklearn.metrics import precision_score, recall_score, f1_score, precision_recall_curve"
   ]
  },
  {
   "cell_type": "code",
   "execution_count": 3,
   "id": "a414c655-19d9-4c63-9fc3-0107d4c336c2",
   "metadata": {
    "tags": []
   },
   "outputs": [],
   "source": [
    "N_SPLITS = 5\n",
    "RANDOM_STATE = 0\n",
    "\n",
    "TARGET_COLUMN = 'class'\n",
    "SPATIAL_CROSS_VALIDATION_COLUMN = 'tile_id'"
   ]
  },
  {
   "cell_type": "code",
   "execution_count": null,
   "id": "f99ac300-f5a3-46a4-bec0-65b718c93e9d",
   "metadata": {
    "tags": []
   },
   "outputs": [],
   "source": [
    "def target_ovo(samples: pd.DataFrame, class_name: str, class_a: list[int], class_b: list[int]):\n",
    "    remap_dict = {}\n",
    "    \n",
    "    remap_dict.update({val: 0.0 for val in class_a})\n",
    "    remap_dict.update({val: 1.0 for val in class_b})\n",
    "    \n",
    "    samples[class_name] = samples[TARGET_COLUMN].map(remap_dict)\n",
    "\n",
    "\n",
    "def create_ovo_class(samples: pd.DataFrame, class_name: list[str], class_values: list[tuple[list[int], list[int]]]):\n",
    "    class_data = dict(zip(class_name, class_values))\n",
    "    \n",
    "    for class_key in class_data:\n",
    "        value_a = class_data[class_key][0]\n",
    "        value_b = class_data[class_key][1]\n",
    "        \n",
    "        target_ovo(samples, class_key, value_a, value_b)"
   ]
  },
  {
   "cell_type": "code",
   "execution_count": 5,
   "id": "f4820e40",
   "metadata": {},
   "outputs": [],
   "source": [
    "def get_optimal_threshold(y_true: pd.DataFrame, y_pred):\n",
    "    precision, recall, threshold = precision_recall_curve(y_true, y_pred)\n",
    "    \n",
    "    nonzero_mask = np.logical_and((precision != 0.0), (recall != 0.0))\n",
    "    \n",
    "    optimal_idx = np.argmax(1 - np.abs(precision[nonzero_mask] - recall[nonzero_mask]))\n",
    "    \n",
    "    return threshold[optimal_idx]"
   ]
  },
  {
   "cell_type": "markdown",
   "id": "441668b0",
   "metadata": {},
   "source": [
    "## Baseline"
   ]
  },
  {
   "cell_type": "code",
   "execution_count": null,
   "id": "b875840a",
   "metadata": {},
   "outputs": [],
   "source": [
    "def get_estimator():\n",
    "    return RandomForestClassifier(n_jobs=-1, random_state=RANDOM_STATE)\n",
    "\n",
    "\n",
    "def random_forest(samples: pd.DataFrame, target_column: str, covariates: list[str]):\n",
    "    X = samples[covariates]\n",
    "    y = samples[target_column]\n",
    "    \n",
    "    estimator = get_estimator()\n",
    "\n",
    "    cv_result = cross_val_predict(\n",
    "        estimator, X, y,\n",
    "        method='predict_proba',\n",
    "        cv=GroupKFold(N_SPLITS),\n",
    "        groups=samples[SPATIAL_CROSS_VALIDATION_COLUMN],\n",
    "        verbose=True,\n",
    "        n_jobs=-1,\n",
    "    )\n",
    "\n",
    "    op_threshold = get_optimal_threshold(y, cv_result[:,1])\n",
    "\n",
    "    y_pred = (cv_result[:, 1] >= op_threshold).astype(int)\n",
    "\n",
    "    joblib.dump({\n",
    "        'cv_result': pd.DataFrame({\n",
    "            'predict_proba': cv_result[:,1],\n",
    "            'expected': y.to_numpy(),\n",
    "        }),\n",
    "        'threshold': op_threshold,\n",
    "        'recall': recall_score(y, y_pred),\n",
    "        'precision': precision_score(y, y_pred),\n",
    "        'f1_score': f1_score(y, y_pred)\n",
    "    }, OUTPUT_DIR / f'bl_{target_column}.lz4', compress='lz4')"
   ]
  },
  {
   "cell_type": "code",
   "execution_count": null,
   "id": "5160f9da",
   "metadata": {},
   "outputs": [],
   "source": [
    "class_name = ['oxc', 'oxn']\n",
    "class_values = [([0], [1]), ([0], [2])]\n",
    "\n",
    "for target_column in class_name:\n",
    "    samples = pd.read_parquet(INPUT_DIR / SAMPLES_FN)\n",
    "\n",
    "    create_ovo_class(samples, class_name, class_values)\n",
    "\n",
    "    samples = samples[np.logical_not(np.isnan(samples[target_column]))]\n",
    "\n",
    "    random_forest(samples, target_column, covariates)"
   ]
  },
  {
   "cell_type": "markdown",
   "id": "b260a915",
   "metadata": {},
   "source": [
    "## Random Forest"
   ]
  },
  {
   "cell_type": "code",
   "execution_count": null,
   "id": "6c61a1ee-96a1-4942-b9d7-daf72ee4c1a5",
   "metadata": {
    "scrolled": true,
    "tags": []
   },
   "outputs": [],
   "source": [
    "def get_estimator():\n",
    "    return RandomForestClassifier(n_jobs=-1, random_state=RANDOM_STATE)\n",
    "\n",
    "\n",
    "def random_forest(samples: pd.DataFrame, target_column: str, covariates: list[str]):\n",
    "    x_train = samples[covariates]\n",
    "    y_train = samples[target_column]\n",
    "\n",
    "    t_start = time.time()\n",
    "\n",
    "    estimator = get_estimator()\n",
    "    estimator.fit(x_train, y_train)\n",
    "\n",
    "    return {'model': estimator, 't_start': t_start, 't_end': time.time()}"
   ]
  },
  {
   "cell_type": "code",
   "execution_count": null,
   "id": "e3f167db",
   "metadata": {},
   "outputs": [],
   "source": [
    "class_name = ['oxc', 'oxn']\n",
    "class_values = [([0], [1]), ([0], [2])]\n",
    "\n",
    "covariates = [f'B{n + 1:02}' for n in range(64)]\n",
    "\n",
    "for target_column in class_name:\n",
    "    models = []\n",
    "\n",
    "    for n_fold in [f'{n:02}' for n in range(1, 6)]:\n",
    "        if (OUTPUT_DIR / f'rf_{target_column}.lz4').exists():\n",
    "            continue\n",
    "\n",
    "        samples = pd.read_parquet(INPUT_DIR / SAMPLES_FN.format(n_fold=n_fold))\n",
    "\n",
    "        create_ovo_class(samples, class_name, class_values)\n",
    "\n",
    "        samples = samples[np.logical_not(np.isnan(samples[target_column]))]\n",
    "\n",
    "        model = random_forest(samples, target_column, covariates)\n",
    "\n",
    "        model['#_fold'] = n_fold\n",
    "\n",
    "        models.append(model)\n",
    "\n",
    "    joblib.dump(model, OUTPUT_DIR / f'rf.{target_column}.lz4', compress='lz4')"
   ]
  },
  {
   "cell_type": "markdown",
   "id": "8969e638",
   "metadata": {},
   "source": [
    "## KNeighborsClassifier"
   ]
  },
  {
   "cell_type": "code",
   "execution_count": null,
   "id": "9c951cf9",
   "metadata": {},
   "outputs": [],
   "source": [
    "def get_estimator(n_neighbors=1, metric='euclidean'):\n",
    "    return KNeighborsClassifier(n_neighbors=n_neighbors, metric=metric, random_state=RANDOM_STATE)\n",
    "\n",
    "def knn_classifier(samples: pd.DataFrame, target_column: str, covariates: list[str], n_neighbors, metric, sample_ratio=0.001):\n",
    "    x_train = samples.groupby(['tile_id', target_column], group_keys=False).apply(\n",
    "            lambda group: group.sample(frac=sample_ratio, random_state=RANDOM_STATE)\n",
    "        )[covariates]\n",
    "    y_train = samples[target_column]\n",
    "\n",
    "    t_start = time.time()\n",
    "\n",
    "    estimator = get_estimator(n_neighbors, metric)\n",
    "    estimator.fit(x_train, y_train)\n",
    "\n",
    "    return {'model': estimator, 't_start': t_start, 't_end': time.time()}"
   ]
  },
  {
   "cell_type": "code",
   "execution_count": null,
   "id": "af19aadb",
   "metadata": {},
   "outputs": [
    {
     "name": "stderr",
     "output_type": "stream",
     "text": [
      "C:\\Users\\tiago\\AppData\\Local\\Temp\\ipykernel_3504\\2342673738.py:12: FutureWarning: DataFrameGroupBy.apply operated on the grouping columns. This behavior is deprecated, and in a future version of pandas the grouping columns will be excluded from the operation. Either pass `include_groups=False` to exclude the groupings or explicitly select the grouping columns after groupby to silence this warning.\n",
      "  x_train = samples.iloc[train_idx].groupby(['tile_id', target_column], group_keys=False).apply(\n",
      "C:\\Users\\tiago\\AppData\\Local\\Temp\\ipykernel_3504\\2342673738.py:12: FutureWarning: DataFrameGroupBy.apply operated on the grouping columns. This behavior is deprecated, and in a future version of pandas the grouping columns will be excluded from the operation. Either pass `include_groups=False` to exclude the groupings or explicitly select the grouping columns after groupby to silence this warning.\n",
      "  x_train = samples.iloc[train_idx].groupby(['tile_id', target_column], group_keys=False).apply(\n",
      "C:\\Users\\tiago\\AppData\\Local\\Temp\\ipykernel_3504\\2342673738.py:12: FutureWarning: DataFrameGroupBy.apply operated on the grouping columns. This behavior is deprecated, and in a future version of pandas the grouping columns will be excluded from the operation. Either pass `include_groups=False` to exclude the groupings or explicitly select the grouping columns after groupby to silence this warning.\n",
      "  x_train = samples.iloc[train_idx].groupby(['tile_id', target_column], group_keys=False).apply(\n",
      "C:\\Users\\tiago\\AppData\\Local\\Temp\\ipykernel_3504\\2342673738.py:12: FutureWarning: DataFrameGroupBy.apply operated on the grouping columns. This behavior is deprecated, and in a future version of pandas the grouping columns will be excluded from the operation. Either pass `include_groups=False` to exclude the groupings or explicitly select the grouping columns after groupby to silence this warning.\n",
      "  x_train = samples.iloc[train_idx].groupby(['tile_id', target_column], group_keys=False).apply(\n",
      "C:\\Users\\tiago\\AppData\\Local\\Temp\\ipykernel_3504\\2342673738.py:12: FutureWarning: DataFrameGroupBy.apply operated on the grouping columns. This behavior is deprecated, and in a future version of pandas the grouping columns will be excluded from the operation. Either pass `include_groups=False` to exclude the groupings or explicitly select the grouping columns after groupby to silence this warning.\n",
      "  x_train = samples.iloc[train_idx].groupby(['tile_id', target_column], group_keys=False).apply(\n",
      "C:\\Users\\tiago\\AppData\\Local\\Temp\\ipykernel_3504\\2342673738.py:12: FutureWarning: DataFrameGroupBy.apply operated on the grouping columns. This behavior is deprecated, and in a future version of pandas the grouping columns will be excluded from the operation. Either pass `include_groups=False` to exclude the groupings or explicitly select the grouping columns after groupby to silence this warning.\n",
      "  x_train = samples.iloc[train_idx].groupby(['tile_id', target_column], group_keys=False).apply(\n",
      "C:\\Users\\tiago\\AppData\\Local\\Temp\\ipykernel_3504\\2342673738.py:12: FutureWarning: DataFrameGroupBy.apply operated on the grouping columns. This behavior is deprecated, and in a future version of pandas the grouping columns will be excluded from the operation. Either pass `include_groups=False` to exclude the groupings or explicitly select the grouping columns after groupby to silence this warning.\n",
      "  x_train = samples.iloc[train_idx].groupby(['tile_id', target_column], group_keys=False).apply(\n",
      "C:\\Users\\tiago\\AppData\\Local\\Temp\\ipykernel_3504\\2342673738.py:12: FutureWarning: DataFrameGroupBy.apply operated on the grouping columns. This behavior is deprecated, and in a future version of pandas the grouping columns will be excluded from the operation. Either pass `include_groups=False` to exclude the groupings or explicitly select the grouping columns after groupby to silence this warning.\n",
      "  x_train = samples.iloc[train_idx].groupby(['tile_id', target_column], group_keys=False).apply(\n",
      "C:\\Users\\tiago\\AppData\\Local\\Temp\\ipykernel_3504\\2342673738.py:12: FutureWarning: DataFrameGroupBy.apply operated on the grouping columns. This behavior is deprecated, and in a future version of pandas the grouping columns will be excluded from the operation. Either pass `include_groups=False` to exclude the groupings or explicitly select the grouping columns after groupby to silence this warning.\n",
      "  x_train = samples.iloc[train_idx].groupby(['tile_id', target_column], group_keys=False).apply(\n",
      "C:\\Users\\tiago\\AppData\\Local\\Temp\\ipykernel_3504\\2342673738.py:12: FutureWarning: DataFrameGroupBy.apply operated on the grouping columns. This behavior is deprecated, and in a future version of pandas the grouping columns will be excluded from the operation. Either pass `include_groups=False` to exclude the groupings or explicitly select the grouping columns after groupby to silence this warning.\n",
      "  x_train = samples.iloc[train_idx].groupby(['tile_id', target_column], group_keys=False).apply(\n"
     ]
    }
   ],
   "source": [
    "class_name = ['oxc', 'oxn']\n",
    "class_values = [([0], [1]), ([0], [2])]\n",
    "\n",
    "covariates = [f'B{n + 1:02}' for n in range(64)]\n",
    "\n",
    "for n_neighbors in [1, 3]:\n",
    "    for sample_ratio in [0.002, 0.004, 0.008]:\n",
    "        for metric in ['euclidean', 'manhattan', 'cosine']:\n",
    "            for target_column in class_name:\n",
    "                if (OUTPUT_DIR / f'knn.nn_{n_neighbors}.sr_{int(sample_ratio*1000)}.m_{metric}.{target_column}.lz4').exists():\n",
    "                    continue\n",
    "\n",
    "                models = []\n",
    "\n",
    "                for n_fold in [f'{n:02}' for n in range(1, 6)]:\n",
    "                    samples = pd.read_parquet(INPUT_DIR / SAMPLES_FN.format(n_fold=n_fold))\n",
    "\n",
    "                    create_ovo_class(samples, class_name, class_values)\n",
    "\n",
    "                    samples = samples[np.logical_not(np.isnan(samples[target_column]))]\n",
    "\n",
    "                    model = knn_classifier(samples, target_column, covariates, n_neighbors, metric, sample_ratio)\n",
    "\n",
    "                    model['#_fold'] = n_fold\n",
    "\n",
    "                    models.append(model)\n",
    "\n",
    "                joblib.dump(model, OUTPUT_DIR / f'knn.nn_{n_neighbors}.sr_{int(sample_ratio*1000)}.m_{metric}.{target_column}.lz4', compress='lz4')"
   ]
  },
  {
   "cell_type": "markdown",
   "id": "7b576247",
   "metadata": {},
   "source": [
    "## SVC"
   ]
  },
  {
   "cell_type": "markdown",
   "id": "2d593c3f",
   "metadata": {},
   "source": [
    "Para treinamento em quantidades maiores de amostras sera importante migrar para abordagens paralelas como propostas pelo framework [cuML SVM](https://medium.com/rapids-ai/fast-support-vector-classification-with-rapids-cuml-6e49f4a7d89e)."
   ]
  },
  {
   "cell_type": "code",
   "execution_count": null,
   "id": "6d8da647",
   "metadata": {},
   "outputs": [],
   "source": [
    "def get_estimator(kernel=\"linear\"):\n",
    "    return SVC(kernel=kernel, probability=True, random_state=RANDOM_STATE)\n",
    "\n",
    "\n",
    "def linear_svc(samples: pd.DataFrame, target_column: str, covariates: list[str], kernel=\"linear\", sample_ratio=0.01):\n",
    "    x_train = samples.groupby(['tile_id', target_column], group_keys=False).apply(\n",
    "            lambda group: group.sample(frac=sample_ratio, random_state=RANDOM_STATE)\n",
    "        )[covariates]\n",
    "    y_train = samples[target_column]\n",
    "\n",
    "    t_start = time.time()\n",
    "\n",
    "    estimator = get_estimator(kernel)\n",
    "    estimator.fit(x_train, y_train)\n",
    "\n",
    "    return {'model': estimator, 't_start': t_start, 't_end': time.time()}"
   ]
  },
  {
   "cell_type": "code",
   "execution_count": null,
   "id": "7fb76365",
   "metadata": {},
   "outputs": [
    {
     "name": "stderr",
     "output_type": "stream",
     "text": [
      "C:\\Users\\tiago\\AppData\\Local\\Temp\\ipykernel_38688\\3417906131.py:16: FutureWarning: DataFrameGroupBy.apply operated on the grouping columns. This behavior is deprecated, and in a future version of pandas the grouping columns will be excluded from the operation. Either pass `include_groups=False` to exclude the groupings or explicitly select the grouping columns after groupby to silence this warning.\n",
      "  x_train = samples.iloc[train_idx].groupby(['tile_id', target_column], group_keys=False).apply(\n",
      "C:\\Users\\tiago\\AppData\\Local\\Temp\\ipykernel_38688\\3417906131.py:16: FutureWarning: DataFrameGroupBy.apply operated on the grouping columns. This behavior is deprecated, and in a future version of pandas the grouping columns will be excluded from the operation. Either pass `include_groups=False` to exclude the groupings or explicitly select the grouping columns after groupby to silence this warning.\n",
      "  x_train = samples.iloc[train_idx].groupby(['tile_id', target_column], group_keys=False).apply(\n",
      "C:\\Users\\tiago\\AppData\\Local\\Temp\\ipykernel_38688\\3417906131.py:16: FutureWarning: DataFrameGroupBy.apply operated on the grouping columns. This behavior is deprecated, and in a future version of pandas the grouping columns will be excluded from the operation. Either pass `include_groups=False` to exclude the groupings or explicitly select the grouping columns after groupby to silence this warning.\n",
      "  x_train = samples.iloc[train_idx].groupby(['tile_id', target_column], group_keys=False).apply(\n",
      "C:\\Users\\tiago\\AppData\\Local\\Temp\\ipykernel_38688\\3417906131.py:16: FutureWarning: DataFrameGroupBy.apply operated on the grouping columns. This behavior is deprecated, and in a future version of pandas the grouping columns will be excluded from the operation. Either pass `include_groups=False` to exclude the groupings or explicitly select the grouping columns after groupby to silence this warning.\n",
      "  x_train = samples.iloc[train_idx].groupby(['tile_id', target_column], group_keys=False).apply(\n",
      "C:\\Users\\tiago\\AppData\\Local\\Temp\\ipykernel_38688\\3417906131.py:16: FutureWarning: DataFrameGroupBy.apply operated on the grouping columns. This behavior is deprecated, and in a future version of pandas the grouping columns will be excluded from the operation. Either pass `include_groups=False` to exclude the groupings or explicitly select the grouping columns after groupby to silence this warning.\n",
      "  x_train = samples.iloc[train_idx].groupby(['tile_id', target_column], group_keys=False).apply(\n",
      "C:\\Users\\tiago\\AppData\\Local\\Temp\\ipykernel_38688\\3417906131.py:16: FutureWarning: DataFrameGroupBy.apply operated on the grouping columns. This behavior is deprecated, and in a future version of pandas the grouping columns will be excluded from the operation. Either pass `include_groups=False` to exclude the groupings or explicitly select the grouping columns after groupby to silence this warning.\n",
      "  x_train = samples.iloc[train_idx].groupby(['tile_id', target_column], group_keys=False).apply(\n",
      "C:\\Users\\tiago\\AppData\\Local\\Temp\\ipykernel_38688\\3417906131.py:16: FutureWarning: DataFrameGroupBy.apply operated on the grouping columns. This behavior is deprecated, and in a future version of pandas the grouping columns will be excluded from the operation. Either pass `include_groups=False` to exclude the groupings or explicitly select the grouping columns after groupby to silence this warning.\n",
      "  x_train = samples.iloc[train_idx].groupby(['tile_id', target_column], group_keys=False).apply(\n",
      "C:\\Users\\tiago\\AppData\\Local\\Temp\\ipykernel_38688\\3417906131.py:16: FutureWarning: DataFrameGroupBy.apply operated on the grouping columns. This behavior is deprecated, and in a future version of pandas the grouping columns will be excluded from the operation. Either pass `include_groups=False` to exclude the groupings or explicitly select the grouping columns after groupby to silence this warning.\n",
      "  x_train = samples.iloc[train_idx].groupby(['tile_id', target_column], group_keys=False).apply(\n",
      "C:\\Users\\tiago\\AppData\\Local\\Temp\\ipykernel_38688\\3417906131.py:16: FutureWarning: DataFrameGroupBy.apply operated on the grouping columns. This behavior is deprecated, and in a future version of pandas the grouping columns will be excluded from the operation. Either pass `include_groups=False` to exclude the groupings or explicitly select the grouping columns after groupby to silence this warning.\n",
      "  x_train = samples.iloc[train_idx].groupby(['tile_id', target_column], group_keys=False).apply(\n",
      "C:\\Users\\tiago\\AppData\\Local\\Temp\\ipykernel_38688\\3417906131.py:16: FutureWarning: DataFrameGroupBy.apply operated on the grouping columns. This behavior is deprecated, and in a future version of pandas the grouping columns will be excluded from the operation. Either pass `include_groups=False` to exclude the groupings or explicitly select the grouping columns after groupby to silence this warning.\n",
      "  x_train = samples.iloc[train_idx].groupby(['tile_id', target_column], group_keys=False).apply(\n",
      "C:\\Users\\tiago\\AppData\\Local\\Temp\\ipykernel_38688\\3417906131.py:16: FutureWarning: DataFrameGroupBy.apply operated on the grouping columns. This behavior is deprecated, and in a future version of pandas the grouping columns will be excluded from the operation. Either pass `include_groups=False` to exclude the groupings or explicitly select the grouping columns after groupby to silence this warning.\n",
      "  x_train = samples.iloc[train_idx].groupby(['tile_id', target_column], group_keys=False).apply(\n",
      "C:\\Users\\tiago\\AppData\\Local\\Temp\\ipykernel_38688\\3417906131.py:16: FutureWarning: DataFrameGroupBy.apply operated on the grouping columns. This behavior is deprecated, and in a future version of pandas the grouping columns will be excluded from the operation. Either pass `include_groups=False` to exclude the groupings or explicitly select the grouping columns after groupby to silence this warning.\n",
      "  x_train = samples.iloc[train_idx].groupby(['tile_id', target_column], group_keys=False).apply(\n",
      "C:\\Users\\tiago\\AppData\\Local\\Temp\\ipykernel_38688\\3417906131.py:16: FutureWarning: DataFrameGroupBy.apply operated on the grouping columns. This behavior is deprecated, and in a future version of pandas the grouping columns will be excluded from the operation. Either pass `include_groups=False` to exclude the groupings or explicitly select the grouping columns after groupby to silence this warning.\n",
      "  x_train = samples.iloc[train_idx].groupby(['tile_id', target_column], group_keys=False).apply(\n",
      "C:\\Users\\tiago\\AppData\\Local\\Temp\\ipykernel_38688\\3417906131.py:16: FutureWarning: DataFrameGroupBy.apply operated on the grouping columns. This behavior is deprecated, and in a future version of pandas the grouping columns will be excluded from the operation. Either pass `include_groups=False` to exclude the groupings or explicitly select the grouping columns after groupby to silence this warning.\n",
      "  x_train = samples.iloc[train_idx].groupby(['tile_id', target_column], group_keys=False).apply(\n",
      "C:\\Users\\tiago\\AppData\\Local\\Temp\\ipykernel_38688\\3417906131.py:16: FutureWarning: DataFrameGroupBy.apply operated on the grouping columns. This behavior is deprecated, and in a future version of pandas the grouping columns will be excluded from the operation. Either pass `include_groups=False` to exclude the groupings or explicitly select the grouping columns after groupby to silence this warning.\n",
      "  x_train = samples.iloc[train_idx].groupby(['tile_id', target_column], group_keys=False).apply(\n",
      "C:\\Users\\tiago\\AppData\\Local\\Temp\\ipykernel_38688\\3417906131.py:16: FutureWarning: DataFrameGroupBy.apply operated on the grouping columns. This behavior is deprecated, and in a future version of pandas the grouping columns will be excluded from the operation. Either pass `include_groups=False` to exclude the groupings or explicitly select the grouping columns after groupby to silence this warning.\n",
      "  x_train = samples.iloc[train_idx].groupby(['tile_id', target_column], group_keys=False).apply(\n",
      "C:\\Users\\tiago\\AppData\\Local\\Temp\\ipykernel_38688\\3417906131.py:16: FutureWarning: DataFrameGroupBy.apply operated on the grouping columns. This behavior is deprecated, and in a future version of pandas the grouping columns will be excluded from the operation. Either pass `include_groups=False` to exclude the groupings or explicitly select the grouping columns after groupby to silence this warning.\n",
      "  x_train = samples.iloc[train_idx].groupby(['tile_id', target_column], group_keys=False).apply(\n",
      "C:\\Users\\tiago\\AppData\\Local\\Temp\\ipykernel_38688\\3417906131.py:16: FutureWarning: DataFrameGroupBy.apply operated on the grouping columns. This behavior is deprecated, and in a future version of pandas the grouping columns will be excluded from the operation. Either pass `include_groups=False` to exclude the groupings or explicitly select the grouping columns after groupby to silence this warning.\n",
      "  x_train = samples.iloc[train_idx].groupby(['tile_id', target_column], group_keys=False).apply(\n",
      "C:\\Users\\tiago\\AppData\\Local\\Temp\\ipykernel_38688\\3417906131.py:16: FutureWarning: DataFrameGroupBy.apply operated on the grouping columns. This behavior is deprecated, and in a future version of pandas the grouping columns will be excluded from the operation. Either pass `include_groups=False` to exclude the groupings or explicitly select the grouping columns after groupby to silence this warning.\n",
      "  x_train = samples.iloc[train_idx].groupby(['tile_id', target_column], group_keys=False).apply(\n",
      "C:\\Users\\tiago\\AppData\\Local\\Temp\\ipykernel_38688\\3417906131.py:16: FutureWarning: DataFrameGroupBy.apply operated on the grouping columns. This behavior is deprecated, and in a future version of pandas the grouping columns will be excluded from the operation. Either pass `include_groups=False` to exclude the groupings or explicitly select the grouping columns after groupby to silence this warning.\n",
      "  x_train = samples.iloc[train_idx].groupby(['tile_id', target_column], group_keys=False).apply(\n",
      "C:\\Users\\tiago\\AppData\\Local\\Temp\\ipykernel_38688\\3417906131.py:16: FutureWarning: DataFrameGroupBy.apply operated on the grouping columns. This behavior is deprecated, and in a future version of pandas the grouping columns will be excluded from the operation. Either pass `include_groups=False` to exclude the groupings or explicitly select the grouping columns after groupby to silence this warning.\n",
      "  x_train = samples.iloc[train_idx].groupby(['tile_id', target_column], group_keys=False).apply(\n",
      "C:\\Users\\tiago\\AppData\\Local\\Temp\\ipykernel_38688\\3417906131.py:16: FutureWarning: DataFrameGroupBy.apply operated on the grouping columns. This behavior is deprecated, and in a future version of pandas the grouping columns will be excluded from the operation. Either pass `include_groups=False` to exclude the groupings or explicitly select the grouping columns after groupby to silence this warning.\n",
      "  x_train = samples.iloc[train_idx].groupby(['tile_id', target_column], group_keys=False).apply(\n",
      "C:\\Users\\tiago\\AppData\\Local\\Temp\\ipykernel_38688\\3417906131.py:16: FutureWarning: DataFrameGroupBy.apply operated on the grouping columns. This behavior is deprecated, and in a future version of pandas the grouping columns will be excluded from the operation. Either pass `include_groups=False` to exclude the groupings or explicitly select the grouping columns after groupby to silence this warning.\n",
      "  x_train = samples.iloc[train_idx].groupby(['tile_id', target_column], group_keys=False).apply(\n",
      "C:\\Users\\tiago\\AppData\\Local\\Temp\\ipykernel_38688\\3417906131.py:16: FutureWarning: DataFrameGroupBy.apply operated on the grouping columns. This behavior is deprecated, and in a future version of pandas the grouping columns will be excluded from the operation. Either pass `include_groups=False` to exclude the groupings or explicitly select the grouping columns after groupby to silence this warning.\n",
      "  x_train = samples.iloc[train_idx].groupby(['tile_id', target_column], group_keys=False).apply(\n",
      "C:\\Users\\tiago\\AppData\\Local\\Temp\\ipykernel_38688\\3417906131.py:16: FutureWarning: DataFrameGroupBy.apply operated on the grouping columns. This behavior is deprecated, and in a future version of pandas the grouping columns will be excluded from the operation. Either pass `include_groups=False` to exclude the groupings or explicitly select the grouping columns after groupby to silence this warning.\n",
      "  x_train = samples.iloc[train_idx].groupby(['tile_id', target_column], group_keys=False).apply(\n",
      "C:\\Users\\tiago\\AppData\\Local\\Temp\\ipykernel_38688\\3417906131.py:16: FutureWarning: DataFrameGroupBy.apply operated on the grouping columns. This behavior is deprecated, and in a future version of pandas the grouping columns will be excluded from the operation. Either pass `include_groups=False` to exclude the groupings or explicitly select the grouping columns after groupby to silence this warning.\n",
      "  x_train = samples.iloc[train_idx].groupby(['tile_id', target_column], group_keys=False).apply(\n",
      "C:\\Users\\tiago\\AppData\\Local\\Temp\\ipykernel_38688\\3417906131.py:16: FutureWarning: DataFrameGroupBy.apply operated on the grouping columns. This behavior is deprecated, and in a future version of pandas the grouping columns will be excluded from the operation. Either pass `include_groups=False` to exclude the groupings or explicitly select the grouping columns after groupby to silence this warning.\n",
      "  x_train = samples.iloc[train_idx].groupby(['tile_id', target_column], group_keys=False).apply(\n",
      "C:\\Users\\tiago\\AppData\\Local\\Temp\\ipykernel_38688\\3417906131.py:16: FutureWarning: DataFrameGroupBy.apply operated on the grouping columns. This behavior is deprecated, and in a future version of pandas the grouping columns will be excluded from the operation. Either pass `include_groups=False` to exclude the groupings or explicitly select the grouping columns after groupby to silence this warning.\n",
      "  x_train = samples.iloc[train_idx].groupby(['tile_id', target_column], group_keys=False).apply(\n",
      "C:\\Users\\tiago\\AppData\\Local\\Temp\\ipykernel_38688\\3417906131.py:16: FutureWarning: DataFrameGroupBy.apply operated on the grouping columns. This behavior is deprecated, and in a future version of pandas the grouping columns will be excluded from the operation. Either pass `include_groups=False` to exclude the groupings or explicitly select the grouping columns after groupby to silence this warning.\n",
      "  x_train = samples.iloc[train_idx].groupby(['tile_id', target_column], group_keys=False).apply(\n",
      "C:\\Users\\tiago\\AppData\\Local\\Temp\\ipykernel_38688\\3417906131.py:16: FutureWarning: DataFrameGroupBy.apply operated on the grouping columns. This behavior is deprecated, and in a future version of pandas the grouping columns will be excluded from the operation. Either pass `include_groups=False` to exclude the groupings or explicitly select the grouping columns after groupby to silence this warning.\n",
      "  x_train = samples.iloc[train_idx].groupby(['tile_id', target_column], group_keys=False).apply(\n"
     ]
    }
   ],
   "source": [
    "class_name = ['oxc', 'oxn']\n",
    "class_values = [([0], [1]), ([0], [2])]\n",
    "\n",
    "covariates = [f'B{n + 1:02}' for n in range(64)]\n",
    "\n",
    "for kernel in ['linear', 'poly', 'rbf']:\n",
    "    for target_column in class_name:\n",
    "        if (OUTPUT_DIR / f'svc.k_{kernel}.{target_column}.lz4').exists():\n",
    "            continue\n",
    "\n",
    "        models = []\n",
    "\n",
    "        for n_fold in [f'{n:02}' for n in range(1, 6)]:\n",
    "            samples = pd.read_parquet(INPUT_DIR / SAMPLES_FN)\n",
    "\n",
    "            create_ovo_class(samples, class_name, class_values)\n",
    "\n",
    "            samples = samples[np.logical_not(np.isnan(samples[target_column]))]\n",
    "\n",
    "            model = linear_svc(samples, target_column, covariates, kernel, sample_ratio)\n",
    "\n",
    "            model['#_fold'] =  n_fold\n",
    "\n",
    "            models.append(model)\n",
    "\n",
    "        joblib.dump(model, OUTPUT_DIR / f'svc.k_{kernel}.{target_column}.lz4', compress='lz4')"
   ]
  },
  {
   "cell_type": "markdown",
   "id": "ca83495a",
   "metadata": {},
   "source": [
    "# LogisticRegression"
   ]
  },
  {
   "cell_type": "code",
   "execution_count": null,
   "id": "dbdbc4df",
   "metadata": {},
   "outputs": [],
   "source": [
    "def get_estimator():\n",
    "    return LogisticRegression(n_jobs=-1, random_state=RANDOM_STATE)\n",
    "\n",
    "\n",
    "def random_forest(samples: pd.DataFrame, target_column: str, covariates: list[str]):\n",
    "    x_train = samples[covariates]\n",
    "    y_train = samples[target_column]\n",
    "\n",
    "    t_start = time.time()\n",
    "\n",
    "    estimator = get_estimator()\n",
    "    estimator.fit(x_train, y_train)\n",
    "\n",
    "    return {'model': estimator, 't_start': t_start, 't_end': time.time()}"
   ]
  },
  {
   "cell_type": "code",
   "execution_count": null,
   "id": "fda86e94",
   "metadata": {},
   "outputs": [],
   "source": [
    "class_name = ['oxc', 'oxn']\n",
    "class_values = [([0], [1]), ([0], [2])]\n",
    "\n",
    "covariates = [f'B{n + 1:02}' for n in range(64)]\n",
    "\n",
    "for kernel in ['linear', 'poly', 'rbf']:\n",
    "    for target_column in class_name:\n",
    "        if (OUTPUT_DIR / f'svc.k_{kernel}.{target_column}.lz4').exists():\n",
    "            continue\n",
    "\n",
    "        models = []\n",
    "\n",
    "        for n_fold in [f'{n:02}' for n in range(1, 6)]:\n",
    "            samples = pd.read_parquet(INPUT_DIR / SAMPLES_FN)\n",
    "\n",
    "            create_ovo_class(samples, class_name, class_values)\n",
    "\n",
    "            samples = samples[np.logical_not(np.isnan(samples[target_column]))]\n",
    "\n",
    "            model = linear_svc(samples, target_column, covariates, kernel, sample_ratio)\n",
    "\n",
    "            model['#_fold'] =  n_fold\n",
    "\n",
    "            models.append(model)\n",
    "\n",
    "        joblib.dump(model, OUTPUT_DIR / f'svc.k_{kernel}.{target_column}.lz4', compress='lz4')"
   ]
  },
  {
   "cell_type": "markdown",
   "id": "34bc6250",
   "metadata": {},
   "source": [
    "## Neural Network"
   ]
  },
  {
   "cell_type": "code",
   "execution_count": null,
   "id": "b32b7280",
   "metadata": {},
   "outputs": [],
   "source": [
    "import tensorflow as tf\n",
    "from tensorflow.keras import layers, models\n",
    "\n",
    "# Modelo sequencial com uma única camada densa\n",
    "model = models.Sequential([\n",
    "    layers.Dense(512, input_shape=(64,), activation='relu'),\n",
    "    layers.Dense(2, activation='softmax')\n",
    "])\n",
    "\n",
    "# Compila o modelo\n",
    "model.compile(\n",
    "    optimizer='adam',\n",
    "    loss='categorical_crossentropy',\n",
    "    metrics=['accuracy']\n",
    ")\n",
    "\n",
    "# Exibe o resumo do modelo\n",
    "model.summary()"
   ]
  }
 ],
 "metadata": {
  "kernelspec": {
   "display_name": "gdal",
   "language": "python",
   "name": "python3"
  },
  "language_info": {
   "codemirror_mode": {
    "name": "ipython",
    "version": 3
   },
   "file_extension": ".py",
   "mimetype": "text/x-python",
   "name": "python",
   "nbconvert_exporter": "python",
   "pygments_lexer": "ipython3",
   "version": "3.11.14"
  }
 },
 "nbformat": 4,
 "nbformat_minor": 5
}
