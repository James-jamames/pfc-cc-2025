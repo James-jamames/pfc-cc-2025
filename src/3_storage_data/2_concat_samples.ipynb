{
 "cells": [
  {
   "cell_type": "markdown",
   "id": "441e57c2",
   "metadata": {},
   "source": [
    "# CONCAT"
   ]
  },
  {
   "cell_type": "code",
   "execution_count": null,
   "id": "32d4552c",
   "metadata": {},
   "outputs": [],
   "source": [
    "from pathlib import Path\n",
    "\n",
    "input_dir = Path(\"../../data/parquet\")\n",
    "output_dir = Path(\"../../data\")\n",
    "output_dir.mkdir(exist_ok=True)\n",
    "\n",
    "parquet_files = list((input_dir).glob(\"*.pq\"))"
   ]
  },
  {
   "cell_type": "code",
   "execution_count": null,
   "id": "4a40c268",
   "metadata": {},
   "outputs": [
    {
     "name": "stderr",
     "output_type": "stream",
     "text": [
      "100%|██████████| 8070/8070 [02:22<00:00, 56.72it/s]\n"
     ]
    }
   ],
   "source": [
    "import pyarrow.parquet as pq\n",
    "import pyarrow as pa\n",
    "\n",
    "from tqdm import tqdm\n",
    "\n",
    "writer = None\n",
    "\n",
    "for files in tqdm(parquet_files):\n",
    "    reader = pq.ParquetFile(files)\n",
    "\n",
    "    for batch in reader.iter_batches():\n",
    "        table = pa.Table.from_batches([batch])\n",
    "\n",
    "        if writer is None:\n",
    "            writer = pq.ParquetWriter(output_dir / \"samples.pq\", table.schema)\n",
    "\n",
    "        writer.write_table(table)\n",
    "\n",
    "if writer:\n",
    "    writer.close()"
   ]
  }
 ],
 "metadata": {
  "language_info": {
   "name": "python"
  }
 },
 "nbformat": 4,
 "nbformat_minor": 5
}
