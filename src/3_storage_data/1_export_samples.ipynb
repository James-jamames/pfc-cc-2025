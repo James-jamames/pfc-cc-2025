{
 "cells": [
  {
   "cell_type": "markdown",
   "id": "e6274f65",
   "metadata": {},
   "source": [
    "# EXPORT"
   ]
  },
  {
   "cell_type": "code",
   "execution_count": null,
   "id": "8e8b8923",
   "metadata": {},
   "outputs": [],
   "source": [
    "from pathlib import Path\n",
    "\n",
    "input_dir = Path(\"../../data/raster\")\n",
    "output_dir = Path(\"../../data/parquet\")\n",
    "output_dir.mkdir(exist_ok=True)\n",
    "\n",
    "raster_files = list((input_dir / 'google').glob(\"*.tif\")) + list((input_dir / 'bing').glob(\"*.tif\"))"
   ]
  },
  {
   "cell_type": "code",
   "execution_count": null,
   "id": "78bf234f",
   "metadata": {},
   "outputs": [],
   "source": [
    "import rasterio\n",
    "import pandas as pd\n",
    "\n",
    "from tqdm import tqdm\n",
    "\n",
    "def raster2gpkg(input_dir):\n",
    "    with rasterio.open(input_dir) as src:\n",
    "        data = src.read()\n",
    "        nodata = src.nodata\n",
    "        transform = src.transform\n",
    "\n",
    "    _, rows, cols = data.shape\n",
    "\n",
    "    records = []\n",
    "\n",
    "    for i in range(rows):\n",
    "        for j in range(cols):\n",
    "            values = data[:, i, j]\n",
    "\n",
    "            if any(values == nodata):\n",
    "                continue\n",
    "\n",
    "            x, y = transform * (j + 0.5, i + 0.5)\n",
    "\n",
    "            record = {f\"B{b+1:02}\": values[b] for b in range(64)}\n",
    "\n",
    "            record['x'] = x\n",
    "            record['y'] = y\n",
    "            record[\"class\"] = values[64]\n",
    "            record[\"tile_id\"] = input_dir.stem\n",
    "\n",
    "            records.append(record)\n",
    "\n",
    "    df = pd.DataFrame(records)\n",
    "\n",
    "    return df if not df.empty else None"
   ]
  },
  {
   "cell_type": "code",
   "execution_count": null,
   "id": "26bf2817",
   "metadata": {},
   "outputs": [
    {
     "name": "stderr",
     "output_type": "stream",
     "text": [
      "100%|██████████| 8098/8098 [36:05<00:00,  3.74it/s]\n"
     ]
    }
   ],
   "source": [
    "counter = 0\n",
    "\n",
    "for raster_file in tqdm(raster_files):\n",
    "    df = raster2gpkg(raster_file)\n",
    "\n",
    "    if not df is None:\n",
    "        df.to_parquet(output_dir / f\"{counter}.pq\", index=False)\n",
    "\n",
    "        counter += 1"
   ]
  }
 ],
 "metadata": {
  "language_info": {
   "name": "python"
  }
 },
 "nbformat": 4,
 "nbformat_minor": 5
}
