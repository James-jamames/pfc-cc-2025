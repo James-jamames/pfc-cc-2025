{
 "cells": [
  {
   "cell_type": "markdown",
   "id": "25e32dc1",
   "metadata": {},
   "source": [
    "# SPLIT (GroupKFold)"
   ]
  },
  {
   "cell_type": "code",
   "execution_count": null,
   "id": "a288edcd",
   "metadata": {},
   "outputs": [],
   "source": [
    "from pathlib import Path\n",
    "\n",
    "input_dir = Path(\"../../data\")\n",
    "output_dir = Path(\"../../data\")"
   ]
  },
  {
   "cell_type": "code",
   "execution_count": null,
   "id": "894829f5",
   "metadata": {},
   "outputs": [
    {
     "data": {
      "text/plain": [
       "class\n",
       "0.0    3463847\n",
       "2.0    1130850\n",
       "1.0     482438\n",
       "3.0     249533\n",
       "Name: count, dtype: int64"
      ]
     },
     "metadata": {},
     "output_type": "display_data"
    }
   ],
   "source": [
    "import joblib\n",
    "import pandas as pd\n",
    "\n",
    "from sklearn.model_selection import GroupKFold\n",
    "\n",
    "N_SPLITS = 5\n",
    "\n",
    "samples = pd.read_parquet(input_dir / \"samples.pq\")\n",
    "\n",
    "covariates = [f\"B{b:02}\" for b in range(1, 65)]\n",
    "\n",
    "counter = 1\n",
    "\n",
    "groupKFold = GroupKFold(N_SPLITS, shuffle=True, random_state=0)\n",
    "\n",
    "for train_idx, test_idx in groupKFold.split(samples[covariates], samples['class'], samples['tile_id']):\n",
    "        train_samples = samples.iloc[train_idx].sample(frac=0.2).to_parquet(output_dir / f\"{counter:02}_samples_train.pq\", index=False)\n",
    "        test_samples = samples.iloc[test_idx].to_parquet(output_dir / f\"{counter:02}_samples_test.pq\", index=False)\n",
    "\n",
    "        counter += 1"
   ]
  }
 ],
 "metadata": {
  "language_info": {
   "name": "python"
  }
 },
 "nbformat": 4,
 "nbformat_minor": 5
}
