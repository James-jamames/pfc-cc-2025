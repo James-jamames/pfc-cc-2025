{
 "cells": [
  {
   "cell_type": "markdown",
   "id": "25e32dc1",
   "metadata": {},
   "source": [
    "# SPLIT (GroupKFold)"
   ]
  },
  {
   "cell_type": "code",
   "execution_count": 1,
   "id": "a288edcd",
   "metadata": {},
   "outputs": [],
   "source": [
    "from pathlib import Path\n",
    "\n",
    "input_dir = Path(\"../../data\")\n",
    "output_dir = Path(\"../../data\")"
   ]
  },
  {
   "cell_type": "code",
   "execution_count": 2,
   "id": "894829f5",
   "metadata": {},
   "outputs": [],
   "source": [
    "import pandas as pd\n",
    "\n",
    "from sklearn.model_selection import GroupKFold\n",
    "\n",
    "N_SPLITS = 5\n",
    "\n",
    "samples = pd.read_parquet(input_dir / \"samples.pq\")\n",
    "\n",
    "covariates = [f\"B{b:02}\" for b in range(1, 65)]\n",
    "\n",
    "split_counter = 1\n",
    "\n",
    "groupKFold = GroupKFold(N_SPLITS, shuffle=True, random_state=0)\n",
    "\n",
    "for train_idx, test_idx in groupKFold.split(samples[covariates], samples['class'], samples['tile_id']):\n",
    "        for frac in [0.1, 0.2, 0.3, 0.4]:\n",
    "                samples.iloc[train_idx].sample(frac=frac).to_parquet(output_dir / f\"samples.split_{split_counter:02}.frac_{int(frac * 100)}.train.pq\", index=False)\n",
    "                \n",
    "        samples.iloc[test_idx].to_parquet(output_dir / f\"samples.split_{split_counter:02}.test.pq\", index=False)\n",
    "\n",
    "        split_counter += 1"
   ]
  },
  {
   "cell_type": "code",
   "execution_count": null,
   "id": "d38b37f3",
   "metadata": {},
   "outputs": [],
   "source": []
  }
 ],
 "metadata": {
  "kernelspec": {
   "display_name": "gdal",
   "language": "python",
   "name": "python3"
  },
  "language_info": {
   "codemirror_mode": {
    "name": "ipython",
    "version": 3
   },
   "file_extension": ".py",
   "mimetype": "text/x-python",
   "name": "python",
   "nbconvert_exporter": "python",
   "pygments_lexer": "ipython3",
   "version": "3.11.14"
  }
 },
 "nbformat": 4,
 "nbformat_minor": 5
}
