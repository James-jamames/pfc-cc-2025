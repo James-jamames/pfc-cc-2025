{
 "cells": [
  {
   "cell_type": "markdown",
   "id": "b1df04bc-cd6c-4abf-9e6f-e7c1da2be89f",
   "metadata": {},
   "source": [
    "# Carregar Dados"
   ]
  },
  {
   "cell_type": "code",
   "execution_count": 1,
   "id": "bbeea2cf-18aa-476e-a4e6-ad0133952d82",
   "metadata": {
    "tags": []
   },
   "outputs": [],
   "source": [
    "from pathlib import Path\n",
    "\n",
    "INPUT_DIR = Path(\"../data\")\n",
    "OUTPUT_DIR = Path(\"../models\")\n",
    "\n",
    "SAMPLES_FN = \"samples.pq\""
   ]
  },
  {
   "cell_type": "markdown",
   "id": "964f6c23-7b6e-4ea1-87bc-dae2ca315410",
   "metadata": {},
   "source": [
    "# Misc"
   ]
  },
  {
   "cell_type": "code",
   "execution_count": 2,
   "id": "ae8ec57a-0055-426c-971f-533544ca8dbb",
   "metadata": {
    "tags": []
   },
   "outputs": [],
   "source": [
    "import os\n",
    "\n",
    "class PathHandler():\n",
    "    __value: str = ''\n",
    "    \n",
    "    @classmethod\n",
    "    def generate_path(cls, file_name: str):\n",
    "        return OUTPUT_DIR / f\"{file_name}_{cls.__value}.lz4\"\n",
    "        \n",
    "    @classmethod\n",
    "    def set_value(cls, value: str):\n",
    "        cls.__value = value"
   ]
  },
  {
   "cell_type": "markdown",
   "id": "cbe796e8-48e6-4860-9dd9-263afa2baf81",
   "metadata": {},
   "source": [
    "# Treinamento Modelos"
   ]
  },
  {
   "cell_type": "code",
   "execution_count": 3,
   "id": "b96819d5-9c27-4258-955f-9d05afde52a0",
   "metadata": {
    "scrolled": true,
    "tags": []
   },
   "outputs": [],
   "source": [
    "import joblib\n",
    "\n",
    "import numpy as np\n",
    "import pandas as pd\n",
    "\n",
    "from sklearn.neighbors import KNeighborsClassifier\n",
    "from sklearn.ensemble import RandomForestClassifier\n",
    "from sklearn.model_selection import GroupKFold, KFold, cross_val_predict\n",
    "from sklearn.metrics import precision_score, recall_score, f1_score, precision_recall_curve"
   ]
  },
  {
   "cell_type": "code",
   "execution_count": 4,
   "id": "a414c655-19d9-4c63-9fc3-0107d4c336c2",
   "metadata": {
    "tags": []
   },
   "outputs": [],
   "source": [
    "TARGET_COLUMN = 'class'\n",
    "\n",
    "SPATIAL_CROSS_VALIDATION_COLUMN = 'tile_id'\n",
    "\n",
    "CROSS_VALIDATION_NJOBS, CROSS_VALIDATION_FOLDS = 5, 5\n",
    "\n",
    "RANDOM_STATE = 1989"
   ]
  },
  {
   "cell_type": "code",
   "execution_count": 5,
   "id": "f99ac300-f5a3-46a4-bec0-65b718c93e9d",
   "metadata": {
    "tags": []
   },
   "outputs": [],
   "source": [
    "def target_ovo(samples: pd.DataFrame, class_name: str, class_a: list[int], class_b: list[int]):\n",
    "    remap_dict = {}\n",
    "    \n",
    "    remap_dict.update({val: 0.0 for val in class_a})\n",
    "    remap_dict.update({val: 1.0 for val in class_b})\n",
    "    \n",
    "    samples[class_name] = samples[TARGET_COLUMN].map(remap_dict)\n",
    "\n",
    "\n",
    "def create_ovo_class(samples: pd.DataFrame, class_name: list[str], class_values: list[tuple[list[int], list[int]]]):\n",
    "    class_data = dict(zip(class_name, class_values))\n",
    "    \n",
    "    for class_key in class_data:\n",
    "        value_a = class_data[class_key][0]\n",
    "        value_b = class_data[class_key][1]\n",
    "        \n",
    "        target_ovo(samples, class_key, value_a, value_b)"
   ]
  },
  {
   "cell_type": "markdown",
   "id": "b260a915",
   "metadata": {},
   "source": [
    "## Random Forest"
   ]
  },
  {
   "cell_type": "code",
   "execution_count": 6,
   "id": "f4820e40",
   "metadata": {},
   "outputs": [],
   "source": [
    "def get_optimal_threshold(y_true: pd.DataFrame, y_pred):\n",
    "    precision, recall, threshold = precision_recall_curve(y_true, y_pred)\n",
    "    \n",
    "    nonzero_mask = np.logical_and((precision != 0.0), (recall != 0.0))\n",
    "    \n",
    "    optimal_idx = np.argmax(1 - np.abs(precision[nonzero_mask] - recall[nonzero_mask]))\n",
    "    \n",
    "    return threshold[optimal_idx]"
   ]
  },
  {
   "cell_type": "code",
   "execution_count": 7,
   "id": "6c61a1ee-96a1-4942-b9d7-daf72ee4c1a5",
   "metadata": {
    "scrolled": true,
    "tags": []
   },
   "outputs": [],
   "source": [
    "def get_estimator():\n",
    "    return RandomForestClassifier(n_jobs=-1)\n",
    "\n",
    "\n",
    "def random_forest(samples: pd.DataFrame, target_column: str, covariates: list[str]):\n",
    "    tc_samples = samples[np.logical_not(np.isnan(samples[target_column]))]\n",
    "\n",
    "    X = tc_samples[covariates]\n",
    "    y = tc_samples[target_column]\n",
    "    \n",
    "    estimator = get_estimator()\n",
    "\n",
    "    cv_result = cross_val_predict(\n",
    "        estimator, X, y,\n",
    "        method='predict_proba',\n",
    "        cv=GroupKFold(CROSS_VALIDATION_FOLDS),\n",
    "        groups=tc_samples[SPATIAL_CROSS_VALIDATION_COLUMN],\n",
    "        verbose=False,\n",
    "        n_jobs=-1,\n",
    "    )\n",
    "\n",
    "    estimator.fit(X, y)\n",
    "\n",
    "    op_threshold = get_optimal_threshold(y, cv_result[:,1])\n",
    "\n",
    "    y_pred = (cv_result[:, 1] >= op_threshold).astype(int)\n",
    "\n",
    "    joblib.dump({\n",
    "        'cv_result': pd.DataFrame({\n",
    "            'predict_proba': cv_result[:,1],\n",
    "            'expected': y.to_numpy(),\n",
    "        }),\n",
    "        'threshold': op_threshold,\n",
    "        'recall': recall_score(y, y_pred),\n",
    "        'precision': precision_score(y, y_pred),\n",
    "        'f1_score': f1_score(y, y_pred),\n",
    "        'model': estimator,\n",
    "    }, OUTPUT_DIR / f'{target_column}.lz4', compress='lz4')"
   ]
  },
  {
   "cell_type": "markdown",
   "id": "a2792a96-9984-4976-a76f-7c7236188d4b",
   "metadata": {},
   "source": [
    "### AlphaEarth Embeddings"
   ]
  },
  {
   "cell_type": "code",
   "execution_count": 8,
   "id": "e3f167db",
   "metadata": {},
   "outputs": [],
   "source": [
    "class_name = ['other_vs_cultivated', 'other_vs_natural']\n",
    "class_values = [([0], [1]), ([0], [2])]\n",
    "\n",
    "samples = pd.read_parquet(INPUT_DIR / SAMPLES_FN)\n",
    "\n",
    "samples = samples[~samples['is_valid']].copy()\n",
    "\n",
    "covariates = [f'B{n + 1}' for n in range(64)]"
   ]
  },
  {
   "cell_type": "code",
   "execution_count": 9,
   "id": "4270a7d0",
   "metadata": {},
   "outputs": [],
   "source": [
    "create_ovo_class(samples, class_name, class_values)"
   ]
  },
  {
   "cell_type": "code",
   "execution_count": 10,
   "id": "8be47983-047f-470d-9125-d96b32e02fa5",
   "metadata": {
    "tags": []
   },
   "outputs": [],
   "source": [
    "for target_column in class_name:\n",
    "    PathHandler.set_value(target_column)\n",
    "\n",
    "    random_forest(samples, target_column, covariates)"
   ]
  },
  {
   "cell_type": "markdown",
   "id": "2501245a",
   "metadata": {},
   "source": [
    "### Landsat"
   ]
  },
  {
   "cell_type": "code",
   "execution_count": null,
   "id": "abdf97b6",
   "metadata": {},
   "outputs": [],
   "source": [
    "class_name = ['other_vs_cultivated', 'other_vs_natural']\n",
    "class_values = [([3], [1]), ([3], [2])]\n",
    "\n",
    "PathHandler.set_path(f'')\n",
    "\n",
    "samples = pd.read_parquet(os.path.join(SAMPLES_PATH, \"landsat_train_samples.parquet\"))\n",
    "\n",
    "covariates = list(samples.columns)[2:]\n",
    "\n",
    "create_ovo_class(samples, class_name, class_values)\n",
    "\n",
    "for target_column in class_name:\n",
    "    PathHandler.set_value(target_column)\n",
    "\n",
    "    random_forest(samples, target_column, covariates)"
   ]
  },
  {
   "cell_type": "markdown",
   "id": "8969e638",
   "metadata": {},
   "source": [
    "## kNN"
   ]
  },
  {
   "cell_type": "code",
   "execution_count": null,
   "id": "9c951cf9",
   "metadata": {},
   "outputs": [],
   "source": [
    "\n",
    "def knn_classifier(samples: pd.DataFrame, target_column: str, covariates: list[str], save_path: str):\n",
    "    tc_samples = samples[np.logical_not(np.isnan(samples[target_column]))]\n",
    "\n",
    "    X = tc_samples[covariates]\n",
    "    y = tc_samples[target_column]\n",
    "\n",
    "    estimator = get_estimator()\n",
    "\n",
    "    cv_result = cross_val_predict(\n",
    "        estimator, X, y,\n",
    "        method='predict_proba',\n",
    "        cv=GroupKFold(CROSS_VALIDATION_FOLDS),\n",
    "        groups=tc_samples[SPATIAL_CROSS_VALIDATION_COLUMN],\n",
    "        n_jobs=-1,\n",
    "        verbose=0\n",
    "    )\n",
    "\n",
    "    estimator.fit(X, y)\n",
    "\n",
    "    op_threshold = get_optimal_threshold(y, cv_result[:, 1])\n",
    "\n",
    "    y_pred = (cv_result[:, 1] >= op_threshold).astype(int)\n",
    "\n",
    "    joblib.dump({\n",
    "        'cv_result': pd.DataFrame({\n",
    "            'predict_proba': cv_result[:, 1],\n",
    "            'expected': y.to_numpy(),\n",
    "        }),\n",
    "        'threshold': op_threshold,\n",
    "        'recall': recall_score(y, y_pred),\n",
    "        'precision': precision_score(y, y_pred),\n",
    "        'f1_score': f1_score(y, y_pred),\n",
    "        'model': estimator,\n",
    "    }, os.path.join(save_path, 'knn_model.joblib'), compress='lz4')"
   ]
  },
  {
   "cell_type": "code",
   "execution_count": 14,
   "id": "94b3b11e",
   "metadata": {},
   "outputs": [
    {
     "name": "stderr",
     "output_type": "stream",
     "text": [
      "Exception ignored in: <_io.BufferedReader>\n",
      "Traceback (most recent call last):\n",
      "  File \"c:\\Users\\tiago\\anaconda3\\envs\\gdal\\Lib\\site-packages\\lz4\\frame\\__init__.py\", line 753, in flush\n",
      "    self._fp.flush()\n",
      "ValueError: I/O operation on closed file.\n"
     ]
    },
    {
     "name": "stdout",
     "output_type": "stream",
     "text": [
      "{'cv_result':          predict_proba  expected\n",
      "0                 0.10       0.0\n",
      "1                 0.02       0.0\n",
      "2                 0.13       0.0\n",
      "3                 0.13       0.0\n",
      "4                 0.02       0.0\n",
      "...                ...       ...\n",
      "5574193           0.05       0.0\n",
      "5574194           0.06       0.0\n",
      "5574195           0.10       0.0\n",
      "5574196           0.11       0.0\n",
      "5574197           0.11       0.0\n",
      "\n",
      "[5574198 rows x 2 columns], 'threshold': np.float64(0.32), 'recall': 0.6121106125187814, 'precision': 0.6038804474121208, 'f1_score': 0.6079676779442008, 'model': RandomForestClassifier(n_jobs=-1)}\n"
     ]
    }
   ],
   "source": [
    "import joblib\n",
    "\n",
    "# Arquivo salvo com joblib.dump(..., compress=('lz4', 3))\n",
    "arquivo = \"C:/Users/tiago/Documents/Workspace/UFG/pfc-cc-2025/models/other_vs_natural.lz4\"\n",
    "\n",
    "# Carregar o objeto do arquivo\n",
    "dados = joblib.load(arquivo)\n",
    "\n",
    "print(dados)"
   ]
  }
 ],
 "metadata": {
  "kernelspec": {
   "display_name": "gdal",
   "language": "python",
   "name": "python3"
  },
  "language_info": {
   "codemirror_mode": {
    "name": "ipython",
    "version": 3
   },
   "file_extension": ".py",
   "mimetype": "text/x-python",
   "name": "python",
   "nbconvert_exporter": "python",
   "pygments_lexer": "ipython3",
   "version": "3.13.7"
  }
 },
 "nbformat": 4,
 "nbformat_minor": 5
}
