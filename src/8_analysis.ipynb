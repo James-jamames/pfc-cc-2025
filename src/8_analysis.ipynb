{
 "cells": [
  {
   "cell_type": "markdown",
   "id": "641d178f",
   "metadata": {},
   "source": [
    "# Models"
   ]
  },
  {
   "cell_type": "code",
   "execution_count": null,
   "id": "53508e02",
   "metadata": {},
   "outputs": [
    {
     "name": "stderr",
     "output_type": "stream",
     "text": [
      "Exception ignored in: <_io.BufferedReader>\n",
      "Traceback (most recent call last):\n",
      "  File \"c:\\Users\\tiago\\anaconda3\\envs\\gdal\\Lib\\site-packages\\lz4\\frame\\__init__.py\", line 753, in flush\n",
      "    self._fp.flush()\n",
      "ValueError: I/O operation on closed file.\n"
     ]
    },
    {
     "data": {
      "text/plain": [
       "{'bootstrap': True,\n",
       " 'ccp_alpha': 0.0,\n",
       " 'class_weight': None,\n",
       " 'criterion': 'gini',\n",
       " 'max_depth': None,\n",
       " 'max_features': 'sqrt',\n",
       " 'max_leaf_nodes': None,\n",
       " 'max_samples': None,\n",
       " 'min_impurity_decrease': 0.0,\n",
       " 'min_samples_leaf': 1,\n",
       " 'min_samples_split': 2,\n",
       " 'min_weight_fraction_leaf': 0.0,\n",
       " 'monotonic_cst': None,\n",
       " 'n_estimators': 100,\n",
       " 'n_jobs': -1,\n",
       " 'oob_score': False,\n",
       " 'random_state': 0,\n",
       " 'verbose': 0,\n",
       " 'warm_start': False}"
      ]
     },
     "execution_count": 1,
     "metadata": {},
     "output_type": "execute_result"
    }
   ],
   "source": [
    "import joblib\n",
    "\n",
    "rf_model = joblib.load('../models/rf.oxc.lz4')[0]['model']\n",
    "\n",
    "params = rf_model.get_params()\n",
    "\n",
    "text = ''\n",
    "\n",
    "for key in params:\n",
    "    text += \"\\\\textit{\" + key.replace('_', '\\\\_') + \"=\" + str(params[key]).replace('_', '\\\\_') + \"}, \"\n",
    "\n",
    "print(text)"
   ]
  },
  {
   "cell_type": "code",
   "execution_count": 2,
   "id": "60060031",
   "metadata": {},
   "outputs": [
    {
     "name": "stderr",
     "output_type": "stream",
     "text": [
      "Exception ignored in: <_io.BufferedReader>\n",
      "Traceback (most recent call last):\n",
      "  File \"c:\\Users\\tiago\\anaconda3\\envs\\gdal\\Lib\\site-packages\\lz4\\frame\\__init__.py\", line 753, in flush\n",
      "    self._fp.flush()\n",
      "ValueError: I/O operation on closed file.\n"
     ]
    },
    {
     "name": "stdout",
     "output_type": "stream",
     "text": [
      "\\textit{objective=binary:logistic}, \\textit{base\\_score=None}, \\textit{booster=gbtree}, \\textit{callbacks=None}, \\textit{colsample\\_bylevel=None}, \\textit{colsample\\_bynode=None}, \\textit{colsample\\_bytree=None}, \\textit{device=None}, \\textit{early\\_stopping\\_rounds=None}, \\textit{enable\\_categorical=False}, \\textit{eval\\_metric=mlogloss}, \\textit{feature\\_types=None}, \\textit{feature\\_weights=None}, \\textit{gamma=None}, \\textit{grow\\_policy=None}, \\textit{importance\\_type=None}, \\textit{interaction\\_constraints=None}, \\textit{learning\\_rate=None}, \\textit{max\\_bin=None}, \\textit{max\\_cat\\_threshold=None}, \\textit{max\\_cat\\_to\\_onehot=None}, \\textit{max\\_delta\\_step=None}, \\textit{max\\_depth=None}, \\textit{max\\_leaves=None}, \\textit{min\\_child\\_weight=None}, \\textit{missing=nan}, \\textit{monotone\\_constraints=None}, \\textit{multi\\_strategy=None}, \\textit{n\\_estimators=None}, \\textit{n\\_jobs=-1}, \\textit{num\\_parallel\\_tree=None}, \\textit{random\\_state=0}, \\textit{reg\\_alpha=None}, \\textit{reg\\_lambda=None}, \\textit{sampling\\_method=None}, \\textit{scale\\_pos\\_weight=None}, \\textit{subsample=None}, \\textit{tree\\_method=None}, \\textit{validate\\_parameters=None}, \\textit{verbosity=None}, \n"
     ]
    }
   ],
   "source": [
    "import joblib\n",
    "\n",
    "model = joblib.load('../models/xgb.oxc.lz4')[0]['model']\n",
    "\n",
    "params = model.get_params()\n",
    "\n",
    "text = ''\n",
    "\n",
    "for key in params:\n",
    "    text += \"\\\\textit{\" + key.replace('_', '\\\\_') + \"=\" + str(params[key]).replace('_', '\\\\_') + \"}, \"\n",
    "\n",
    "print(text)"
   ]
  },
  {
   "cell_type": "code",
   "execution_count": 4,
   "id": "f1b09d10",
   "metadata": {},
   "outputs": [
    {
     "name": "stderr",
     "output_type": "stream",
     "text": [
      "Exception ignored in: <_io.BufferedReader>\n",
      "Traceback (most recent call last):\n",
      "  File \"c:\\Users\\tiago\\anaconda3\\envs\\gdal\\Lib\\site-packages\\lz4\\frame\\__init__.py\", line 753, in flush\n",
      "    self._fp.flush()\n",
      "ValueError: I/O operation on closed file.\n"
     ]
    },
    {
     "name": "stdout",
     "output_type": "stream",
     "text": [
      "\\textit{boosting\\_type=gbdt}, \\textit{class\\_weight=None}, \\textit{colsample\\_bytree=1.0}, \\textit{importance\\_type=split}, \\textit{learning\\_rate=0.1}, \\textit{max\\_depth=-1}, \\textit{min\\_child\\_samples=20}, \\textit{min\\_child\\_weight=0.001}, \\textit{min\\_split\\_gain=0.0}, \\textit{n\\_estimators=100}, \\textit{n\\_jobs=-1}, \\textit{num\\_leaves=31}, \\textit{objective=None}, \\textit{random\\_state=0}, \\textit{reg\\_alpha=0.0}, \\textit{reg\\_lambda=0.0}, \\textit{subsample=1.0}, \\textit{subsample\\_for\\_bin=200000}, \\textit{subsample\\_freq=0}, \n"
     ]
    }
   ],
   "source": [
    "import joblib\n",
    "\n",
    "model = joblib.load('../models/lgbm.oxc.lz4')[0]['model']\n",
    "\n",
    "params = model.get_params()\n",
    "\n",
    "text = ''\n",
    "\n",
    "for key in params:\n",
    "    text += \"\\\\textit{\" + key.replace('_', '\\\\_') + \"=\" + str(params[key]).replace('_', '\\\\_') + \"}, \"\n",
    "\n",
    "print(text)"
   ]
  },
  {
   "cell_type": "code",
   "execution_count": 7,
   "id": "7a706d3d",
   "metadata": {},
   "outputs": [
    {
     "name": "stderr",
     "output_type": "stream",
     "text": [
      "Exception ignored in: <_io.BufferedReader>\n",
      "Traceback (most recent call last):\n",
      "  File \"c:\\Users\\tiago\\anaconda3\\envs\\gdal\\Lib\\site-packages\\lz4\\frame\\__init__.py\", line 753, in flush\n",
      "    self._fp.flush()\n",
      "ValueError: I/O operation on closed file.\n"
     ]
    },
    {
     "name": "stdout",
     "output_type": "stream",
     "text": [
      "\\textit{algorithm=auto}, \\textit{leaf\\_size=30}, \\textit{metric=euclidean}, \\textit{metric\\_params=None}, \\textit{n\\_jobs=None}, \\textit{n\\_neighbors=3}, \\textit{p=2}, \\textit{weights=uniform}, \n"
     ]
    }
   ],
   "source": [
    "import joblib\n",
    "\n",
    "model = joblib.load('../models/knn.m_euclidean.oxc.lz4')[0]['model']\n",
    "\n",
    "params = model.get_params()\n",
    "\n",
    "text = ''\n",
    "\n",
    "for key in params:\n",
    "    text += \"\\\\textit{\" + key.replace('_', '\\\\_') + \"=\" + str(params[key]).replace('_', '\\\\_') + \"}, \"\n",
    "\n",
    "print(text)"
   ]
  },
  {
   "cell_type": "code",
   "execution_count": 8,
   "id": "2b9ce305",
   "metadata": {},
   "outputs": [
    {
     "name": "stderr",
     "output_type": "stream",
     "text": [
      "Exception ignored in: <_io.BufferedReader>\n",
      "Traceback (most recent call last):\n",
      "  File \"c:\\Users\\tiago\\anaconda3\\envs\\gdal\\Lib\\site-packages\\lz4\\frame\\__init__.py\", line 753, in flush\n",
      "    self._fp.flush()\n",
      "ValueError: I/O operation on closed file.\n"
     ]
    },
    {
     "name": "stdout",
     "output_type": "stream",
     "text": [
      "\\textit{C=1.0}, \\textit{break\\_ties=False}, \\textit{cache\\_size=200}, \\textit{class\\_weight=None}, \\textit{coef0=0.0}, \\textit{decision\\_function\\_shape=ovr}, \\textit{degree=3}, \\textit{gamma=scale}, \\textit{kernel=linear}, \\textit{max\\_iter=-1}, \\textit{probability=True}, \\textit{random\\_state=0}, \\textit{shrinking=True}, \\textit{tol=0.001}, \\textit{verbose=False}, \n"
     ]
    }
   ],
   "source": [
    "import joblib\n",
    "\n",
    "model = joblib.load('../models/svc.k_linear.oxc.lz4')[0]['model']\n",
    "\n",
    "params = model.get_params()\n",
    "\n",
    "text = ''\n",
    "\n",
    "for key in params:\n",
    "    text += \"\\\\textit{\" + key.replace('_', '\\\\_') + \"=\" + str(params[key]).replace('_', '\\\\_') + \"}, \"\n",
    "\n",
    "print(text)"
   ]
  },
  {
   "cell_type": "markdown",
   "id": "67077f24",
   "metadata": {},
   "source": [
    "# RESULTS"
   ]
  },
  {
   "cell_type": "code",
   "execution_count": 1,
   "id": "03565236",
   "metadata": {},
   "outputs": [],
   "source": [
    "import joblib\n",
    "import numpy as np"
   ]
  },
  {
   "cell_type": "code",
   "execution_count": 8,
   "id": "7d5e78c4",
   "metadata": {},
   "outputs": [],
   "source": [
    "def get_training_time(name):\n",
    "    models = joblib.load(f'../models/{name}')\n",
    "\n",
    "    time = [model['t_end'] - model['t_start'] for model in models]\n",
    "\n",
    "    return np.mean(time)\n",
    "\n",
    "\n",
    "def get_results(name):\n",
    "    results = joblib.load(f'../results/{name}')\n",
    "\n",
    "    results['training_time'] = get_training_time(name)\n",
    "\n",
    "    return results\n",
    "\n",
    "def print_results(name, results):\n",
    "    threshold = results.get('threshold', 0)\n",
    "\n",
    "    if threshold is None:\n",
    "        return f\"{name} & \" f\"{results.get('precision_score', 0):.3f} & \" f\"{results.get('recall_score', 0):.3f} & \" f\"{results.get('f1_score', 0):.3f} & \" \"- & \" f\"{results.get('training_time', 0):.1f} & \" f\"{results.get('prediction_delay', 0) * 1000000:.1f} \\\\\\\\\"\n",
    "\n",
    "    return f\"{name} & \" f\"{results.get('precision_score', 0):.3f} & \" f\"{results.get('recall_score', 0):.3f} & \" f\"{results.get('f1_score', 0):.3f} & \" f\"{threshold:.3f} & \" f\"{results.get('training_time', 0):.1f} & \" f\"{results.get('prediction_delay', 0) * 1000000:.1f} \\\\\\\\\""
   ]
  },
  {
   "cell_type": "code",
   "execution_count": null,
   "id": "78d384a5",
   "metadata": {},
   "outputs": [
    {
     "name": "stderr",
     "output_type": "stream",
     "text": [
      "Exception ignored in: <_io.BufferedReader>\n",
      "Traceback (most recent call last):\n",
      "  File \"c:\\Users\\tiago\\anaconda3\\envs\\gdal\\Lib\\site-packages\\lz4\\frame\\__init__.py\", line 753, in flush\n",
      "    self._fp.flush()\n",
      "ValueError: I/O operation on closed file.\n",
      "Exception ignored in: <_io.BufferedReader>\n",
      "Traceback (most recent call last):\n",
      "  File \"c:\\Users\\tiago\\anaconda3\\envs\\gdal\\Lib\\site-packages\\lz4\\frame\\__init__.py\", line 753, in flush\n",
      "    self._fp.flush()\n",
      "ValueError: I/O operation on closed file.\n",
      "Exception ignored in: <_io.BufferedReader>\n",
      "Traceback (most recent call last):\n",
      "  File \"c:\\Users\\tiago\\anaconda3\\envs\\gdal\\Lib\\site-packages\\lz4\\frame\\__init__.py\", line 753, in flush\n",
      "    self._fp.flush()\n",
      "ValueError: I/O operation on closed file.\n",
      "Exception ignored in: <_io.BufferedReader>\n",
      "Traceback (most recent call last):\n",
      "  File \"c:\\Users\\tiago\\anaconda3\\envs\\gdal\\Lib\\site-packages\\lz4\\frame\\__init__.py\", line 753, in flush\n",
      "    self._fp.flush()\n",
      "ValueError: I/O operation on closed file.\n",
      "Exception ignored in: <_io.BufferedReader>\n",
      "Traceback (most recent call last):\n",
      "  File \"c:\\Users\\tiago\\anaconda3\\envs\\gdal\\Lib\\site-packages\\lz4\\frame\\__init__.py\", line 753, in flush\n",
      "    self._fp.flush()\n",
      "ValueError: I/O operation on closed file.\n",
      "Exception ignored in: <_io.BufferedReader>\n",
      "Traceback (most recent call last):\n",
      "  File \"c:\\Users\\tiago\\anaconda3\\envs\\gdal\\Lib\\site-packages\\lz4\\frame\\__init__.py\", line 753, in flush\n",
      "    self._fp.flush()\n",
      "ValueError: I/O operation on closed file.\n",
      "Exception ignored in: <_io.BufferedReader>\n",
      "Traceback (most recent call last):\n",
      "  File \"c:\\Users\\tiago\\anaconda3\\envs\\gdal\\Lib\\site-packages\\lz4\\frame\\__init__.py\", line 753, in flush\n",
      "    self._fp.flush()\n",
      "ValueError: I/O operation on closed file.\n",
      "Exception ignored in: <_io.BufferedReader>\n",
      "Traceback (most recent call last):\n",
      "  File \"c:\\Users\\tiago\\anaconda3\\envs\\gdal\\Lib\\site-packages\\lz4\\frame\\__init__.py\", line 753, in flush\n",
      "    self._fp.flush()\n",
      "ValueError: I/O operation on closed file.\n",
      "Exception ignored in: <_io.BufferedReader>\n",
      "Traceback (most recent call last):\n",
      "  File \"c:\\Users\\tiago\\anaconda3\\envs\\gdal\\Lib\\site-packages\\lz4\\frame\\__init__.py\", line 753, in flush\n",
      "    self._fp.flush()\n",
      "ValueError: I/O operation on closed file.\n",
      "Exception ignored in: <_io.BufferedReader>\n",
      "Traceback (most recent call last):\n",
      "  File \"c:\\Users\\tiago\\anaconda3\\envs\\gdal\\Lib\\site-packages\\lz4\\frame\\__init__.py\", line 753, in flush\n",
      "    self._fp.flush()\n",
      "ValueError: I/O operation on closed file.\n"
     ]
    }
   ],
   "source": [
    "rf_results = print_results('RFClassifier', get_results('rf.oxc.lz4'))\n",
    "xgb_results = print_results('XGBClassifier', get_results('xgb.oxc.lz4'))\n",
    "lgbm_results = print_results('LGBMClassifier', get_results('lgbm.oxc.lz4'))\n",
    "svc_results = print_results('SVC', get_results('svc.k_rbf.oxc.lz4'))\n",
    "knn_results = print_results('KNN', get_results('knn.m_minkowski.oxc.lz4'))\n",
    "\n",
    "print(rf_results + \"\\n\" + xgb_results + \"\\n\" + lgbm_results + \"\\n\" + svc_results + \"\\n\" + knn_results + \"\\n\")"
   ]
  },
  {
   "cell_type": "code",
   "execution_count": 9,
   "id": "5dc46e66",
   "metadata": {},
   "outputs": [
    {
     "name": "stderr",
     "output_type": "stream",
     "text": [
      "Exception ignored in: <_io.BufferedReader>\n",
      "Traceback (most recent call last):\n",
      "  File \"c:\\Users\\tiago\\anaconda3\\envs\\gdal\\Lib\\site-packages\\lz4\\frame\\__init__.py\", line 753, in flush\n",
      "    self._fp.flush()\n",
      "ValueError: I/O operation on closed file.\n",
      "Exception ignored in: <_io.BufferedReader>\n",
      "Traceback (most recent call last):\n",
      "  File \"c:\\Users\\tiago\\anaconda3\\envs\\gdal\\Lib\\site-packages\\lz4\\frame\\__init__.py\", line 753, in flush\n",
      "    self._fp.flush()\n",
      "ValueError: I/O operation on closed file.\n",
      "Exception ignored in: <_io.BufferedReader>\n",
      "Traceback (most recent call last):\n",
      "  File \"c:\\Users\\tiago\\anaconda3\\envs\\gdal\\Lib\\site-packages\\lz4\\frame\\__init__.py\", line 753, in flush\n",
      "    self._fp.flush()\n",
      "ValueError: I/O operation on closed file.\n",
      "Exception ignored in: <_io.BufferedReader>\n",
      "Traceback (most recent call last):\n",
      "  File \"c:\\Users\\tiago\\anaconda3\\envs\\gdal\\Lib\\site-packages\\lz4\\frame\\__init__.py\", line 753, in flush\n",
      "    self._fp.flush()\n",
      "ValueError: I/O operation on closed file.\n",
      "Exception ignored in: <_io.BufferedReader>\n",
      "Traceback (most recent call last):\n",
      "  File \"c:\\Users\\tiago\\anaconda3\\envs\\gdal\\Lib\\site-packages\\lz4\\frame\\__init__.py\", line 753, in flush\n",
      "    self._fp.flush()\n",
      "ValueError: I/O operation on closed file.\n",
      "Exception ignored in: <_io.BufferedReader>\n",
      "Traceback (most recent call last):\n",
      "  File \"c:\\Users\\tiago\\anaconda3\\envs\\gdal\\Lib\\site-packages\\lz4\\frame\\__init__.py\", line 753, in flush\n",
      "    self._fp.flush()\n",
      "ValueError: I/O operation on closed file.\n",
      "Exception ignored in: <_io.BufferedReader>\n",
      "Traceback (most recent call last):\n",
      "  File \"c:\\Users\\tiago\\anaconda3\\envs\\gdal\\Lib\\site-packages\\lz4\\frame\\__init__.py\", line 753, in flush\n",
      "    self._fp.flush()\n",
      "ValueError: I/O operation on closed file.\n",
      "Exception ignored in: <_io.BufferedReader>\n",
      "Traceback (most recent call last):\n",
      "  File \"c:\\Users\\tiago\\anaconda3\\envs\\gdal\\Lib\\site-packages\\lz4\\frame\\__init__.py\", line 753, in flush\n",
      "    self._fp.flush()\n",
      "ValueError: I/O operation on closed file.\n",
      "Exception ignored in: <_io.BufferedReader>\n",
      "Traceback (most recent call last):\n",
      "  File \"c:\\Users\\tiago\\anaconda3\\envs\\gdal\\Lib\\site-packages\\lz4\\frame\\__init__.py\", line 753, in flush\n",
      "    self._fp.flush()\n",
      "ValueError: I/O operation on closed file.\n",
      "Exception ignored in: <_io.BufferedReader>\n",
      "Traceback (most recent call last):\n",
      "  File \"c:\\Users\\tiago\\anaconda3\\envs\\gdal\\Lib\\site-packages\\lz4\\frame\\__init__.py\", line 753, in flush\n",
      "    self._fp.flush()\n",
      "ValueError: I/O operation on closed file.\n"
     ]
    },
    {
     "name": "stdout",
     "output_type": "stream",
     "text": [
      "RFClassifier & 0.707 & 0.708 & 0.708 & 0.399 & 523.0 & 188.3 \\\\\n",
      "XGBClassifier & 0.700 & 0.700 & 0.700 & 0.428 & 18.0 & 12.2 \\\\\n",
      "LGBMClassifier & 0.704 & 0.704 & 0.704 & 0.422 & 26.8 & 38.9 \\\\\n",
      "SVC & 0.721 & 0.721 & 0.721 & 0.399 & 1330.7 & 1320.3 \\\\\n",
      "KNN & 0.666 & 0.643 & 0.654 & - & 0.0 & 379.5 \\\\\n",
      "\n"
     ]
    }
   ],
   "source": [
    "rf_results = print_results('RFClassifier', get_results('rf.oxn.lz4'))\n",
    "xgb_results = print_results('XGBClassifier', get_results('xgb.oxn.lz4'))\n",
    "lgbm_results = print_results('LGBMClassifier', get_results('lgbm.oxn.lz4'))\n",
    "svc_results = print_results('SVC', get_results('svc.k_rbf.oxn.lz4'))\n",
    "knn_results = print_results('KNN', get_results('knn.m_minkowski.oxn.lz4'))\n",
    "\n",
    "print(rf_results + \"\\n\" + xgb_results + \"\\n\" + lgbm_results + \"\\n\" + svc_results + \"\\n\" + knn_results + \"\\n\")"
   ]
  },
  {
   "cell_type": "markdown",
   "id": "7053ff3a",
   "metadata": {},
   "source": [
    "# COUNT PARQUET FILES"
   ]
  },
  {
   "cell_type": "code",
   "execution_count": 2,
   "id": "eabff7fa",
   "metadata": {},
   "outputs": [
    {
     "name": "stdout",
     "output_type": "stream",
     "text": [
      "O caminho '../data/parquet' possui 8070 arquivo(s) (apenas no nível superior).\n"
     ]
    }
   ],
   "source": [
    "import os\n",
    "\n",
    "caminho_diretorio = \"../data/parquet\"\n",
    "\n",
    "try:\n",
    "    # Obtém uma lista de todos os itens no diretório\n",
    "    itens = os.listdir(caminho_diretorio)\n",
    "    \n",
    "    # Filtra apenas os arquivos (ignorando diretórios e links simbólicos)\n",
    "    # E os conta.\n",
    "    contagem_arquivos = 0\n",
    "    for item in itens:\n",
    "        caminho_completo = os.path.join(caminho_diretorio, item)\n",
    "        if os.path.isfile(caminho_completo):\n",
    "            contagem_arquivos += 1\n",
    "\n",
    "    print(f\"O caminho '{caminho_diretorio}' possui {contagem_arquivos} arquivo(s) (apenas no nível superior).\")\n",
    "\n",
    "except FileNotFoundError:\n",
    "    print(f\"Erro: O caminho '{caminho_diretorio}' não foi encontrado.\")\n",
    "except NotADirectoryError:\n",
    "    print(f\"Erro: O caminho '{caminho_diretorio}' não é um diretório.\")\n",
    "except Exception as e:\n",
    "    print(f\"Ocorreu um erro: {e}\")"
   ]
  }
 ],
 "metadata": {
  "kernelspec": {
   "display_name": "gdal",
   "language": "python",
   "name": "python3"
  },
  "language_info": {
   "codemirror_mode": {
    "name": "ipython",
    "version": 3
   },
   "file_extension": ".py",
   "mimetype": "text/x-python",
   "name": "python",
   "nbconvert_exporter": "python",
   "pygments_lexer": "ipython3",
   "version": "3.13.7"
  }
 },
 "nbformat": 4,
 "nbformat_minor": 5
}
