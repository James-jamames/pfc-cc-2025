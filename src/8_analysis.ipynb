{
 "cells": [
  {
   "cell_type": "markdown",
   "id": "641d178f",
   "metadata": {},
   "source": [
    "# Models"
   ]
  },
  {
   "cell_type": "code",
   "execution_count": null,
   "id": "53508e02",
   "metadata": {},
   "outputs": [
    {
     "name": "stderr",
     "output_type": "stream",
     "text": [
      "Exception ignored in: <_io.BufferedReader>\n",
      "Traceback (most recent call last):\n",
      "  File \"c:\\Users\\tiago\\anaconda3\\envs\\gdal\\Lib\\site-packages\\lz4\\frame\\__init__.py\", line 753, in flush\n",
      "    self._fp.flush()\n",
      "ValueError: I/O operation on closed file.\n"
     ]
    },
    {
     "data": {
      "text/plain": [
       "{'bootstrap': True,\n",
       " 'ccp_alpha': 0.0,\n",
       " 'class_weight': None,\n",
       " 'criterion': 'gini',\n",
       " 'max_depth': None,\n",
       " 'max_features': 'sqrt',\n",
       " 'max_leaf_nodes': None,\n",
       " 'max_samples': None,\n",
       " 'min_impurity_decrease': 0.0,\n",
       " 'min_samples_leaf': 1,\n",
       " 'min_samples_split': 2,\n",
       " 'min_weight_fraction_leaf': 0.0,\n",
       " 'monotonic_cst': None,\n",
       " 'n_estimators': 100,\n",
       " 'n_jobs': -1,\n",
       " 'oob_score': False,\n",
       " 'random_state': 0,\n",
       " 'verbose': 0,\n",
       " 'warm_start': False}"
      ]
     },
     "execution_count": 1,
     "metadata": {},
     "output_type": "execute_result"
    }
   ],
   "source": [
    "import joblib\n",
    "\n",
    "rf_model = joblib.load('../models/rf.oxc.lz4')[0]['model']\n",
    "\n",
    "params = rf_model.get_params()\n",
    "\n",
    "text = ''\n",
    "\n",
    "for key in params:\n",
    "    text += \"\\\\textit{\" + key.replace('_', '\\\\_') + \"=\" + str(params[key]).replace('_', '\\\\_') + \"}, \"\n",
    "\n",
    "print(text)"
   ]
  },
  {
   "cell_type": "code",
   "execution_count": 2,
   "id": "60060031",
   "metadata": {},
   "outputs": [
    {
     "name": "stderr",
     "output_type": "stream",
     "text": [
      "Exception ignored in: <_io.BufferedReader>\n",
      "Traceback (most recent call last):\n",
      "  File \"c:\\Users\\tiago\\anaconda3\\envs\\gdal\\Lib\\site-packages\\lz4\\frame\\__init__.py\", line 753, in flush\n",
      "    self._fp.flush()\n",
      "ValueError: I/O operation on closed file.\n"
     ]
    },
    {
     "name": "stdout",
     "output_type": "stream",
     "text": [
      "\\textit{objective=binary:logistic}, \\textit{base\\_score=None}, \\textit{booster=gbtree}, \\textit{callbacks=None}, \\textit{colsample\\_bylevel=None}, \\textit{colsample\\_bynode=None}, \\textit{colsample\\_bytree=None}, \\textit{device=None}, \\textit{early\\_stopping\\_rounds=None}, \\textit{enable\\_categorical=False}, \\textit{eval\\_metric=mlogloss}, \\textit{feature\\_types=None}, \\textit{feature\\_weights=None}, \\textit{gamma=None}, \\textit{grow\\_policy=None}, \\textit{importance\\_type=None}, \\textit{interaction\\_constraints=None}, \\textit{learning\\_rate=None}, \\textit{max\\_bin=None}, \\textit{max\\_cat\\_threshold=None}, \\textit{max\\_cat\\_to\\_onehot=None}, \\textit{max\\_delta\\_step=None}, \\textit{max\\_depth=None}, \\textit{max\\_leaves=None}, \\textit{min\\_child\\_weight=None}, \\textit{missing=nan}, \\textit{monotone\\_constraints=None}, \\textit{multi\\_strategy=None}, \\textit{n\\_estimators=None}, \\textit{n\\_jobs=-1}, \\textit{num\\_parallel\\_tree=None}, \\textit{random\\_state=0}, \\textit{reg\\_alpha=None}, \\textit{reg\\_lambda=None}, \\textit{sampling\\_method=None}, \\textit{scale\\_pos\\_weight=None}, \\textit{subsample=None}, \\textit{tree\\_method=None}, \\textit{validate\\_parameters=None}, \\textit{verbosity=None}, \n"
     ]
    }
   ],
   "source": [
    "import joblib\n",
    "\n",
    "model = joblib.load('../models/xgb.oxc.lz4')[0]['model']\n",
    "\n",
    "params = model.get_params()\n",
    "\n",
    "text = ''\n",
    "\n",
    "for key in params:\n",
    "    text += \"\\\\textit{\" + key.replace('_', '\\\\_') + \"=\" + str(params[key]).replace('_', '\\\\_') + \"}, \"\n",
    "\n",
    "print(text)"
   ]
  },
  {
   "cell_type": "code",
   "execution_count": 4,
   "id": "f1b09d10",
   "metadata": {},
   "outputs": [
    {
     "name": "stderr",
     "output_type": "stream",
     "text": [
      "Exception ignored in: <_io.BufferedReader>\n",
      "Traceback (most recent call last):\n",
      "  File \"c:\\Users\\tiago\\anaconda3\\envs\\gdal\\Lib\\site-packages\\lz4\\frame\\__init__.py\", line 753, in flush\n",
      "    self._fp.flush()\n",
      "ValueError: I/O operation on closed file.\n"
     ]
    },
    {
     "name": "stdout",
     "output_type": "stream",
     "text": [
      "\\textit{boosting\\_type=gbdt}, \\textit{class\\_weight=None}, \\textit{colsample\\_bytree=1.0}, \\textit{importance\\_type=split}, \\textit{learning\\_rate=0.1}, \\textit{max\\_depth=-1}, \\textit{min\\_child\\_samples=20}, \\textit{min\\_child\\_weight=0.001}, \\textit{min\\_split\\_gain=0.0}, \\textit{n\\_estimators=100}, \\textit{n\\_jobs=-1}, \\textit{num\\_leaves=31}, \\textit{objective=None}, \\textit{random\\_state=0}, \\textit{reg\\_alpha=0.0}, \\textit{reg\\_lambda=0.0}, \\textit{subsample=1.0}, \\textit{subsample\\_for\\_bin=200000}, \\textit{subsample\\_freq=0}, \n"
     ]
    }
   ],
   "source": [
    "import joblib\n",
    "\n",
    "model = joblib.load('../models/lgbm.oxc.lz4')[0]['model']\n",
    "\n",
    "params = model.get_params()\n",
    "\n",
    "text = ''\n",
    "\n",
    "for key in params:\n",
    "    text += \"\\\\textit{\" + key.replace('_', '\\\\_') + \"=\" + str(params[key]).replace('_', '\\\\_') + \"}, \"\n",
    "\n",
    "print(text)"
   ]
  },
  {
   "cell_type": "code",
   "execution_count": 7,
   "id": "7a706d3d",
   "metadata": {},
   "outputs": [
    {
     "name": "stderr",
     "output_type": "stream",
     "text": [
      "Exception ignored in: <_io.BufferedReader>\n",
      "Traceback (most recent call last):\n",
      "  File \"c:\\Users\\tiago\\anaconda3\\envs\\gdal\\Lib\\site-packages\\lz4\\frame\\__init__.py\", line 753, in flush\n",
      "    self._fp.flush()\n",
      "ValueError: I/O operation on closed file.\n"
     ]
    },
    {
     "name": "stdout",
     "output_type": "stream",
     "text": [
      "\\textit{algorithm=auto}, \\textit{leaf\\_size=30}, \\textit{metric=euclidean}, \\textit{metric\\_params=None}, \\textit{n\\_jobs=None}, \\textit{n\\_neighbors=3}, \\textit{p=2}, \\textit{weights=uniform}, \n"
     ]
    }
   ],
   "source": [
    "import joblib\n",
    "\n",
    "model = joblib.load('../models/knn.m_euclidean.oxc.lz4')[0]['model']\n",
    "\n",
    "params = model.get_params()\n",
    "\n",
    "text = ''\n",
    "\n",
    "for key in params:\n",
    "    text += \"\\\\textit{\" + key.replace('_', '\\\\_') + \"=\" + str(params[key]).replace('_', '\\\\_') + \"}, \"\n",
    "\n",
    "print(text)"
   ]
  },
  {
   "cell_type": "code",
   "execution_count": 8,
   "id": "2b9ce305",
   "metadata": {},
   "outputs": [
    {
     "name": "stderr",
     "output_type": "stream",
     "text": [
      "Exception ignored in: <_io.BufferedReader>\n",
      "Traceback (most recent call last):\n",
      "  File \"c:\\Users\\tiago\\anaconda3\\envs\\gdal\\Lib\\site-packages\\lz4\\frame\\__init__.py\", line 753, in flush\n",
      "    self._fp.flush()\n",
      "ValueError: I/O operation on closed file.\n"
     ]
    },
    {
     "name": "stdout",
     "output_type": "stream",
     "text": [
      "\\textit{C=1.0}, \\textit{break\\_ties=False}, \\textit{cache\\_size=200}, \\textit{class\\_weight=None}, \\textit{coef0=0.0}, \\textit{decision\\_function\\_shape=ovr}, \\textit{degree=3}, \\textit{gamma=scale}, \\textit{kernel=linear}, \\textit{max\\_iter=-1}, \\textit{probability=True}, \\textit{random\\_state=0}, \\textit{shrinking=True}, \\textit{tol=0.001}, \\textit{verbose=False}, \n"
     ]
    }
   ],
   "source": [
    "import joblib\n",
    "\n",
    "model = joblib.load('../models/svc.k_linear.oxc.lz4')[0]['model']\n",
    "\n",
    "params = model.get_params()\n",
    "\n",
    "text = ''\n",
    "\n",
    "for key in params:\n",
    "    text += \"\\\\textit{\" + key.replace('_', '\\\\_') + \"=\" + str(params[key]).replace('_', '\\\\_') + \"}, \"\n",
    "\n",
    "print(text)"
   ]
  },
  {
   "cell_type": "markdown",
   "id": "67077f24",
   "metadata": {},
   "source": [
    "# RESULTS"
   ]
  },
  {
   "cell_type": "code",
   "execution_count": 1,
   "id": "03565236",
   "metadata": {},
   "outputs": [],
   "source": [
    "import joblib\n",
    "import numpy as np"
   ]
  },
  {
   "cell_type": "code",
   "execution_count": 7,
   "id": "7d5e78c4",
   "metadata": {},
   "outputs": [],
   "source": [
    "def get_training_time(name):\n",
    "    models = joblib.load(f'../models/{name}')\n",
    "\n",
    "    time = [model['t_end'] - model['t_start'] for model in models]\n",
    "\n",
    "    return np.mean(time)\n",
    "\n",
    "\n",
    "def get_results(name):\n",
    "    results = joblib.load(f'../results/{name}')\n",
    "\n",
    "    results['training_time'] = get_training_time(name)\n",
    "\n",
    "    return results\n",
    "\n",
    "def print_results(name, results):\n",
    "    threshold = results.get('threshold', 0)\n",
    "\n",
    "    if threshold is None:\n",
    "        return f\"{name} & \" f\"{results.get('precision_score', 0):.3f} & \" f\"{results.get('recall_score', 0):.3f} & \" f\"{results.get('f1_score', 0):.3f} & \" \"- & \" f\"{results.get('training_time', 0):.1f} & \" f\"{results.get('prediction_delay', 0) * 1000000:.1f} \\\\\\\\\"\n",
    "\n",
    "    return f\"{name} & \" f\"{results.get('precision_score', 0):.3f} & \" f\"{results.get('recall_score', 0):.3f} & \" f\"{results.get('f1_score', 0):.3f} & \" f\"{threshold:.3f} & \" f\"{results.get('training_time', 0):.1f} & \" f\"{results.get('prediction_delay', 0) * 1000000:.1f} \\\\\\\\\""
   ]
  },
  {
   "cell_type": "code",
   "execution_count": null,
   "id": "7bb98611",
   "metadata": {},
   "outputs": [
    {
     "name": "stdout",
     "output_type": "stream",
     "text": [
      "KNN (k=1) & 0.513 & 0.509 & 0.511 & - & 0.0 & 321.3 \\\\\n",
      "KNN (k=3) & 0.568 & 0.508 & 0.536 & - & 0.0 & 335.5 \\\\\n",
      "KNN (k=1) & 0.635 & 0.633 & 0.633 & - & 0.0 & 380.0 \\\\\n",
      "KNN (k=3) & 0.666 & 0.643 & 0.654 & - & 0.0 & 372.9 \\\\\n"
     ]
    }
   ],
   "source": [
    "knn_1 = print_results('KNN (k=1)', get_results('knn.nn_1.oxc.lz4'))\n",
    "knn_3 = print_results('KNN (k=3)', get_results('knn.nn_3.oxc.lz4'))\n",
    "\n",
    "print(knn_1 + \"\\n\" + knn_3 + \"\\n\\n\")\n",
    "\n",
    "knn_1 = print_results('KNN (k=1)', get_results('knn.nn_1.oxn.lz4'))\n",
    "knn_3 = print_results('KNN (k=3)', get_results('knn.nn_3.oxn.lz4'))\n",
    "\n",
    "print(knn_1 + \"\\n\" + knn_3)"
   ]
  },
  {
   "cell_type": "code",
   "execution_count": null,
   "id": "4dc0579f",
   "metadata": {},
   "outputs": [
    {
     "name": "stdout",
     "output_type": "stream",
     "text": [
      "KNN ('minkowski') & 0.568 & 0.508 & 0.536 & - & 0.0 & 333.0 \\\\\n",
      "KNN ('manhattan') & 0.567 & 0.507 & 0.535 & - & 0.0 & 1280.4 \\\\\n",
      "KNN ('euclidean') & 0.568 & 0.508 & 0.536 & - & 0.0 & 331.0 \\\\\n",
      "KNN ('cosine') & 0.568 & 0.508 & 0.536 & - & 0.0 & 3350.0 \\\\\n",
      "KNN ('minkowski') & 0.666 & 0.643 & 0.654 & - & 0.0 & 379.5 \\\\\n",
      "KNN ('manhattan') & 0.666 & 0.641 & 0.653 & - & 0.0 & 1486.1 \\\\\n",
      "KNN ('euclidean') & 0.666 & 0.643 & 0.654 & - & 0.0 & 384.0 \\\\\n",
      "KNN ('cosine') & 0.666 & 0.643 & 0.654 & - & 0.0 & 4045.8 \\\\\n"
     ]
    }
   ],
   "source": [
    "knn_min = print_results('KNN (\\'minkowski\\')', get_results('knn.m_minkowski.oxc.lz4'))\n",
    "knn_man = print_results('KNN (\\'manhattan\\')', get_results('knn.m_manhattan.oxc.lz4'))\n",
    "knn_euc = print_results('KNN (\\'euclidean\\')', get_results('knn.m_euclidean.oxc.lz4'))\n",
    "knn_cos = print_results('KNN (\\'cosine\\')', get_results('knn.m_cosine.oxc.lz4'))\n",
    "\n",
    "print(knn_min + \"\\n\" + knn_man + \"\\n\" + knn_euc + \"\\n\" + knn_cos + \"\\n\\n\")\n",
    "\n",
    "knn_min = print_results('KNN (\\'minkowski\\')', get_results('knn.m_minkowski.oxn.lz4'))\n",
    "knn_man = print_results('KNN (\\'manhattan\\')', get_results('knn.m_manhattan.oxn.lz4'))\n",
    "knn_euc = print_results('KNN (\\'euclidean\\')', get_results('knn.m_euclidean.oxn.lz4'))\n",
    "knn_cos = print_results('KNN (\\'cosine\\')', get_results('knn.m_cosine.oxn.lz4'))\n",
    "\n",
    "print(knn_min + \"\\n\" + knn_man + \"\\n\" + knn_euc + \"\\n\" + knn_cos)"
   ]
  },
  {
   "cell_type": "code",
   "execution_count": 10,
   "id": "d2853ed0",
   "metadata": {},
   "outputs": [
    {
     "name": "stdout",
     "output_type": "stream",
     "text": [
      "SVC ('linear') & 0.566 & 0.566 & 0.566 & 0.315 & 498.8 & 295.4 \\\\\n",
      "SVC ('poly') & 0.633 & 0.633 & 0.633 & 0.279 & 505.0 & 238.8 \\\\\n",
      "SVC ('rbf') & 0.635 & 0.635 & 0.635 & 0.276 & 736.9 & 732.2 \\\\\n",
      "\n",
      "\n",
      "SVC ('linear') & 0.675 & 0.675 & 0.675 & 0.438 & 1121.7 & 1123.3 \\\\\n",
      "SVC ('poly') & 0.717 & 0.717 & 0.717 & 0.393 & 1053.2 & 608.7 \\\\\n",
      "SVC ('rbf') & 0.721 & 0.721 & 0.721 & 0.399 & 1330.7 & 1320.3 \\\\\n"
     ]
    }
   ],
   "source": [
    "svc_linear = print_results('SVC (\\'linear\\')', get_results('svc.k_linear.oxc.lz4'))\n",
    "svc_poly = print_results('SVC (\\'poly\\')', get_results('svc.k_poly.oxc.lz4'))\n",
    "svc_rbf = print_results('SVC (\\'rbf\\')', get_results('svc.k_rbf.oxc.lz4'))\n",
    "\n",
    "print(svc_linear + \"\\n\" + svc_poly + \"\\n\" + svc_rbf + \"\\n\\n\")\n",
    "\n",
    "svc_linear = print_results('SVC (\\'linear\\')', get_results('svc.k_linear.oxn.lz4'))\n",
    "svc_poly = print_results('SVC (\\'poly\\')', get_results('svc.k_poly.oxn.lz4'))\n",
    "svc_rbf = print_results('SVC (\\'rbf\\')', get_results('svc.k_rbf.oxn.lz4'))\n",
    "\n",
    "print(svc_linear + \"\\n\" + svc_poly + \"\\n\" + svc_rbf)"
   ]
  },
  {
   "cell_type": "code",
   "execution_count": null,
   "id": "78d384a5",
   "metadata": {},
   "outputs": [
    {
     "name": "stderr",
     "output_type": "stream",
     "text": [
      "Exception ignored in: <_io.BufferedReader>\n",
      "Traceback (most recent call last):\n",
      "  File \"c:\\Users\\tiago\\anaconda3\\envs\\gdal\\Lib\\site-packages\\lz4\\frame\\__init__.py\", line 753, in flush\n",
      "    self._fp.flush()\n",
      "ValueError: I/O operation on closed file.\n",
      "Exception ignored in: <_io.BufferedReader>\n",
      "Traceback (most recent call last):\n",
      "  File \"c:\\Users\\tiago\\anaconda3\\envs\\gdal\\Lib\\site-packages\\lz4\\frame\\__init__.py\", line 753, in flush\n",
      "    self._fp.flush()\n",
      "ValueError: I/O operation on closed file.\n",
      "Exception ignored in: <_io.BufferedReader>\n",
      "Traceback (most recent call last):\n",
      "  File \"c:\\Users\\tiago\\anaconda3\\envs\\gdal\\Lib\\site-packages\\lz4\\frame\\__init__.py\", line 753, in flush\n",
      "    self._fp.flush()\n",
      "ValueError: I/O operation on closed file.\n",
      "Exception ignored in: <_io.BufferedReader>\n",
      "Traceback (most recent call last):\n",
      "  File \"c:\\Users\\tiago\\anaconda3\\envs\\gdal\\Lib\\site-packages\\lz4\\frame\\__init__.py\", line 753, in flush\n",
      "    self._fp.flush()\n",
      "ValueError: I/O operation on closed file.\n",
      "Exception ignored in: <_io.BufferedReader>\n",
      "Traceback (most recent call last):\n",
      "  File \"c:\\Users\\tiago\\anaconda3\\envs\\gdal\\Lib\\site-packages\\lz4\\frame\\__init__.py\", line 753, in flush\n",
      "    self._fp.flush()\n",
      "ValueError: I/O operation on closed file.\n",
      "Exception ignored in: <_io.BufferedReader>\n",
      "Traceback (most recent call last):\n",
      "  File \"c:\\Users\\tiago\\anaconda3\\envs\\gdal\\Lib\\site-packages\\lz4\\frame\\__init__.py\", line 753, in flush\n",
      "    self._fp.flush()\n",
      "ValueError: I/O operation on closed file.\n",
      "Exception ignored in: <_io.BufferedReader>\n",
      "Traceback (most recent call last):\n",
      "  File \"c:\\Users\\tiago\\anaconda3\\envs\\gdal\\Lib\\site-packages\\lz4\\frame\\__init__.py\", line 753, in flush\n",
      "    self._fp.flush()\n",
      "ValueError: I/O operation on closed file.\n",
      "Exception ignored in: <_io.BufferedReader>\n",
      "Traceback (most recent call last):\n",
      "  File \"c:\\Users\\tiago\\anaconda3\\envs\\gdal\\Lib\\site-packages\\lz4\\frame\\__init__.py\", line 753, in flush\n",
      "    self._fp.flush()\n",
      "ValueError: I/O operation on closed file.\n",
      "Exception ignored in: <_io.BufferedReader>\n",
      "Traceback (most recent call last):\n",
      "  File \"c:\\Users\\tiago\\anaconda3\\envs\\gdal\\Lib\\site-packages\\lz4\\frame\\__init__.py\", line 753, in flush\n",
      "    self._fp.flush()\n",
      "ValueError: I/O operation on closed file.\n",
      "Exception ignored in: <_io.BufferedReader>\n",
      "Traceback (most recent call last):\n",
      "  File \"c:\\Users\\tiago\\anaconda3\\envs\\gdal\\Lib\\site-packages\\lz4\\frame\\__init__.py\", line 753, in flush\n",
      "    self._fp.flush()\n",
      "ValueError: I/O operation on closed file.\n"
     ]
    }
   ],
   "source": [
    "rf_results = print_results('RFClassifier', get_results('rf.oxc.lz4'))\n",
    "xgb_results = print_results('XGBClassifier', get_results('xgb.oxc.lz4'))\n",
    "lgbm_results = print_results('LGBMClassifier', get_results('lgbm.oxc.lz4'))\n",
    "svc_results = print_results('SVC', get_results('svc.k_rbf.oxc.lz4'))\n",
    "knn_results = print_results('KNN', get_results('knn.m_minkowski.oxc.lz4'))\n",
    "\n",
    "print(rf_results + \"\\n\" + xgb_results + \"\\n\" + lgbm_results + \"\\n\" + svc_results + \"\\n\" + knn_results + \"\\n\\n\")\n",
    "\n",
    "rf_results = print_results('RFClassifier', get_results('rf.oxn.lz4'))\n",
    "xgb_results = print_results('XGBClassifier', get_results('xgb.oxn.lz4'))\n",
    "lgbm_results = print_results('LGBMClassifier', get_results('lgbm.oxn.lz4'))\n",
    "svc_results = print_results('SVC', get_results('svc.k_rbf.oxn.lz4'))\n",
    "knn_results = print_results('KNN', get_results('knn.m_minkowski.oxn.lz4'))\n",
    "\n",
    "print(rf_results + \"\\n\" + xgb_results + \"\\n\" + lgbm_results + \"\\n\" + svc_results + \"\\n\" + knn_results + \"\\n\")"
   ]
  },
  {
   "cell_type": "markdown",
   "id": "7053ff3a",
   "metadata": {},
   "source": [
    "# COUNT PARQUET FILES"
   ]
  },
  {
   "cell_type": "code",
   "execution_count": 2,
   "id": "eabff7fa",
   "metadata": {},
   "outputs": [
    {
     "name": "stdout",
     "output_type": "stream",
     "text": [
      "O caminho '../data/parquet' possui 8070 arquivo(s) (apenas no nível superior).\n"
     ]
    }
   ],
   "source": [
    "import os\n",
    "\n",
    "caminho_diretorio = \"../data/parquet\"\n",
    "\n",
    "try:\n",
    "    # Obtém uma lista de todos os itens no diretório\n",
    "    itens = os.listdir(caminho_diretorio)\n",
    "    \n",
    "    # Filtra apenas os arquivos (ignorando diretórios e links simbólicos)\n",
    "    # E os conta.\n",
    "    contagem_arquivos = 0\n",
    "    for item in itens:\n",
    "        caminho_completo = os.path.join(caminho_diretorio, item)\n",
    "        if os.path.isfile(caminho_completo):\n",
    "            contagem_arquivos += 1\n",
    "\n",
    "    print(f\"O caminho '{caminho_diretorio}' possui {contagem_arquivos} arquivo(s) (apenas no nível superior).\")\n",
    "\n",
    "except FileNotFoundError:\n",
    "    print(f\"Erro: O caminho '{caminho_diretorio}' não foi encontrado.\")\n",
    "except NotADirectoryError:\n",
    "    print(f\"Erro: O caminho '{caminho_diretorio}' não é um diretório.\")\n",
    "except Exception as e:\n",
    "    print(f\"Ocorreu um erro: {e}\")"
   ]
  },
  {
   "cell_type": "markdown",
   "id": "9f62e6fc",
   "metadata": {},
   "source": [
    "# DATA"
   ]
  },
  {
   "cell_type": "code",
   "execution_count": null,
   "id": "1a6fd387",
   "metadata": {},
   "outputs": [
    {
     "data": {
      "text/plain": [
       "{'threshold': np.float64(0.40022222222222226),\n",
       " 'f1_score': np.float64(0.7084784730293191),\n",
       " 'recall_score': np.float64(0.7077020948502767),\n",
       " 'precision_score': np.float64(0.7092656658962833),\n",
       " 'training_time': np.float64(168.94970707893373),\n",
       " 'prediction_time': np.float64(0.00010101457850939923),\n",
       " 'results': [{'threshold': np.float64(0.42),\n",
       "   'f1_score': 0.6978192987196247,\n",
       "   'recall_score': 0.699384791769407,\n",
       "   'precision_score': 0.6962607983725831,\n",
       "   'log_loss_score': 5.200638594203423,\n",
       "   'r2_score': 0.20487754060752683,\n",
       "   'prediction_time': np.float64(0.00015721802428916973),\n",
       "   'training_time': 169.74808716773987},\n",
       "  {'threshold': np.float64(0.4100000000000001),\n",
       "   'f1_score': 0.6951802960808442,\n",
       "   'recall_score': 0.6915801696059592,\n",
       "   'precision_score': 0.6988181007144624,\n",
       "   'log_loss_score': 5.192759435621681,\n",
       "   'r2_score': 0.20456339219184327,\n",
       "   'prediction_time': np.float64(0.00015841661320475337),\n",
       "   'training_time': 170.51432085037231},\n",
       "  {'threshold': np.float64(0.39),\n",
       "   'f1_score': 0.6927663898758265,\n",
       "   'recall_score': 0.693147198352143,\n",
       "   'precision_score': 0.6923859995948652,\n",
       "   'log_loss_score': 5.07749795051341,\n",
       "   'r2_score': 0.20245220647042672,\n",
       "   'prediction_time': np.float64(8.618355861139089e-05),\n",
       "   'training_time': 168.19018530845642},\n",
       "  {'threshold': np.float64(0.4000000000000001),\n",
       "   'f1_score': 0.7357893974146236,\n",
       "   'recall_score': 0.7340415320887584,\n",
       "   'precision_score': 0.7375456064783523,\n",
       "   'log_loss_score': 5.247109121685488,\n",
       "   'r2_score': 0.27172006286177397,\n",
       "   'prediction_time': np.float64(5.4882173780373556e-05),\n",
       "   'training_time': 169.16471219062805},\n",
       "  {'threshold': np.float64(0.3811111111111111),\n",
       "   'f1_score': 0.7208369830556768,\n",
       "   'recall_score': 0.7203567824351161,\n",
       "   'precision_score': 0.721317824321153,\n",
       "   'log_loss_score': 5.0175498191089805,\n",
       "   'r2_score': 0.2565603258315783,\n",
       "   'prediction_time': np.float64(4.83725226613086e-05),\n",
       "   'training_time': 167.13122987747192}]}"
      ]
     },
     "execution_count": 6,
     "metadata": {},
     "output_type": "execute_result"
    }
   ],
   "source": [
    "import joblib\n",
    "\n",
    "result = joblib.load('../results/rf.frac_10.oxc.lz4')\n",
    "\n",
    "result"
   ]
  },
  {
   "cell_type": "code",
   "execution_count": 10,
   "id": "e38d9bbd",
   "metadata": {},
   "outputs": [
    {
     "data": {
      "text/plain": [
       "{'threshold': np.float64(0.3960000000000001),\n",
       " 'f1_score': np.float64(0.7058062647884601),\n",
       " 'recall_score': np.float64(0.7047021273803826),\n",
       " 'precision_score': np.float64(0.7069151916493539),\n",
       " 'training_time': np.float64(913.1575022220611),\n",
       " 'prediction_time': np.float64(9.520014320755025e-05),\n",
       " 'results': [{'threshold': np.float64(0.4100000000000001),\n",
       "   'f1_score': 0.6941510538750865,\n",
       "   'recall_score': 0.6933859177806867,\n",
       "   'precision_score': 0.6949178804565708,\n",
       "   'log_loss_score': 5.24619899332187,\n",
       "   'r2_score': 0.19791183900343157,\n",
       "   'prediction_time': np.float64(9.134041081631599e-05),\n",
       "   'training_time': 913.9230561256409},\n",
       "  {'threshold': np.float64(0.41),\n",
       "   'f1_score': 0.6921937663828708,\n",
       "   'recall_score': 0.6922159137279924,\n",
       "   'precision_score': 0.6921716204549059,\n",
       "   'log_loss_score': 5.271101696155918,\n",
       "   'r2_score': 0.1925627781175816,\n",
       "   'prediction_time': np.float64(0.00015416537081080472),\n",
       "   'training_time': 926.7795188426971},\n",
       "  {'threshold': np.float64(0.38000000000000006),\n",
       "   'f1_score': 0.6896568910254149,\n",
       "   'recall_score': 0.6885351329072864,\n",
       "   'precision_score': 0.6907823102340074,\n",
       "   'log_loss_score': 5.117731555050016,\n",
       "   'r2_score': 0.19613251459922343,\n",
       "   'prediction_time': np.float64(9.348490082238759e-05),\n",
       "   'training_time': 905.4386625289917},\n",
       "  {'threshold': np.float64(0.4000000000000001),\n",
       "   'f1_score': 0.7346127791760252,\n",
       "   'recall_score': 0.7329007880534711,\n",
       "   'precision_score': 0.7363327871435199,\n",
       "   'log_loss_score': 5.2707141460270215,\n",
       "   'r2_score': 0.26844377009847886,\n",
       "   'prediction_time': np.float64(7.9853526745203e-05),\n",
       "   'training_time': 926.1397407054901},\n",
       "  {'threshold': np.float64(0.38000000000000006),\n",
       "   'f1_score': 0.7184168334829025,\n",
       "   'recall_score': 0.7164728844324761,\n",
       "   'precision_score': 0.7203713599577649,\n",
       "   'log_loss_score': 5.050718549737067,\n",
       "   'r2_score': 0.25164578563173545,\n",
       "   'prediction_time': np.float64(5.715650684303999e-05),\n",
       "   'training_time': 893.506532907486}]}"
      ]
     },
     "execution_count": 10,
     "metadata": {},
     "output_type": "execute_result"
    }
   ],
   "source": [
    "import joblib\n",
    "\n",
    "result = joblib.load('../results/rf.frac_40.oxn.lz4')\n",
    "\n",
    "result"
   ]
  },
  {
   "cell_type": "code",
   "execution_count": null,
   "id": "1569ff1b",
   "metadata": {},
   "outputs": [],
   "source": []
  }
 ],
 "metadata": {
  "kernelspec": {
   "display_name": "gdal",
   "language": "python",
   "name": "python3"
  },
  "language_info": {
   "codemirror_mode": {
    "name": "ipython",
    "version": 3
   },
   "file_extension": ".py",
   "mimetype": "text/x-python",
   "name": "python",
   "nbconvert_exporter": "python",
   "pygments_lexer": "ipython3",
   "version": "3.11.14"
  }
 },
 "nbformat": 4,
 "nbformat_minor": 5
}
