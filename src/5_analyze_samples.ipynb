{
 "cells": [
  {
   "cell_type": "markdown",
   "id": "db72df60",
   "metadata": {},
   "source": [
    "# GRID AMOUNT"
   ]
  },
  {
   "cell_type": "code",
   "execution_count": 3,
   "id": "2027913f",
   "metadata": {},
   "outputs": [],
   "source": [
    "import geopandas as gpd\n",
    "\n",
    "gdf = gpd.read_file('../data/gpw_grassland_fscs.vi.vhr_tile.samples_20000101_20241231_go_epsg.4326_v1.gpkg')"
   ]
  },
  {
   "cell_type": "code",
   "execution_count": null,
   "id": "e7d8c417",
   "metadata": {},
   "outputs": [],
   "source": [
    "gdf[gdf['']]"
   ]
  },
  {
   "cell_type": "markdown",
   "id": "7053ff3a",
   "metadata": {},
   "source": [
    "# COUNT PARQUET FILES"
   ]
  },
  {
   "cell_type": "code",
   "execution_count": 2,
   "id": "eabff7fa",
   "metadata": {},
   "outputs": [
    {
     "name": "stdout",
     "output_type": "stream",
     "text": [
      "O caminho '../data/parquet' possui 8070 arquivo(s) (apenas no nível superior).\n"
     ]
    }
   ],
   "source": [
    "import os\n",
    "\n",
    "caminho_diretorio = \"../data/parquet\"\n",
    "\n",
    "try:\n",
    "    # Obtém uma lista de todos os itens no diretório\n",
    "    itens = os.listdir(caminho_diretorio)\n",
    "    \n",
    "    # Filtra apenas os arquivos (ignorando diretórios e links simbólicos)\n",
    "    # E os conta.\n",
    "    contagem_arquivos = 0\n",
    "    for item in itens:\n",
    "        caminho_completo = os.path.join(caminho_diretorio, item)\n",
    "        if os.path.isfile(caminho_completo):\n",
    "            contagem_arquivos += 1\n",
    "\n",
    "    print(f\"O caminho '{caminho_diretorio}' possui {contagem_arquivos} arquivo(s) (apenas no nível superior).\")\n",
    "\n",
    "except FileNotFoundError:\n",
    "    print(f\"Erro: O caminho '{caminho_diretorio}' não foi encontrado.\")\n",
    "except NotADirectoryError:\n",
    "    print(f\"Erro: O caminho '{caminho_diretorio}' não é um diretório.\")\n",
    "except Exception as e:\n",
    "    print(f\"Ocorreu um erro: {e}\")"
   ]
  },
  {
   "cell_type": "code",
   "execution_count": null,
   "id": "abceb041",
   "metadata": {},
   "outputs": [],
   "source": []
  }
 ],
 "metadata": {
  "kernelspec": {
   "display_name": "gdal",
   "language": "python",
   "name": "python3"
  },
  "language_info": {
   "codemirror_mode": {
    "name": "ipython",
    "version": 3
   },
   "file_extension": ".py",
   "mimetype": "text/x-python",
   "name": "python",
   "nbconvert_exporter": "python",
   "pygments_lexer": "ipython3",
   "version": "3.13.7"
  }
 },
 "nbformat": 4,
 "nbformat_minor": 5
}
