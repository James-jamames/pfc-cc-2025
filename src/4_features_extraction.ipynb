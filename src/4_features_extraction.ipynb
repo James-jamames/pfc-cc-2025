{
 "cells": [
  {
   "cell_type": "code",
   "execution_count": 20,
   "id": "1bdda045",
   "metadata": {},
   "outputs": [],
   "source": [
    "import rasterio\n",
    "from rasterio.mask import mask\n",
    "import geopandas as gpd\n",
    "from shapely.geometry  import box\n",
    "\n",
    "raster_path = \"C:/Users/tiago/Documents/Workspace/UFG/pfc-cc-2025/data/embeddings/1-embeddings.tif\"\n",
    "gpkg_path = \"C:/Users/tiago/Documents/Workspace/UFG/pfc-cc-2025/data/tiles/1-mvp-warped.tif\""
   ]
  },
  {
   "cell_type": "code",
   "execution_count": 22,
   "id": "e7602711",
   "metadata": {},
   "outputs": [],
   "source": [
    "import rasterio\n",
    "from rasterio.mask import mask\n",
    "import numpy as np\n",
    "\n",
    "# Abrir o raster que será usado como máscara\n",
    "with rasterio.open(gpkg_path) as src_mask:\n",
    "    mask_data = src_mask.read(1)  # lê a primeira banda\n",
    "    mask_transform = src_mask.transform\n",
    "    mask_crs = src_mask.crs\n",
    "\n",
    "# Criar uma máscara booleana: True onde o valor é maior que 0 (ou qualquer critério que você queira)\n",
    "boolean_mask = mask_data >= 0\n",
    "\n",
    "# Abrir o raster que será mascarado\n",
    "with rasterio.open(raster_path) as src_features:\n",
    "    features_data = src_features.read()  # lê todas as bandas\n",
    "    features_meta = src_features.meta.copy()\n",
    "\n",
    "    # Ajuste da meta se necessário\n",
    "    features_meta.update(dtype=rasterio.float32)\n",
    "\n",
    "    # Aplicar a máscara banda a banda\n",
    "    masked_data = np.where(boolean_mask, features_data, 0)\n",
    "\n",
    "# Salvar o raster resultante\n",
    "with rasterio.open(\"features_masked.tif\", \"w\", **features_meta) as dst:\n",
    "    dst.write(masked_data.astype(rasterio.float32))"
   ]
  },
  {
   "cell_type": "code",
   "execution_count": 23,
   "id": "bac115c6",
   "metadata": {},
   "outputs": [],
   "source": [
    "import rasterio\n",
    "import numpy as np\n",
    "\n",
    "# Abrir o raster mascarado\n",
    "with rasterio.open(\"features_masked.tif\") as src_features:\n",
    "    features_data = src_features.read()  # shape: (bandas, altura, largura)\n",
    "    features_meta = src_features.meta.copy()\n",
    "\n",
    "# Abrir o raster 1-mvc\n",
    "with rasterio.open(gpkg_path) as src_mvc:\n",
    "    mvc_data = src_mvc.read(1)  # lê a primeira banda\n",
    "\n",
    "# Adicionar a banda do 1-mvc ao final do features_data\n",
    "combined_data = np.vstack([features_data, mvc_data[np.newaxis, :, :]])  # shape: (65, altura, largura)\n",
    "\n",
    "# Atualizar o metadata para refletir a nova quantidade de bandas\n",
    "features_meta.update(count=combined_data.shape[0], dtype=rasterio.float32)\n",
    "\n",
    "# Salvar o raster combinado\n",
    "with rasterio.open(\"features_plus_mvc.tif\", \"w\", **features_meta) as dst:\n",
    "    dst.write(combined_data.astype(rasterio.float32))\n"
   ]
  }
 ],
 "metadata": {
  "kernelspec": {
   "display_name": ".venv",
   "language": "python",
   "name": "python3"
  },
  "language_info": {
   "codemirror_mode": {
    "name": "ipython",
    "version": 3
   },
   "file_extension": ".py",
   "mimetype": "text/x-python",
   "name": "python",
   "nbconvert_exporter": "python",
   "pygments_lexer": "ipython3",
   "version": "3.12.10"
  }
 },
 "nbformat": 4,
 "nbformat_minor": 5
}
