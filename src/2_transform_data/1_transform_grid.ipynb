{
 "cells": [
  {
   "cell_type": "markdown",
   "id": "0853c4ea",
   "metadata": {},
   "source": [
    "# Rasterizar"
   ]
  },
  {
   "cell_type": "code",
   "execution_count": 1,
   "id": "962ecc15",
   "metadata": {},
   "outputs": [],
   "source": [
    "# gdal_rasterize -a google_class -l 1-mvp -tr 10 10 -te 3298060 9564778 3299080 9565798 -ot Int16 -a_nodata -1 1-mvp.gpkg 1-mvp.tif\n",
    "\n",
    "# gdalwarp -t_srs EPSG:32635 -te 624600 7192530 625060 7193000 -tr 10 10 -r mode -dstnodata -1 1-mvp.tif 1-mvp-warped.tif"
   ]
  },
  {
   "cell_type": "code",
   "execution_count": null,
   "id": "0e285d00",
   "metadata": {},
   "outputs": [],
   "source": [
    "import shutil\n",
    "from pathlib import Path\n",
    "\n",
    "input_dir = Path(\"../../data/raw\")\n",
    "output_dir = Path(\"../../data/raster\")\n",
    "feature_dir = Path('../../data/feature')\n",
    "\n",
    "output_dir.mkdir(exist_ok=True)\n",
    "(output_dir / 'bing').mkdir(exist_ok=True)\n",
    "(output_dir / 'google').mkdir(exist_ok=True)\n",
    "\n",
    "gpkg_files = list(input_dir.glob(\"*.gpkg\"))"
   ]
  },
  {
   "cell_type": "code",
   "execution_count": 3,
   "id": "ae3e1f1e",
   "metadata": {},
   "outputs": [],
   "source": [
    "import rasterio\n",
    "import numpy as np\n",
    "import geopandas as gpd\n",
    "\n",
    "from tqdm import tqdm\n",
    "from osgeo import gdal, osr"
   ]
  },
  {
   "cell_type": "code",
   "execution_count": 4,
   "id": "004b50a0",
   "metadata": {},
   "outputs": [],
   "source": [
    "def rasterize(input_dir: Path, output_dir: Path, source: str):\n",
    "    layer = input_dir.stem\n",
    "    gdf = gpd.read_file(input_dir, layer=layer)\n",
    "    xmin, ymin, xmax, ymax = gdf.total_bounds\n",
    "\n",
    "    options = gdal.RasterizeOptions(\n",
    "        attribute=f\"{source}_value\",\n",
    "        layers=[layer],\n",
    "        outputType=gdal.GDT_Int16,\n",
    "        xRes=10,\n",
    "        yRes=10,\n",
    "        noData=-1,\n",
    "        outputBounds=(xmin, ymin, xmax, ymax)\n",
    "    )\n",
    "\n",
    "    gdal.Rasterize(output_dir / f\"{layer}.tif\", input_dir, options=options)"
   ]
  },
  {
   "cell_type": "code",
   "execution_count": null,
   "id": "381c0c9d",
   "metadata": {},
   "outputs": [],
   "source": [
    "def get_output_bounds(ds):\n",
    "    gt = ds.GetGeoTransform()\n",
    "    xmin = gt[0]\n",
    "    ymin = gt[3]\n",
    "    xres = gt[1]\n",
    "    yres = gt[5]\n",
    "    xsize = ds.RasterXSize\n",
    "    ysize = ds.RasterYSize\n",
    "    xmax = xmin + xres * xsize\n",
    "    ymax = ymin + yres * ysize\n",
    "\n",
    "    return (xmin, ymin, xmax, ymax)\n",
    "\n",
    "def get_epsg_from_gpkg(ds) -> int:\n",
    "    proj = ds.GetProjection()\n",
    "    srs = osr.SpatialReference()\n",
    "    srs.ImportFromWkt(proj)\n",
    "\n",
    "    return srs.GetAttrValue(\"AUTHORITY\", 1)\n",
    "\n",
    "def warp(input_dir: Path, output_dir: Path, source: str):\n",
    "    input_fn = input_dir.stem\n",
    "\n",
    "    ds = gdal.Open(feature_dir / source / f'{input_fn}.tif')\n",
    "\n",
    "    warp_options = gdal.WarpOptions(\n",
    "        format=\"GTiff\",\n",
    "        dstSRS=f\"EPSG:{get_epsg_from_gpkg(ds)}\",\n",
    "        outputBounds=get_output_bounds(ds),\n",
    "        xRes=10, yRes=10,                  \n",
    "        resampleAlg=gdal.GRA_NearestNeighbour,           \n",
    "        dstNodata=-1                       \n",
    "    )\n",
    "\n",
    "    gdal.Warp(output_dir / f'{input_fn}.tif', input_dir, options=warp_options)"
   ]
  },
  {
   "cell_type": "code",
   "execution_count": null,
   "id": "38a51249",
   "metadata": {},
   "outputs": [],
   "source": [
    "def mask(input_dir: Path, output_dir: Path, source: str):\n",
    "    fn = input_dir.stem\n",
    "\n",
    "    with rasterio.open(input_dir) as msrc:\n",
    "        mask = msrc.read()\n",
    "        mask = mask[:, ::-1, :]\n",
    "\n",
    "    with rasterio.open(feature_dir / source / f'{fn}.tif') as fsrc:\n",
    "        data = fsrc.read()\n",
    "        profile = fsrc.profile.copy()\n",
    "\n",
    "    nodata = profile.get(\"nodata\")\n",
    "\n",
    "    masked_data = np.where(np.isin(mask, [0, 1, 2, 3]), data, nodata)\n",
    "\n",
    "    data_concat = np.concatenate([masked_data, mask], axis=0)\n",
    "\n",
    "    profile.update(count=data_concat.shape[0])\n",
    "\n",
    "    with rasterio.open(output_dir / f'{fn}.tif', \"w\", **profile) as dst:\n",
    "        dst.write(data_concat)"
   ]
  },
  {
   "cell_type": "code",
   "execution_count": 7,
   "id": "de785128",
   "metadata": {},
   "outputs": [],
   "source": [
    "rtemp_dir = Path(\"../data/temp_r\")\n",
    "rtemp_dir.mkdir(exist_ok=True)\n",
    "(rtemp_dir / 'bing').mkdir(exist_ok=True)\n",
    "(rtemp_dir / 'google').mkdir(exist_ok=True)\n",
    "\n",
    "wtemp_dir = Path(\"../data/temp_w\")\n",
    "wtemp_dir.mkdir(exist_ok=True)\n",
    "(wtemp_dir / 'bing').mkdir(exist_ok=True)\n",
    "(wtemp_dir / 'google').mkdir(exist_ok=True)"
   ]
  },
  {
   "cell_type": "code",
   "execution_count": 8,
   "id": "70e6ba9b",
   "metadata": {},
   "outputs": [
    {
     "name": "stderr",
     "output_type": "stream",
     "text": [
      "  0%|          | 0/9799 [00:00<?, ?it/s]"
     ]
    },
    {
     "name": "stderr",
     "output_type": "stream",
     "text": [
      "c:\\Users\\tiago\\anaconda3\\envs\\gdal\\Lib\\site-packages\\osgeo\\gdal.py:330: FutureWarning: Neither gdal.UseExceptions() nor gdal.DontUseExceptions() has been explicitly called. In GDAL 4.0, exceptions will be enabled by default.\n",
      "  warnings.warn(\n",
      "  0%|          | 10/9799 [00:04<1:15:26,  2.16it/s]\n"
     ]
    },
    {
     "ename": "KeyboardInterrupt",
     "evalue": "",
     "output_type": "error",
     "traceback": [
      "\u001b[31m---------------------------------------------------------------------------\u001b[39m",
      "\u001b[31mKeyboardInterrupt\u001b[39m                         Traceback (most recent call last)",
      "\u001b[36mCell\u001b[39m\u001b[36m \u001b[39m\u001b[32mIn[8]\u001b[39m\u001b[32m, line 8\u001b[39m\n\u001b[32m      4\u001b[39m     rasterize(gpkg_file, rtemp_dir / source, source)\n\u001b[32m      6\u001b[39m     warp(rtemp_dir / source / \u001b[33mf\u001b[39m\u001b[33m\"\u001b[39m\u001b[38;5;132;01m{\u001b[39;00mgpkg_file.stem\u001b[38;5;132;01m}\u001b[39;00m\u001b[33m.tif\u001b[39m\u001b[33m\"\u001b[39m, wtemp_dir / source, source)\n\u001b[32m----> \u001b[39m\u001b[32m8\u001b[39m     \u001b[43mmask\u001b[49m\u001b[43m(\u001b[49m\u001b[43mwtemp_dir\u001b[49m\u001b[43m \u001b[49m\u001b[43m/\u001b[49m\u001b[43m \u001b[49m\u001b[43msource\u001b[49m\u001b[43m \u001b[49m\u001b[43m/\u001b[49m\u001b[43m \u001b[49m\u001b[33;43mf\u001b[39;49m\u001b[33;43m\"\u001b[39;49m\u001b[38;5;132;43;01m{\u001b[39;49;00m\u001b[43mgpkg_file\u001b[49m\u001b[43m.\u001b[49m\u001b[43mstem\u001b[49m\u001b[38;5;132;43;01m}\u001b[39;49;00m\u001b[33;43m.tif\u001b[39;49m\u001b[33;43m\"\u001b[39;49m\u001b[43m,\u001b[49m\u001b[43m \u001b[49m\u001b[43moutput_dir\u001b[49m\u001b[43m \u001b[49m\u001b[43m/\u001b[49m\u001b[43m \u001b[49m\u001b[43msource\u001b[49m\u001b[43m,\u001b[49m\u001b[43m \u001b[49m\u001b[43msource\u001b[49m\u001b[43m)\u001b[49m\n\u001b[32m      9\u001b[39m \u001b[38;5;28;01mexcept\u001b[39;00m \u001b[38;5;167;01mException\u001b[39;00m \u001b[38;5;28;01mas\u001b[39;00m e:\n\u001b[32m     10\u001b[39m     \u001b[38;5;28;01mpass\u001b[39;00m\n",
      "\u001b[36mCell\u001b[39m\u001b[36m \u001b[39m\u001b[32mIn[6]\u001b[39m\u001b[32m, line 9\u001b[39m, in \u001b[36mmask\u001b[39m\u001b[34m(input_dir, output_dir, source)\u001b[39m\n\u001b[32m      6\u001b[39m     mask = mask[:, ::-\u001b[32m1\u001b[39m, :]\n\u001b[32m      8\u001b[39m \u001b[38;5;28;01mwith\u001b[39;00m rasterio.open(Path(\u001b[33m\"\u001b[39m\u001b[33m../data/feature\u001b[39m\u001b[33m\"\u001b[39m) / source / \u001b[33mf\u001b[39m\u001b[33m'\u001b[39m\u001b[38;5;132;01m{\u001b[39;00mfn\u001b[38;5;132;01m}\u001b[39;00m\u001b[33m.tif\u001b[39m\u001b[33m'\u001b[39m) \u001b[38;5;28;01mas\u001b[39;00m fsrc:\n\u001b[32m----> \u001b[39m\u001b[32m9\u001b[39m     data = \u001b[43mfsrc\u001b[49m\u001b[43m.\u001b[49m\u001b[43mread\u001b[49m\u001b[43m(\u001b[49m\u001b[43m)\u001b[49m\n\u001b[32m     10\u001b[39m     profile = fsrc.profile.copy()\n\u001b[32m     12\u001b[39m nodata = profile.get(\u001b[33m\"\u001b[39m\u001b[33mnodata\u001b[39m\u001b[33m\"\u001b[39m)\n",
      "\u001b[36mFile \u001b[39m\u001b[32mrasterio\\\\_io.pyx:644\u001b[39m, in \u001b[36mrasterio._io.DatasetReaderBase.read\u001b[39m\u001b[34m()\u001b[39m\n",
      "\u001b[36mFile \u001b[39m\u001b[32mrasterio\\\\_io.pyx:969\u001b[39m, in \u001b[36mrasterio._io.DatasetReaderBase._read\u001b[39m\u001b[34m()\u001b[39m\n",
      "\u001b[36mFile \u001b[39m\u001b[32mrasterio\\\\_io.pyx:199\u001b[39m, in \u001b[36mrasterio._io.io_multi_band\u001b[39m\u001b[34m()\u001b[39m\n",
      "\u001b[36mFile \u001b[39m\u001b[32mc:\\Users\\tiago\\anaconda3\\envs\\gdal\\Lib\\contextlib.py:145\u001b[39m, in \u001b[36m_GeneratorContextManager.__exit__\u001b[39m\u001b[34m(self, typ, value, traceback)\u001b[39m\n\u001b[32m    142\u001b[39m     \u001b[38;5;28;01mexcept\u001b[39;00m \u001b[38;5;167;01mStopIteration\u001b[39;00m:\n\u001b[32m    143\u001b[39m         \u001b[38;5;28;01mraise\u001b[39;00m \u001b[38;5;167;01mRuntimeError\u001b[39;00m(\u001b[33m\"\u001b[39m\u001b[33mgenerator didn\u001b[39m\u001b[33m'\u001b[39m\u001b[33mt yield\u001b[39m\u001b[33m\"\u001b[39m) \u001b[38;5;28;01mfrom\u001b[39;00m\u001b[38;5;250m \u001b[39m\u001b[38;5;28;01mNone\u001b[39;00m\n\u001b[32m--> \u001b[39m\u001b[32m145\u001b[39m \u001b[38;5;28;01mdef\u001b[39;00m\u001b[38;5;250m \u001b[39m\u001b[34m__exit__\u001b[39m(\u001b[38;5;28mself\u001b[39m, typ, value, traceback):\n\u001b[32m    146\u001b[39m     \u001b[38;5;28;01mif\u001b[39;00m typ \u001b[38;5;129;01mis\u001b[39;00m \u001b[38;5;28;01mNone\u001b[39;00m:\n\u001b[32m    147\u001b[39m         \u001b[38;5;28;01mtry\u001b[39;00m:\n",
      "\u001b[31mKeyboardInterrupt\u001b[39m: "
     ]
    }
   ],
   "source": [
    "for gpkg_file in tqdm(gpkg_files):\n",
    "    for source in ['google', 'bing']:\n",
    "        try:\n",
    "            rasterize(gpkg_file, rtemp_dir / source, source)\n",
    "\n",
    "            warp(rtemp_dir / source / f\"{gpkg_file.stem}.tif\", wtemp_dir / source, source)\n",
    "\n",
    "            mask(wtemp_dir / source / f\"{gpkg_file.stem}.tif\", output_dir / source, source)\n",
    "        except Exception as e:\n",
    "            pass"
   ]
  },
  {
   "cell_type": "code",
   "execution_count": null,
   "id": "123ee779",
   "metadata": {},
   "outputs": [
    {
     "ename": "",
     "evalue": "",
     "output_type": "error",
     "traceback": [
      "\u001b[1;31mThe Kernel crashed while executing code in the current cell or a previous cell. \n",
      "\u001b[1;31mPlease review the code in the cell(s) to identify a possible cause of the failure. \n",
      "\u001b[1;31mClick <a href='https://aka.ms/vscodeJupyterKernelCrash'>here</a> for more info. \n",
      "\u001b[1;31mView Jupyter <a href='command:jupyter.viewOutput'>log</a> for further details."
     ]
    }
   ],
   "source": [
    "shutil.rmtree(rtemp_dir)\n",
    "shutil.rmtree(wtemp_dir)"
   ]
  },
  {
   "cell_type": "code",
   "execution_count": null,
   "id": "f6af0cef",
   "metadata": {},
   "outputs": [],
   "source": []
  }
 ],
 "metadata": {
  "kernelspec": {
   "display_name": "gdal",
   "language": "python",
   "name": "python3"
  },
  "language_info": {
   "codemirror_mode": {
    "name": "ipython",
    "version": 3
   },
   "file_extension": ".py",
   "mimetype": "text/x-python",
   "name": "python",
   "nbconvert_exporter": "python",
   "pygments_lexer": "ipython3",
   "version": "3.13.7"
  }
 },
 "nbformat": 4,
 "nbformat_minor": 5
}
