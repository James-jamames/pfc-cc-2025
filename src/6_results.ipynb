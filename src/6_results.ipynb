{
 "cells": [
  {
   "cell_type": "code",
   "execution_count": 1,
   "id": "ccd0974e",
   "metadata": {},
   "outputs": [
    {
     "name": "stderr",
     "output_type": "stream",
     "text": [
      "Exception ignored in: <_io.BufferedReader>\n",
      "Traceback (most recent call last):\n",
      "  File \"c:\\Users\\tiago\\anaconda3\\envs\\gdal\\Lib\\site-packages\\lz4\\frame\\__init__.py\", line 753, in flush\n",
      "    self._fp.flush()\n",
      "ValueError: I/O operation on closed file.\n"
     ]
    },
    {
     "name": "stdout",
     "output_type": "stream",
     "text": [
      "{'cv_result':          predict_proba  expected\n",
      "0                 0.00       0.0\n",
      "1                 0.01       0.0\n",
      "2                 0.00       0.0\n",
      "3                 0.02       0.0\n",
      "4                 0.03       0.0\n",
      "...                ...       ...\n",
      "8052939           0.01       0.0\n",
      "8052940           0.03       0.0\n",
      "8052941           0.01       0.0\n",
      "8052942           0.03       0.0\n",
      "8052943           0.05       0.0\n",
      "\n",
      "[8052944 rows x 2 columns], 'threshold': np.float64(0.3066666666666667), 'recall': 0.5344737858699534, 'precision': 0.5345189794249242, 'f1_score': 0.5344963816921202, 'model': RandomForestClassifier(n_jobs=-1)}\n"
     ]
    }
   ],
   "source": [
    "import joblib\n",
    "\n",
    "arquivo = \"../models/other_vs_cultivated.lz4\"\n",
    "\n",
    "dados = joblib.load(arquivo)\n",
    "\n",
    "print(dados)"
   ]
  },
  {
   "cell_type": "code",
   "execution_count": null,
   "id": "c906bf50",
   "metadata": {},
   "outputs": [],
   "source": []
  }
 ],
 "metadata": {
  "kernelspec": {
   "display_name": "gdal",
   "language": "python",
   "name": "python3"
  },
  "language_info": {
   "codemirror_mode": {
    "name": "ipython",
    "version": 3
   },
   "file_extension": ".py",
   "mimetype": "text/x-python",
   "name": "python",
   "nbconvert_exporter": "python",
   "pygments_lexer": "ipython3",
   "version": "3.13.7"
  }
 },
 "nbformat": 4,
 "nbformat_minor": 5
}
