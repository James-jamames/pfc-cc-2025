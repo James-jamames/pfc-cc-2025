{
 "cells": [
  {
   "cell_type": "code",
   "execution_count": 5,
   "id": "ccd0974e",
   "metadata": {},
   "outputs": [
    {
     "name": "stderr",
     "output_type": "stream",
     "text": [
      "Exception ignored in: <_io.BufferedReader>\n",
      "Traceback (most recent call last):\n",
      "  File \"c:\\Users\\tiago\\anaconda3\\envs\\gdal\\Lib\\site-packages\\lz4\\frame\\__init__.py\", line 753, in flush\n",
      "    self._fp.flush()\n",
      "ValueError: I/O operation on closed file.\n"
     ]
    },
    {
     "name": "stdout",
     "output_type": "stream",
     "text": [
      "{'cv_result':          predict_proba  expected\n",
      "0                 0.02       0.0\n",
      "1                 0.02       0.0\n",
      "2                 0.00       0.0\n",
      "3                 0.00       0.0\n",
      "4                 0.01       0.0\n",
      "...                ...       ...\n",
      "2305869           0.08       0.0\n",
      "2305870           0.04       0.0\n",
      "2305871           0.04       0.0\n",
      "2305872           0.06       0.0\n",
      "2305873           0.07       0.0\n",
      "\n",
      "[2305874 rows x 2 columns], 'threshold': np.float64(0.38), 'recall': 0.6220295675179572, 'precision': 0.6156601842374616, 'f1_score': 0.6188284868580394, 'model': RandomForestClassifier(n_jobs=-1)}\n"
     ]
    }
   ],
   "source": [
    "import joblib\n",
    "\n",
    "arquivo = \"../models/other_vs_natural.lz4\"\n",
    "\n",
    "dados = joblib.load(arquivo)\n",
    "\n",
    "print(dados)"
   ]
  },
  {
   "cell_type": "code",
   "execution_count": null,
   "id": "c906bf50",
   "metadata": {},
   "outputs": [],
   "source": []
  }
 ],
 "metadata": {
  "kernelspec": {
   "display_name": "gdal",
   "language": "python",
   "name": "python3"
  },
  "language_info": {
   "codemirror_mode": {
    "name": "ipython",
    "version": 3
   },
   "file_extension": ".py",
   "mimetype": "text/x-python",
   "name": "python",
   "nbconvert_exporter": "python",
   "pygments_lexer": "ipython3",
   "version": "3.13.7"
  }
 },
 "nbformat": 4,
 "nbformat_minor": 5
}
