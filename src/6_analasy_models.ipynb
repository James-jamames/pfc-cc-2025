{
 "cells": [
  {
   "cell_type": "code",
   "execution_count": 1,
   "id": "ccd0974e",
   "metadata": {},
   "outputs": [
    {
     "name": "stderr",
     "output_type": "stream",
     "text": [
      "Exception ignored in: <_io.BufferedReader>\n",
      "Traceback (most recent call last):\n",
      "  File \"c:\\Users\\tiago\\anaconda3\\envs\\gdal\\Lib\\site-packages\\lz4\\frame\\__init__.py\", line 753, in flush\n",
      "    self._fp.flush()\n",
      "ValueError: I/O operation on closed file.\n"
     ]
    },
    {
     "name": "stdout",
     "output_type": "stream",
     "text": [
      "{'cv_result':          predict_proba  expected\n",
      "0                 0.01       0.0\n",
      "1                 0.03       0.0\n",
      "2                 0.00       0.0\n",
      "3                 0.00       0.0\n",
      "4                 0.00       0.0\n",
      "...                ...       ...\n",
      "5764317           0.17       0.0\n",
      "5764318           0.18       0.0\n",
      "5764319           0.20       0.0\n",
      "5764320           0.20       0.0\n",
      "5764321           0.21       0.0\n",
      "\n",
      "[5764322 rows x 2 columns], 'threshold': np.float64(0.4), 'recall': 0.673223744688635, 'precision': 0.6701668077370889, 'f1_score': 0.6716917981239664, 'model': RandomForestClassifier(n_jobs=-1)}\n"
     ]
    }
   ],
   "source": [
    "import joblib\n",
    "\n",
    "arquivo = \"../models/other_vs_natural.lz4\"\n",
    "\n",
    "dados = joblib.load(arquivo)\n",
    "\n",
    "print(dados)"
   ]
  },
  {
   "cell_type": "code",
   "execution_count": null,
   "id": "c906bf50",
   "metadata": {},
   "outputs": [],
   "source": []
  }
 ],
 "metadata": {
  "kernelspec": {
   "display_name": "gdal",
   "language": "python",
   "name": "python3"
  },
  "language_info": {
   "codemirror_mode": {
    "name": "ipython",
    "version": 3
   },
   "file_extension": ".py",
   "mimetype": "text/x-python",
   "name": "python",
   "nbconvert_exporter": "python",
   "pygments_lexer": "ipython3",
   "version": "3.13.7"
  }
 },
 "nbformat": 4,
 "nbformat_minor": 5
}
