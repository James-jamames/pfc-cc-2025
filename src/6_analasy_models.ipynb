{
 "cells": [
  {
   "cell_type": "markdown",
   "id": "5169ba2a",
   "metadata": {},
   "source": [
    "# RandomForest"
   ]
  },
  {
   "cell_type": "code",
   "execution_count": 1,
   "id": "1c5bb5ba",
   "metadata": {},
   "outputs": [],
   "source": [
    "import joblib\n",
    "import numpy as np\n",
    "\n",
    "from pathlib import Path"
   ]
  },
  {
   "cell_type": "code",
   "execution_count": 2,
   "id": "cefb180b",
   "metadata": {},
   "outputs": [],
   "source": [
    "names = []\n",
    "f1_scores = []\n",
    "recall_scores = []\n",
    "precision_scores = []"
   ]
  },
  {
   "cell_type": "code",
   "execution_count": null,
   "id": "672fa4f9",
   "metadata": {},
   "outputs": [
    {
     "name": "stderr",
     "output_type": "stream",
     "text": [
      "Exception ignored in: <_io.BufferedReader>\n",
      "Traceback (most recent call last):\n",
      "  File \"c:\\Users\\tiago\\anaconda3\\envs\\gdal\\Lib\\site-packages\\lz4\\frame\\__init__.py\", line 753, in flush\n",
      "    self._fp.flush()\n",
      "ValueError: I/O operation on closed file.\n",
      "Exception ignored in: <_io.BufferedReader>\n",
      "Traceback (most recent call last):\n",
      "  File \"c:\\Users\\tiago\\anaconda3\\envs\\gdal\\Lib\\site-packages\\lz4\\frame\\__init__.py\", line 753, in flush\n",
      "    self._fp.flush()\n",
      "ValueError: I/O operation on closed file.\n"
     ]
    }
   ],
   "source": [
    "# RandomForestClassifier\n",
    "\n",
    "path_lz4 = Path(\"../models\")\n",
    "\n",
    "names.append(\"RFClassifier\")\n",
    "\n",
    "f1_scores_temp = []\n",
    "recall_scores_temp = []\n",
    "precision_scores_temp = []\n",
    "\n",
    "for _class in [\"cultivated\", \"natural\"]:\n",
    "    metrics = joblib.load(path_lz4 / f\"rf_other_vs_{_class}.lz4\")\n",
    "\n",
    "    f1_scores_temp.append(metrics['f1_score'])\n",
    "    recall_scores_temp.append(metrics['recall'])\n",
    "    precision_scores_temp.append(metrics['precision'])\n",
    "\n",
    "f1_scores.append(f1_scores_temp)\n",
    "recall_scores.append(recall_scores_temp)\n",
    "precision_scores.append(precision_scores_temp)"
   ]
  },
  {
   "cell_type": "code",
   "execution_count": null,
   "id": "eab26bc5",
   "metadata": {},
   "outputs": [],
   "source": [
    "# KNNClassifier (k=1)\n",
    "\n",
    "path_lz4 = Path(\"../models\")\n",
    "\n",
    "for k_neighbor in [1, 3]:\n",
    "    names.append(f\"KNNClassifier (k={k_neighbor})\")\n",
    "\n",
    "    f1_scores_temp = []\n",
    "    recall_scores_temp = []\n",
    "    precision_scores_temp = []\n",
    "\n",
    "    for _class in [\"cultivated\", \"natural\"]:\n",
    "        metrics = joblib.load(path_lz4 / f\"knn_{k_neighbor}_other_vs_{_class}.lz4\")\n",
    "\n",
    "        f1_scores_temp.append(metrics['f1_score'])\n",
    "        recall_scores_temp.append(metrics['recall'])\n",
    "        precision_scores_temp.append(metrics['precision'])\n",
    "\n",
    "    f1_scores.append(f1_scores_temp)\n",
    "    recall_scores.append(recall_scores_temp)\n",
    "    precision_scores.append(precision_scores_temp)"
   ]
  },
  {
   "cell_type": "code",
   "execution_count": 3,
   "id": "f2b1ca0d",
   "metadata": {},
   "outputs": [],
   "source": [
    "# SVC\n",
    "\n",
    "path_lz4 = Path(\"../models\")\n",
    "\n",
    "for sample_ratio in [2, 4]:\n",
    "    names.append(f\"SVC (k=linear, sr={sample_ratio})\")\n",
    "\n",
    "    f1_scores_temp = []\n",
    "    recall_scores_temp = []\n",
    "    precision_scores_temp = []\n",
    "\n",
    "    for _class in [\"cultivated\", \"natural\"]:\n",
    "        metrics = joblib.load(path_lz4 / f\"svc_sr2_other_vs_{_class}.lz4\")\n",
    "\n",
    "        f1_scores_temp.append(metrics['f1_score'])\n",
    "        recall_scores_temp.append(metrics['recall'])\n",
    "        precision_scores_temp.append(metrics['precision'])\n",
    "\n",
    "    f1_scores.append(f1_scores_temp)\n",
    "    recall_scores.append(recall_scores_temp)\n",
    "    precision_scores.append(precision_scores_temp)"
   ]
  },
  {
   "cell_type": "code",
   "execution_count": 4,
   "id": "9b2f6056",
   "metadata": {},
   "outputs": [],
   "source": [
    "f1_scores = np.array(f1_scores)\n",
    "recall_scores = np.array(recall_scores)\n",
    "precision_scores = np.array(precision_scores)"
   ]
  },
  {
   "cell_type": "code",
   "execution_count": 5,
   "id": "8b790ea2",
   "metadata": {},
   "outputs": [],
   "source": [
    "import pandas as pd\n",
    "\n",
    "data_cultivated = {\n",
    "    'Model': names,\n",
    "    'F1-score': f1_scores[:,0],\n",
    "    'Precision': precision_scores[:,0],\n",
    "    'Recall': recall_scores[:,0]\n",
    "}\n",
    "\n",
    "data_natural = {\n",
    "    'Model': names,\n",
    "    'F1-score': f1_scores[:,1],\n",
    "    'Precision': precision_scores[:,1],\n",
    "    'Recall': recall_scores[:,1]\n",
    "}\n",
    "\n",
    "df_cultivated = pd.DataFrame(data_cultivated)\n",
    "df_natural = pd.DataFrame(data_natural)"
   ]
  },
  {
   "cell_type": "code",
   "execution_count": 6,
   "id": "20536abb",
   "metadata": {},
   "outputs": [
    {
     "data": {
      "text/html": [
       "<div>\n",
       "<style scoped>\n",
       "    .dataframe tbody tr th:only-of-type {\n",
       "        vertical-align: middle;\n",
       "    }\n",
       "\n",
       "    .dataframe tbody tr th {\n",
       "        vertical-align: top;\n",
       "    }\n",
       "\n",
       "    .dataframe thead th {\n",
       "        text-align: right;\n",
       "    }\n",
       "</style>\n",
       "<table border=\"1\" class=\"dataframe\">\n",
       "  <thead>\n",
       "    <tr style=\"text-align: right;\">\n",
       "      <th></th>\n",
       "      <th>Model</th>\n",
       "      <th>F1-score</th>\n",
       "      <th>Precision</th>\n",
       "      <th>Recall</th>\n",
       "    </tr>\n",
       "  </thead>\n",
       "  <tbody>\n",
       "    <tr>\n",
       "      <th>0</th>\n",
       "      <td>SVC (k=linear, sr=2)</td>\n",
       "      <td>0.541102</td>\n",
       "      <td>0.541102</td>\n",
       "      <td>0.541102</td>\n",
       "    </tr>\n",
       "    <tr>\n",
       "      <th>1</th>\n",
       "      <td>SVC (k=linear, sr=4)</td>\n",
       "      <td>0.541102</td>\n",
       "      <td>0.541102</td>\n",
       "      <td>0.541102</td>\n",
       "    </tr>\n",
       "  </tbody>\n",
       "</table>\n",
       "</div>"
      ],
      "text/plain": [
       "                  Model  F1-score  Precision    Recall\n",
       "0  SVC (k=linear, sr=2)  0.541102   0.541102  0.541102\n",
       "1  SVC (k=linear, sr=4)  0.541102   0.541102  0.541102"
      ]
     },
     "execution_count": 6,
     "metadata": {},
     "output_type": "execute_result"
    }
   ],
   "source": [
    "df_cultivated"
   ]
  },
  {
   "cell_type": "code",
   "execution_count": 7,
   "id": "e821dc3a",
   "metadata": {},
   "outputs": [
    {
     "data": {
      "text/html": [
       "<div>\n",
       "<style scoped>\n",
       "    .dataframe tbody tr th:only-of-type {\n",
       "        vertical-align: middle;\n",
       "    }\n",
       "\n",
       "    .dataframe tbody tr th {\n",
       "        vertical-align: top;\n",
       "    }\n",
       "\n",
       "    .dataframe thead th {\n",
       "        text-align: right;\n",
       "    }\n",
       "</style>\n",
       "<table border=\"1\" class=\"dataframe\">\n",
       "  <thead>\n",
       "    <tr style=\"text-align: right;\">\n",
       "      <th></th>\n",
       "      <th>Model</th>\n",
       "      <th>F1-score</th>\n",
       "      <th>Precision</th>\n",
       "      <th>Recall</th>\n",
       "    </tr>\n",
       "  </thead>\n",
       "  <tbody>\n",
       "    <tr>\n",
       "      <th>0</th>\n",
       "      <td>SVC (k=linear, sr=2)</td>\n",
       "      <td>0.656445</td>\n",
       "      <td>0.658817</td>\n",
       "      <td>0.654089</td>\n",
       "    </tr>\n",
       "    <tr>\n",
       "      <th>1</th>\n",
       "      <td>SVC (k=linear, sr=4)</td>\n",
       "      <td>0.656445</td>\n",
       "      <td>0.658817</td>\n",
       "      <td>0.654089</td>\n",
       "    </tr>\n",
       "  </tbody>\n",
       "</table>\n",
       "</div>"
      ],
      "text/plain": [
       "                  Model  F1-score  Precision    Recall\n",
       "0  SVC (k=linear, sr=2)  0.656445   0.658817  0.654089\n",
       "1  SVC (k=linear, sr=4)  0.656445   0.658817  0.654089"
      ]
     },
     "execution_count": 7,
     "metadata": {},
     "output_type": "execute_result"
    }
   ],
   "source": [
    "df_natural"
   ]
  },
  {
   "cell_type": "code",
   "execution_count": 10,
   "id": "40db20dc",
   "metadata": {},
   "outputs": [
    {
     "name": "stdout",
     "output_type": "stream",
     "text": [
      "\\begin{tabular}{lrrr}\n",
      "\\toprule\n",
      "Model & F1-score & Precision & Recall \\\\\n",
      "\\midrule\n",
      "KNNClassifier (k=1) & 0.554371 & 0.502614 & 0.618011 \\\\\n",
      "KNNClassifier (k=3) & 0.589267 & 0.544875 & 0.641534 \\\\\n",
      "SVC (sr=2) & 0.656445 & 0.658817 & 0.654089 \\\\\n",
      "\\bottomrule\n",
      "\\end{tabular}\n",
      "\n"
     ]
    }
   ],
   "source": [
    "latex_code = df_natural.to_latex(index=False)\n",
    "print(latex_code)"
   ]
  },
  {
   "cell_type": "code",
   "execution_count": null,
   "id": "1e29c7c5",
   "metadata": {},
   "outputs": [],
   "source": []
  }
 ],
 "metadata": {
  "kernelspec": {
   "display_name": ".venv",
   "language": "python",
   "name": "python3"
  },
  "language_info": {
   "codemirror_mode": {
    "name": "ipython",
    "version": 3
   },
   "file_extension": ".py",
   "mimetype": "text/x-python",
   "name": "python",
   "nbconvert_exporter": "python",
   "pygments_lexer": "ipython3",
   "version": "3.12.10"
  }
 },
 "nbformat": 4,
 "nbformat_minor": 5
}
