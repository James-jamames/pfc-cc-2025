{
 "cells": [
  {
   "cell_type": "markdown",
   "id": "5169ba2a",
   "metadata": {},
   "source": [
    "# RandomForest"
   ]
  },
  {
   "cell_type": "code",
   "execution_count": 1,
   "id": "1c5bb5ba",
   "metadata": {},
   "outputs": [],
   "source": [
    "import joblib\n",
    "import numpy as np\n",
    "\n",
    "from pathlib import Path"
   ]
  },
  {
   "cell_type": "code",
   "execution_count": 2,
   "id": "cefb180b",
   "metadata": {},
   "outputs": [],
   "source": [
    "names = []\n",
    "f1_scores = []\n",
    "recall_scores = []\n",
    "precision_scores = []"
   ]
  },
  {
   "cell_type": "code",
   "execution_count": null,
   "id": "672fa4f9",
   "metadata": {},
   "outputs": [
    {
     "name": "stderr",
     "output_type": "stream",
     "text": [
      "Exception ignored in: <_io.BufferedReader>\n",
      "Traceback (most recent call last):\n",
      "  File \"c:\\Users\\tiago\\anaconda3\\envs\\gdal\\Lib\\site-packages\\lz4\\frame\\__init__.py\", line 753, in flush\n",
      "    self._fp.flush()\n",
      "ValueError: I/O operation on closed file.\n",
      "Exception ignored in: <_io.BufferedReader>\n",
      "Traceback (most recent call last):\n",
      "  File \"c:\\Users\\tiago\\anaconda3\\envs\\gdal\\Lib\\site-packages\\lz4\\frame\\__init__.py\", line 753, in flush\n",
      "    self._fp.flush()\n",
      "ValueError: I/O operation on closed file.\n"
     ]
    }
   ],
   "source": [
    "# RandomForestClassifier\n",
    "\n",
    "path_lz4 = Path(\"../models\")\n",
    "\n",
    "names.append(\"RFClassifier\")\n",
    "\n",
    "f1_scores_temp = []\n",
    "recall_scores_temp = []\n",
    "precision_scores_temp = []\n",
    "\n",
    "for _class in [\"cultivated\", \"natural\"]:\n",
    "    metrics = joblib.load(path_lz4 / f\"rf_other_vs_{_class}.lz4\")\n",
    "\n",
    "    f1_scores_temp.append(metrics['f1_score'])\n",
    "    recall_scores_temp.append(metrics['recall'])\n",
    "    precision_scores_temp.append(metrics['precision'])\n",
    "\n",
    "f1_scores.append(f1_scores_temp)\n",
    "recall_scores.append(recall_scores_temp)\n",
    "precision_scores.append(precision_scores_temp)"
   ]
  },
  {
   "cell_type": "code",
   "execution_count": 3,
   "id": "eab26bc5",
   "metadata": {},
   "outputs": [],
   "source": [
    "# KNNClassifier (k=1)\n",
    "\n",
    "path_lz4 = Path(\"../models\")\n",
    "\n",
    "names.append(\"KNNClassifier (k=1)\")\n",
    "\n",
    "f1_scores_temp = []\n",
    "recall_scores_temp = []\n",
    "precision_scores_temp = []\n",
    "\n",
    "for _class in [\"cultivated\", \"natural\"]:\n",
    "    metrics = joblib.load(path_lz4 / f\"knn_other_vs_{_class}.lz4\")\n",
    "\n",
    "    f1_scores_temp.append(metrics['f1_score'])\n",
    "    recall_scores_temp.append(metrics['recall'])\n",
    "    precision_scores_temp.append(metrics['precision'])\n",
    "\n",
    "f1_scores.append(f1_scores_temp)\n",
    "recall_scores.append(recall_scores_temp)\n",
    "precision_scores.append(precision_scores_temp)"
   ]
  },
  {
   "cell_type": "code",
   "execution_count": 4,
   "id": "c43d0e57",
   "metadata": {},
   "outputs": [],
   "source": [
    "# KNNClassifier (k=3)\n",
    "\n",
    "path_lz4 = Path(\"../models\")\n",
    "\n",
    "names.append(\"KNNClassifier (k=3)\")\n",
    "\n",
    "f1_scores_temp = []\n",
    "recall_scores_temp = []\n",
    "precision_scores_temp = []\n",
    "\n",
    "for _class in [\"cultivated\", \"natural\"]:\n",
    "    metrics = joblib.load(path_lz4 / f\"knn_3_other_vs_{_class}.lz4\")\n",
    "\n",
    "    f1_scores_temp.append(metrics['f1_score'])\n",
    "    recall_scores_temp.append(metrics['recall'])\n",
    "    precision_scores_temp.append(metrics['precision'])\n",
    "\n",
    "f1_scores.append(f1_scores_temp)\n",
    "recall_scores.append(recall_scores_temp)\n",
    "precision_scores.append(precision_scores_temp)"
   ]
  },
  {
   "cell_type": "code",
   "execution_count": null,
   "id": "f2b1ca0d",
   "metadata": {},
   "outputs": [],
   "source": [
    "# SVC\n",
    "\n",
    "path_lz4 = Path(\"../models\")\n",
    "\n",
    "names.append(\"SVC\")\n",
    "\n",
    "f1_scores_temp = []\n",
    "recall_scores_temp = []\n",
    "precision_scores_temp = []\n",
    "\n",
    "for _class in [\"cultivated\", \"natural\"]:\n",
    "    metrics = joblib.load(path_lz4 / f\"knn_3_other_vs_{_class}.lz4\")\n",
    "\n",
    "    f1_scores_temp.append(metrics['f1_score'])\n",
    "    recall_scores_temp.append(metrics['recall'])\n",
    "    precision_scores_temp.append(metrics['precision'])\n",
    "\n",
    "f1_scores.append(f1_scores_temp)\n",
    "recall_scores.append(recall_scores_temp)\n",
    "precision_scores.append(precision_scores_temp)"
   ]
  },
  {
   "cell_type": "code",
   "execution_count": 7,
   "id": "9b2f6056",
   "metadata": {},
   "outputs": [],
   "source": [
    "f1_scores = np.array(f1_scores)\n",
    "recall_scores = np.array(recall_scores)\n",
    "precision_scores = np.array(precision_scores)"
   ]
  },
  {
   "cell_type": "code",
   "execution_count": 8,
   "id": "cd65af03",
   "metadata": {},
   "outputs": [
    {
     "data": {
      "text/plain": [
       "array([[0.43254899, 0.55437117],\n",
       "       [0.47437438, 0.58926723]])"
      ]
     },
     "execution_count": 8,
     "metadata": {},
     "output_type": "execute_result"
    }
   ],
   "source": [
    "f1_scores"
   ]
  },
  {
   "cell_type": "code",
   "execution_count": 9,
   "id": "8b790ea2",
   "metadata": {},
   "outputs": [],
   "source": [
    "import pandas as pd\n",
    "\n",
    "data_cultivated = {\n",
    "    'Model': names,\n",
    "    'F1-score': f1_scores[:,0],\n",
    "    'Precision': precision_scores[:,0],\n",
    "    'Recall': recall_scores[:,0]\n",
    "}\n",
    "\n",
    "data_natural = {\n",
    "    'Model': names,\n",
    "    'F1-score': f1_scores[:,1],\n",
    "    'Precision': precision_scores[:,1],\n",
    "    'Recall': recall_scores[:,1]\n",
    "}\n",
    "\n",
    "df_cultivated = pd.DataFrame(data_cultivated)\n",
    "df_natural = pd.DataFrame(data_natural)"
   ]
  },
  {
   "cell_type": "code",
   "execution_count": 10,
   "id": "20536abb",
   "metadata": {},
   "outputs": [
    {
     "data": {
      "text/html": [
       "<div>\n",
       "<style scoped>\n",
       "    .dataframe tbody tr th:only-of-type {\n",
       "        vertical-align: middle;\n",
       "    }\n",
       "\n",
       "    .dataframe tbody tr th {\n",
       "        vertical-align: top;\n",
       "    }\n",
       "\n",
       "    .dataframe thead th {\n",
       "        text-align: right;\n",
       "    }\n",
       "</style>\n",
       "<table border=\"1\" class=\"dataframe\">\n",
       "  <thead>\n",
       "    <tr style=\"text-align: right;\">\n",
       "      <th></th>\n",
       "      <th>Model</th>\n",
       "      <th>F1-score</th>\n",
       "      <th>Precision</th>\n",
       "      <th>Recall</th>\n",
       "    </tr>\n",
       "  </thead>\n",
       "  <tbody>\n",
       "    <tr>\n",
       "      <th>0</th>\n",
       "      <td>KNNClassifier (k=1)</td>\n",
       "      <td>0.432549</td>\n",
       "      <td>0.351104</td>\n",
       "      <td>0.563192</td>\n",
       "    </tr>\n",
       "    <tr>\n",
       "      <th>1</th>\n",
       "      <td>KNNClassifier (k=3)</td>\n",
       "      <td>0.474374</td>\n",
       "      <td>0.397709</td>\n",
       "      <td>0.587655</td>\n",
       "    </tr>\n",
       "  </tbody>\n",
       "</table>\n",
       "</div>"
      ],
      "text/plain": [
       "                 Model  F1-score  Precision    Recall\n",
       "0  KNNClassifier (k=1)  0.432549   0.351104  0.563192\n",
       "1  KNNClassifier (k=3)  0.474374   0.397709  0.587655"
      ]
     },
     "execution_count": 10,
     "metadata": {},
     "output_type": "execute_result"
    }
   ],
   "source": [
    "df_cultivated.style.highlight_max(subset=['F1-score', 'Precision', 'Recall'], color='lightgreen')\n",
    "\n",
    "df_cultivated"
   ]
  },
  {
   "cell_type": "code",
   "execution_count": null,
   "id": "e821dc3a",
   "metadata": {},
   "outputs": [
    {
     "data": {
      "text/html": [
       "<div>\n",
       "<style scoped>\n",
       "    .dataframe tbody tr th:only-of-type {\n",
       "        vertical-align: middle;\n",
       "    }\n",
       "\n",
       "    .dataframe tbody tr th {\n",
       "        vertical-align: top;\n",
       "    }\n",
       "\n",
       "    .dataframe thead th {\n",
       "        text-align: right;\n",
       "    }\n",
       "</style>\n",
       "<table border=\"1\" class=\"dataframe\">\n",
       "  <thead>\n",
       "    <tr style=\"text-align: right;\">\n",
       "      <th></th>\n",
       "      <th>Model</th>\n",
       "      <th>F1-score</th>\n",
       "      <th>Precision</th>\n",
       "      <th>Recall</th>\n",
       "    </tr>\n",
       "  </thead>\n",
       "  <tbody>\n",
       "    <tr>\n",
       "      <th>0</th>\n",
       "      <td>KNNClassifier (k=1)</td>\n",
       "      <td>0.554371</td>\n",
       "      <td>0.502614</td>\n",
       "      <td>0.618011</td>\n",
       "    </tr>\n",
       "    <tr>\n",
       "      <th>1</th>\n",
       "      <td>KNNClassifier (k=3)</td>\n",
       "      <td>0.589267</td>\n",
       "      <td>0.544875</td>\n",
       "      <td>0.641534</td>\n",
       "    </tr>\n",
       "  </tbody>\n",
       "</table>\n",
       "</div>"
      ],
      "text/plain": [
       "                 Model  F1-score  Precision    Recall\n",
       "0  KNNClassifier (k=1)  0.554371   0.502614  0.618011\n",
       "1  KNNClassifier (k=3)  0.589267   0.544875  0.641534"
      ]
     },
     "execution_count": 8,
     "metadata": {},
     "output_type": "execute_result"
    }
   ],
   "source": [
    "#df_natural.style.highlight_max(subset=['F1-score', 'Precision', 'Recall'], color='lightgreen')\n",
    "\n",
    "df_natural"
   ]
  }
 ],
 "metadata": {
  "kernelspec": {
   "display_name": ".venv",
   "language": "python",
   "name": "python3"
  },
  "language_info": {
   "codemirror_mode": {
    "name": "ipython",
    "version": 3
   },
   "file_extension": ".py",
   "mimetype": "text/x-python",
   "name": "python",
   "nbconvert_exporter": "python",
   "pygments_lexer": "ipython3",
   "version": "3.12.10"
  }
 },
 "nbformat": 4,
 "nbformat_minor": 5
}
