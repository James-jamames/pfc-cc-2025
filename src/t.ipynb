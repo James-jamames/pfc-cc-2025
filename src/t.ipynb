{
 "cells": [
  {
   "cell_type": "code",
   "execution_count": 1,
   "id": "9ca95024",
   "metadata": {},
   "outputs": [
    {
     "name": "stdout",
     "output_type": "stream",
     "text": [
      "✅ Conversão concluída! 8199 pontos salvos em '../data/tiles_points.gpkg'.\n"
     ]
    }
   ],
   "source": [
    "import geopandas as gpd\n",
    "\n",
    "# Caminho do arquivo de entrada (tiles)\n",
    "input_gpkg = \"../data/gpw_grassland_fscs.vi.vhr_tile.samples_20000101_20241231_go_epsg.4326_v1.gpkg\"\n",
    "\n",
    "# Caminho do arquivo de saída (pontos)\n",
    "output_gpkg = \"../data/tiles_points.gpkg\"\n",
    "\n",
    "# Lê o arquivo GeoPackage\n",
    "gdf = gpd.read_file(input_gpkg)\n",
    "\n",
    "# Calcula o centroide de cada polígono\n",
    "gdf_points = gdf.copy()\n",
    "gdf_points[\"geometry\"] = gdf_points.geometry.centroid\n",
    "\n",
    "# (Opcional) garantir que o CRS seja o mesmo\n",
    "gdf_points.set_crs(gdf.crs, inplace=True)\n",
    "\n",
    "# Salva em um novo arquivo GeoPackage\n",
    "gdf_points.to_file(output_gpkg, driver=\"GPKG\")\n",
    "\n",
    "print(f\"✅ Conversão concluída! {len(gdf_points)} pontos salvos em '{output_gpkg}'.\")"
   ]
  },
  {
   "cell_type": "code",
   "execution_count": null,
   "id": "e979149c",
   "metadata": {},
   "outputs": [],
   "source": []
  }
 ],
 "metadata": {
  "kernelspec": {
   "display_name": "gdal",
   "language": "python",
   "name": "python3"
  },
  "language_info": {
   "codemirror_mode": {
    "name": "ipython",
    "version": 3
   },
   "file_extension": ".py",
   "mimetype": "text/x-python",
   "name": "python",
   "nbconvert_exporter": "python",
   "pygments_lexer": "ipython3",
   "version": "3.13.7"
  }
 },
 "nbformat": 4,
 "nbformat_minor": 5
}
