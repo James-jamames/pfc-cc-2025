{
 "cells": [
  {
   "cell_type": "code",
   "execution_count": 2,
   "id": "132c7fa4",
   "metadata": {},
   "outputs": [
    {
     "data": {
      "text/plain": [
       "array(['Other land cover', 'Natural/semi-natural grassland'], dtype=object)"
      ]
     },
     "execution_count": 2,
     "metadata": {},
     "output_type": "execute_result"
    }
   ],
   "source": [
    "import geopandas as gpd\n",
    "\n",
    "gdf = gpd.read_file('../data/tiles/1-mvp.gpkg')\n",
    "\n",
    "gdf['google_class'].unique()"
   ]
  },
  {
   "cell_type": "code",
   "execution_count": 3,
   "id": "dd95639b",
   "metadata": {},
   "outputs": [
    {
     "name": "stderr",
     "output_type": "stream",
     "text": [
      "C:\\Users\\tiago\\AppData\\Local\\Temp\\ipykernel_31044\\276488069.py:1: FutureWarning: Downcasting behavior in `replace` is deprecated and will be removed in a future version. To retain the old behavior, explicitly call `result.infer_objects(copy=False)`. To opt-in to the future behavior, set `pd.set_option('future.no_silent_downcasting', True)`\n",
      "  gdf['google_class'] = gdf['google_class'].replace({'Other land cover': 0, 'Natural/semi-natural grassland': 1})\n"
     ]
    }
   ],
   "source": [
    "gdf['google_class'] = gdf['google_class'].replace({'Other land cover': 0, 'Natural/semi-natural grassland': 1})"
   ]
  },
  {
   "cell_type": "code",
   "execution_count": 5,
   "id": "6fd13a6d",
   "metadata": {},
   "outputs": [],
   "source": [
    "gdf.to_file('../data/tiles/1-mvp-teste.gpkg', layer='1-mvp', driver='GPKG', index=False)"
   ]
  }
 ],
 "metadata": {
  "kernelspec": {
   "display_name": ".venv",
   "language": "python",
   "name": "python3"
  },
  "language_info": {
   "codemirror_mode": {
    "name": "ipython",
    "version": 3
   },
   "file_extension": ".py",
   "mimetype": "text/x-python",
   "name": "python",
   "nbconvert_exporter": "python",
   "pygments_lexer": "ipython3",
   "version": "3.12.10"
  }
 },
 "nbformat": 4,
 "nbformat_minor": 5
}
