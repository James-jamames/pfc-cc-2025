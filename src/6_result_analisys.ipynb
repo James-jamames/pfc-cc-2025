{
 "cells": [
  {
   "cell_type": "code",
   "execution_count": 1,
   "id": "132c7fa4",
   "metadata": {},
   "outputs": [
    {
     "ename": "ValueError",
     "evalue": "LZ4 is not installed. Install it with pip: https://python-lz4.readthedocs.io/",
     "output_type": "error",
     "traceback": [
      "\u001b[31m---------------------------------------------------------------------------\u001b[39m",
      "\u001b[31mValueError\u001b[39m                                Traceback (most recent call last)",
      "\u001b[36mCell\u001b[39m\u001b[36m \u001b[39m\u001b[32mIn[1]\u001b[39m\u001b[32m, line 7\u001b[39m\n\u001b[32m      4\u001b[39m arquivo = \u001b[33m\"\u001b[39m\u001b[33mC:/Users/tiago/Documents/Workspace/UFG/pfc-cc-2025/models/other_vs_cultivated.lz4\u001b[39m\u001b[33m\"\u001b[39m\n\u001b[32m      6\u001b[39m \u001b[38;5;66;03m# Carregar o objeto do arquivo\u001b[39;00m\n\u001b[32m----> \u001b[39m\u001b[32m7\u001b[39m dados = \u001b[43mjoblib\u001b[49m\u001b[43m.\u001b[49m\u001b[43mload\u001b[49m\u001b[43m(\u001b[49m\u001b[43marquivo\u001b[49m\u001b[43m)\u001b[49m\n\u001b[32m      9\u001b[39m \u001b[38;5;28mprint\u001b[39m(dados)\n",
      "\u001b[36mFile \u001b[39m\u001b[32mc:\\Users\\tiago\\Documents\\Workspace\\UFG\\pfc-cc-2025\\.venv\\Lib\\site-packages\\joblib\\numpy_pickle.py:736\u001b[39m, in \u001b[36mload\u001b[39m\u001b[34m(filename, mmap_mode, ensure_native_byte_order)\u001b[39m\n\u001b[32m    734\u001b[39m \u001b[38;5;28;01melse\u001b[39;00m:\n\u001b[32m    735\u001b[39m     \u001b[38;5;28;01mwith\u001b[39;00m \u001b[38;5;28mopen\u001b[39m(filename, \u001b[33m\"\u001b[39m\u001b[33mrb\u001b[39m\u001b[33m\"\u001b[39m) \u001b[38;5;28;01mas\u001b[39;00m f:\n\u001b[32m--> \u001b[39m\u001b[32m736\u001b[39m \u001b[43m        \u001b[49m\u001b[38;5;28;43;01mwith\u001b[39;49;00m\u001b[43m \u001b[49m\u001b[43m_validate_fileobject_and_memmap\u001b[49m\u001b[43m(\u001b[49m\u001b[43mf\u001b[49m\u001b[43m,\u001b[49m\u001b[43m \u001b[49m\u001b[43mfilename\u001b[49m\u001b[43m,\u001b[49m\u001b[43m \u001b[49m\u001b[43mmmap_mode\u001b[49m\u001b[43m)\u001b[49m\u001b[43m \u001b[49m\u001b[38;5;28;43;01mas\u001b[39;49;00m\u001b[43m \u001b[49m\u001b[43m(\u001b[49m\n\u001b[32m    737\u001b[39m \u001b[43m            \u001b[49m\u001b[43mfobj\u001b[49m\u001b[43m,\u001b[49m\n\u001b[32m    738\u001b[39m \u001b[43m            \u001b[49m\u001b[43mvalidated_mmap_mode\u001b[49m\u001b[43m,\u001b[49m\n\u001b[32m    739\u001b[39m \u001b[43m        \u001b[49m\u001b[43m)\u001b[49m\u001b[43m:\u001b[49m\n\u001b[32m    740\u001b[39m \u001b[43m            \u001b[49m\u001b[38;5;28;43;01mif\u001b[39;49;00m\u001b[43m \u001b[49m\u001b[38;5;28;43misinstance\u001b[39;49m\u001b[43m(\u001b[49m\u001b[43mfobj\u001b[49m\u001b[43m,\u001b[49m\u001b[43m \u001b[49m\u001b[38;5;28;43mstr\u001b[39;49m\u001b[43m)\u001b[49m\u001b[43m:\u001b[49m\n\u001b[32m    741\u001b[39m \u001b[43m                \u001b[49m\u001b[38;5;66;43;03m# if the returned file object is a string, this means we\u001b[39;49;00m\n\u001b[32m    742\u001b[39m \u001b[43m                \u001b[49m\u001b[38;5;66;43;03m# try to load a pickle file generated with an version of\u001b[39;49;00m\n\u001b[32m    743\u001b[39m \u001b[43m                \u001b[49m\u001b[38;5;66;43;03m# Joblib so we load it with joblib compatibility function.\u001b[39;49;00m\n\u001b[32m    744\u001b[39m \u001b[43m                \u001b[49m\u001b[38;5;28;43;01mreturn\u001b[39;49;00m\u001b[43m \u001b[49m\u001b[43mload_compatibility\u001b[49m\u001b[43m(\u001b[49m\u001b[43mfobj\u001b[49m\u001b[43m)\u001b[49m\n",
      "\u001b[36mFile \u001b[39m\u001b[32m~\\AppData\\Local\\Programs\\Python\\Python312\\Lib\\contextlib.py:137\u001b[39m, in \u001b[36m_GeneratorContextManager.__enter__\u001b[39m\u001b[34m(self)\u001b[39m\n\u001b[32m    135\u001b[39m \u001b[38;5;28;01mdel\u001b[39;00m \u001b[38;5;28mself\u001b[39m.args, \u001b[38;5;28mself\u001b[39m.kwds, \u001b[38;5;28mself\u001b[39m.func\n\u001b[32m    136\u001b[39m \u001b[38;5;28;01mtry\u001b[39;00m:\n\u001b[32m--> \u001b[39m\u001b[32m137\u001b[39m     \u001b[38;5;28;01mreturn\u001b[39;00m \u001b[38;5;28;43mnext\u001b[39;49m\u001b[43m(\u001b[49m\u001b[38;5;28;43mself\u001b[39;49m\u001b[43m.\u001b[49m\u001b[43mgen\u001b[49m\u001b[43m)\u001b[49m\n\u001b[32m    138\u001b[39m \u001b[38;5;28;01mexcept\u001b[39;00m \u001b[38;5;167;01mStopIteration\u001b[39;00m:\n\u001b[32m    139\u001b[39m     \u001b[38;5;28;01mraise\u001b[39;00m \u001b[38;5;167;01mRuntimeError\u001b[39;00m(\u001b[33m\"\u001b[39m\u001b[33mgenerator didn\u001b[39m\u001b[33m'\u001b[39m\u001b[33mt yield\u001b[39m\u001b[33m\"\u001b[39m) \u001b[38;5;28;01mfrom\u001b[39;00m\u001b[38;5;250m \u001b[39m\u001b[38;5;28;01mNone\u001b[39;00m\n",
      "\u001b[36mFile \u001b[39m\u001b[32mc:\\Users\\tiago\\Documents\\Workspace\\UFG\\pfc-cc-2025\\.venv\\Lib\\site-packages\\joblib\\numpy_pickle_utils.py:177\u001b[39m, in \u001b[36m_validate_fileobject_and_memmap\u001b[39m\u001b[34m(fileobj, filename, mmap_mode)\u001b[39m\n\u001b[32m    173\u001b[39m \u001b[38;5;28;01mif\u001b[39;00m compressor \u001b[38;5;129;01min\u001b[39;00m _COMPRESSORS:\n\u001b[32m    174\u001b[39m     \u001b[38;5;66;03m# based on the compressor detected in the file, we open the\u001b[39;00m\n\u001b[32m    175\u001b[39m     \u001b[38;5;66;03m# correct decompressor file object, wrapped in a buffer.\u001b[39;00m\n\u001b[32m    176\u001b[39m     compressor_wrapper = _COMPRESSORS[compressor]\n\u001b[32m--> \u001b[39m\u001b[32m177\u001b[39m     inst = \u001b[43mcompressor_wrapper\u001b[49m\u001b[43m.\u001b[49m\u001b[43mdecompressor_file\u001b[49m\u001b[43m(\u001b[49m\u001b[43mfileobj\u001b[49m\u001b[43m)\u001b[49m\n\u001b[32m    178\u001b[39m     fileobj = _buffered_read_file(inst)\n\u001b[32m    180\u001b[39m \u001b[38;5;66;03m# Checking if incompatible load parameters with the type of file:\u001b[39;00m\n\u001b[32m    181\u001b[39m \u001b[38;5;66;03m# mmap_mode cannot be used with compressed file or in memory buffers\u001b[39;00m\n\u001b[32m    182\u001b[39m \u001b[38;5;66;03m# such as io.BytesIO.\u001b[39;00m\n",
      "\u001b[36mFile \u001b[39m\u001b[32mc:\\Users\\tiago\\Documents\\Workspace\\UFG\\pfc-cc-2025\\.venv\\Lib\\site-packages\\joblib\\compressor.py:219\u001b[39m, in \u001b[36mLZ4CompressorWrapper.decompressor_file\u001b[39m\u001b[34m(self, fileobj)\u001b[39m\n\u001b[32m    217\u001b[39m \u001b[38;5;28;01mdef\u001b[39;00m\u001b[38;5;250m \u001b[39m\u001b[34mdecompressor_file\u001b[39m(\u001b[38;5;28mself\u001b[39m, fileobj):\n\u001b[32m    218\u001b[39m \u001b[38;5;250m    \u001b[39m\u001b[33;03m\"\"\"Returns an instance of a decompressor file object.\"\"\"\u001b[39;00m\n\u001b[32m--> \u001b[39m\u001b[32m219\u001b[39m     \u001b[38;5;28;43mself\u001b[39;49m\u001b[43m.\u001b[49m\u001b[43m_check_versions\u001b[49m\u001b[43m(\u001b[49m\u001b[43m)\u001b[49m\n\u001b[32m    220\u001b[39m     \u001b[38;5;28;01mreturn\u001b[39;00m \u001b[38;5;28mself\u001b[39m.fileobj_factory(fileobj, \u001b[33m\"\u001b[39m\u001b[33mrb\u001b[39m\u001b[33m\"\u001b[39m)\n",
      "\u001b[36mFile \u001b[39m\u001b[32mc:\\Users\\tiago\\Documents\\Workspace\\UFG\\pfc-cc-2025\\.venv\\Lib\\site-packages\\joblib\\compressor.py:202\u001b[39m, in \u001b[36mLZ4CompressorWrapper._check_versions\u001b[39m\u001b[34m(self)\u001b[39m\n\u001b[32m    200\u001b[39m \u001b[38;5;28;01mdef\u001b[39;00m\u001b[38;5;250m \u001b[39m\u001b[34m_check_versions\u001b[39m(\u001b[38;5;28mself\u001b[39m):\n\u001b[32m    201\u001b[39m     \u001b[38;5;28;01mif\u001b[39;00m lz4 \u001b[38;5;129;01mis\u001b[39;00m \u001b[38;5;28;01mNone\u001b[39;00m:\n\u001b[32m--> \u001b[39m\u001b[32m202\u001b[39m         \u001b[38;5;28;01mraise\u001b[39;00m \u001b[38;5;167;01mValueError\u001b[39;00m(LZ4_NOT_INSTALLED_ERROR)\n\u001b[32m    203\u001b[39m     lz4_version = lz4.__version__\n\u001b[32m    204\u001b[39m     \u001b[38;5;28;01mif\u001b[39;00m lz4_version.startswith(\u001b[33m\"\u001b[39m\u001b[33mv\u001b[39m\u001b[33m\"\u001b[39m):\n",
      "\u001b[31mValueError\u001b[39m: LZ4 is not installed. Install it with pip: https://python-lz4.readthedocs.io/"
     ]
    }
   ],
   "source": [
    "import joblib\n",
    "\n",
    "# Arquivo salvo com joblib.dump(..., compress=('lz4', 3))\n",
    "arquivo = \"C:/Users/tiago/Documents/Workspace/UFG/pfc-cc-2025/models/other_vs_cultivated.lz4\"\n",
    "\n",
    "# Carregar o objeto do arquivo\n",
    "dados = joblib.load(arquivo)\n",
    "\n",
    "print(dados)"
   ]
  }
 ],
 "metadata": {
  "kernelspec": {
   "display_name": ".venv",
   "language": "python",
   "name": "python3"
  },
  "language_info": {
   "codemirror_mode": {
    "name": "ipython",
    "version": 3
   },
   "file_extension": ".py",
   "mimetype": "text/x-python",
   "name": "python",
   "nbconvert_exporter": "python",
   "pygments_lexer": "ipython3",
   "version": "3.12.10"
  }
 },
 "nbformat": 4,
 "nbformat_minor": 5
}
