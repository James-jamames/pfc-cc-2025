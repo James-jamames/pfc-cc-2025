{
 "cells": [
  {
   "cell_type": "markdown",
   "id": "0853c4ea",
   "metadata": {},
   "source": [
    "# Rasterizar"
   ]
  },
  {
   "cell_type": "code",
   "execution_count": 1,
   "id": "962ecc15",
   "metadata": {},
   "outputs": [],
   "source": [
    "# gdal_rasterize -a google_class -l 1-mvp -tr 10 10 -te 3298060 9564778 3299080 9565798 -ot Int16 -a_nodata -1 1-mvp.gpkg 1-mvp.tif\n",
    "\n",
    "# gdalwarp -t_srs EPSG:32635 -te 624600 7192530 625060 7193000 -tr 10 10 -r mode -dstnodata -1 1-mvp.tif 1-mvp-warped.tif"
   ]
  },
  {
   "cell_type": "code",
   "execution_count": 1,
   "id": "0e285d00",
   "metadata": {},
   "outputs": [],
   "source": [
    "import shutil\n",
    "from pathlib import Path\n",
    "\n",
    "input_dir = Path(\"../data/raw\")\n",
    "output_dir = Path(\"../data/raster\")\n",
    "\n",
    "output_dir.mkdir(exist_ok=True)\n",
    "(output_dir / 'bing').mkdir(exist_ok=True)\n",
    "(output_dir / 'google').mkdir(exist_ok=True)\n",
    "\n",
    "gpkg_files = list(input_dir.glob(\"*.gpkg\"))"
   ]
  },
  {
   "cell_type": "code",
   "execution_count": 2,
   "id": "ae3e1f1e",
   "metadata": {},
   "outputs": [],
   "source": [
    "import rasterio\n",
    "import numpy as np\n",
    "import geopandas as gpd\n",
    "\n",
    "from tqdm import tqdm\n",
    "from osgeo import gdal, osr"
   ]
  },
  {
   "cell_type": "code",
   "execution_count": null,
   "id": "004b50a0",
   "metadata": {},
   "outputs": [],
   "source": [
    "def rasterize(input_dir: Path, output_dir: Path, source: str):\n",
    "    print('Tentando rasterizar')\n",
    "    layer = input_dir.stem\n",
    "    gdf = gpd.read_file(input_dir, layer=layer)\n",
    "    xmin, ymin, xmax, ymax = gdf.total_bounds\n",
    "\n",
    "    options = gdal.RasterizeOptions(\n",
    "        attribute=f\"{source}_value\",\n",
    "        layers=[layer],\n",
    "        outputType=gdal.GDT_Int16,\n",
    "        xRes=10,\n",
    "        yRes=10,\n",
    "        noData=-1,\n",
    "        outputBounds=(xmin, ymin, xmax, ymax)\n",
    "    )\n",
    "\n",
    "    gdal.Rasterize(output_dir / f\"{layer}.tif\", input_dir, options=options)"
   ]
  },
  {
   "cell_type": "code",
   "execution_count": 4,
   "id": "381c0c9d",
   "metadata": {},
   "outputs": [],
   "source": [
    "def get_output_bounds(ds):\n",
    "    gt = ds.GetGeoTransform()\n",
    "    xmin = gt[0]\n",
    "    ymin = gt[3]\n",
    "    xres = gt[1]\n",
    "    yres = gt[5]\n",
    "    xsize = ds.RasterXSize\n",
    "    ysize = ds.RasterYSize\n",
    "    xmax = xmin + xres * xsize\n",
    "    ymax = ymin + yres * ysize\n",
    "\n",
    "    return (xmin, ymin, xmax, ymax)\n",
    "\n",
    "def get_epsg_from_gpkg(ds) -> int:\n",
    "    proj = ds.GetProjection()\n",
    "    srs = osr.SpatialReference()\n",
    "    srs.ImportFromWkt(proj)\n",
    "\n",
    "    return srs.GetAttrValue(\"AUTHORITY\", 1)\n",
    "\n",
    "def warp(input_dir: Path, output_dir: Path):\n",
    "    input_fn = input_dir.stem\n",
    "\n",
    "    ds = gdal.Open(Path(\"../data/feature\") / f'{input_fn}.tif')\n",
    "\n",
    "    warp_options = gdal.WarpOptions(\n",
    "        format=\"GTiff\",\n",
    "        dstSRS=f\"EPSG:{get_epsg_from_gpkg(ds)}\",\n",
    "        outputBounds=get_output_bounds(ds),\n",
    "        xRes=10, yRes=10,                  \n",
    "        resampleAlg=gdal.GRA_NearestNeighbour,           \n",
    "        dstNodata=-1                       \n",
    "    )\n",
    "\n",
    "    gdal.Warp(output_dir / f'{input_fn}.tif', input_dir, options=warp_options)"
   ]
  },
  {
   "cell_type": "code",
   "execution_count": 5,
   "id": "38a51249",
   "metadata": {},
   "outputs": [],
   "source": [
    "def mask(input_dir: Path, output_dir: Path):\n",
    "    fn = input_dir.stem\n",
    "\n",
    "    with rasterio.open(input_dir) as msrc:\n",
    "        mask = msrc.read()\n",
    "        mask = mask[:, ::-1, :]\n",
    "\n",
    "    with rasterio.open(Path(\"../data/feature\") / f'{fn}.tif') as fsrc:\n",
    "        data = fsrc.read()\n",
    "        profile = fsrc.profile.copy()\n",
    "\n",
    "    nodata = profile.get(\"nodata\")\n",
    "\n",
    "    masked_data = np.where(np.isin(mask, [0, 2**6, 2**12, 2**18]), data, nodata)\n",
    "\n",
    "    data_concat = np.concatenate([masked_data, mask], axis=0)\n",
    "\n",
    "    profile.update(count=data_concat.shape[0])\n",
    "\n",
    "    with rasterio.open(output_dir / f'{fn}.tif', \"w\", **profile) as dst:\n",
    "        dst.write(data_concat)"
   ]
  },
  {
   "cell_type": "code",
   "execution_count": 6,
   "id": "de785128",
   "metadata": {},
   "outputs": [],
   "source": [
    "rtemp_dir = Path(\"../data/temp_r\")\n",
    "rtemp_dir.mkdir(exist_ok=True)\n",
    "(rtemp_dir / 'bing').mkdir(exist_ok=True)\n",
    "(rtemp_dir / 'google').mkdir(exist_ok=True)\n",
    "\n",
    "wtemp_dir = Path(\"../data/temp_w\")\n",
    "wtemp_dir.mkdir(exist_ok=True)\n",
    "(wtemp_dir / 'bing').mkdir(exist_ok=True)\n",
    "(wtemp_dir / 'google').mkdir(exist_ok=True)"
   ]
  },
  {
   "cell_type": "code",
   "execution_count": 7,
   "id": "70e6ba9b",
   "metadata": {},
   "outputs": [
    {
     "name": "stderr",
     "output_type": "stream",
     "text": [
      "  0%|          | 0/9799 [00:00<?, ?it/s]c:\\Users\\tiago\\anaconda3\\envs\\gdal\\Lib\\site-packages\\osgeo\\gdal.py:330: FutureWarning: Neither gdal.UseExceptions() nor gdal.DontUseExceptions() has been explicitly called. In GDAL 4.0, exceptions will be enabled by default.\n",
      "  warnings.warn(\n"
     ]
    },
    {
     "name": "stdout",
     "output_type": "stream",
     "text": [
      "Tentando rasterizar\n",
      "0\n",
      "Tentando rasterizar\n"
     ]
    },
    {
     "name": "stderr",
     "output_type": "stream",
     "text": [
      "  0%|          | 1/9799 [00:00<41:45,  3.91it/s]"
     ]
    },
    {
     "name": "stdout",
     "output_type": "stream",
     "text": [
      "0\n",
      "Tentando rasterizar\n",
      "nan\n",
      "Tentando rasterizar\n",
      "3\n"
     ]
    },
    {
     "name": "stderr",
     "output_type": "stream",
     "text": [
      "  0%|          | 3/9799 [00:00<33:32,  4.87it/s]"
     ]
    },
    {
     "name": "stdout",
     "output_type": "stream",
     "text": [
      "Tentando rasterizar\n",
      "2\n",
      "Tentando rasterizar\n",
      "2\n",
      "Tentando rasterizar\n"
     ]
    },
    {
     "name": "stderr",
     "output_type": "stream",
     "text": [
      "  0%|          | 4/9799 [00:00<33:18,  4.90it/s]"
     ]
    },
    {
     "name": "stdout",
     "output_type": "stream",
     "text": [
      "2\n",
      "Tentando rasterizar\n",
      "2\n",
      "Tentando rasterizar\n",
      "2\n"
     ]
    },
    {
     "name": "stderr",
     "output_type": "stream",
     "text": [
      "  0%|          | 5/9799 [00:01<32:38,  5.00it/s]"
     ]
    },
    {
     "name": "stdout",
     "output_type": "stream",
     "text": [
      "Tentando rasterizar\n",
      "2\n",
      "Tentando rasterizar\n",
      "0\n",
      "Tentando rasterizar\n"
     ]
    },
    {
     "name": "stderr",
     "output_type": "stream",
     "text": [
      "  0%|          | 6/9799 [00:01<32:10,  5.07it/s]"
     ]
    },
    {
     "name": "stdout",
     "output_type": "stream",
     "text": [
      "0\n",
      "Tentando rasterizar\n",
      "0\n",
      "Tentando rasterizar\n",
      "0\n"
     ]
    },
    {
     "name": "stderr",
     "output_type": "stream",
     "text": [
      "  0%|          | 8/9799 [00:01<31:50,  5.13it/s]"
     ]
    },
    {
     "name": "stdout",
     "output_type": "stream",
     "text": [
      "Tentando rasterizar\n",
      "0\n",
      "Tentando rasterizar\n",
      "0\n",
      "Tentando rasterizar\n"
     ]
    },
    {
     "name": "stderr",
     "output_type": "stream",
     "text": [
      "  0%|          | 8/9799 [00:01<36:07,  4.52it/s]\n"
     ]
    },
    {
     "name": "stdout",
     "output_type": "stream",
     "text": [
      "0\n",
      "Tentando rasterizar\n"
     ]
    },
    {
     "ename": "KeyboardInterrupt",
     "evalue": "",
     "output_type": "error",
     "traceback": [
      "\u001b[31m---------------------------------------------------------------------------\u001b[39m",
      "\u001b[31mKeyboardInterrupt\u001b[39m                         Traceback (most recent call last)",
      "\u001b[36mCell\u001b[39m\u001b[36m \u001b[39m\u001b[32mIn[7]\u001b[39m\u001b[32m, line 4\u001b[39m\n\u001b[32m      2\u001b[39m \u001b[38;5;28;01mfor\u001b[39;00m source \u001b[38;5;129;01min\u001b[39;00m [\u001b[33m'\u001b[39m\u001b[33mgoogle\u001b[39m\u001b[33m'\u001b[39m, \u001b[33m'\u001b[39m\u001b[33mbing\u001b[39m\u001b[33m'\u001b[39m]:\n\u001b[32m      3\u001b[39m     \u001b[38;5;28;01mtry\u001b[39;00m:\n\u001b[32m----> \u001b[39m\u001b[32m4\u001b[39m         \u001b[43mrasterize\u001b[49m\u001b[43m(\u001b[49m\u001b[43mgpkg_file\u001b[49m\u001b[43m,\u001b[49m\u001b[43m \u001b[49m\u001b[43mrtemp_dir\u001b[49m\u001b[43m \u001b[49m\u001b[43m/\u001b[49m\u001b[43m \u001b[49m\u001b[43msource\u001b[49m\u001b[43m,\u001b[49m\u001b[43m \u001b[49m\u001b[43msource\u001b[49m\u001b[43m)\u001b[49m\n\u001b[32m      6\u001b[39m         warp(rtemp_dir / source / \u001b[33mf\u001b[39m\u001b[33m\"\u001b[39m\u001b[38;5;132;01m{\u001b[39;00mgpkg_file.stem\u001b[38;5;132;01m}\u001b[39;00m\u001b[33m.tif\u001b[39m\u001b[33m\"\u001b[39m, wtemp_dir / source)\n\u001b[32m      8\u001b[39m         mask(wtemp_dir / source / \u001b[33mf\u001b[39m\u001b[33m\"\u001b[39m\u001b[38;5;132;01m{\u001b[39;00mgpkg_file.stem\u001b[38;5;132;01m}\u001b[39;00m\u001b[33m.tif\u001b[39m\u001b[33m\"\u001b[39m, output_dir / source)\n",
      "\u001b[36mCell\u001b[39m\u001b[36m \u001b[39m\u001b[32mIn[3]\u001b[39m\u001b[32m, line 4\u001b[39m, in \u001b[36mrasterize\u001b[39m\u001b[34m(input_dir, output_dir, source)\u001b[39m\n\u001b[32m      2\u001b[39m \u001b[38;5;28mprint\u001b[39m(\u001b[33m'\u001b[39m\u001b[33mTentando rasterizar\u001b[39m\u001b[33m'\u001b[39m)\n\u001b[32m      3\u001b[39m layer = input_dir.stem\n\u001b[32m----> \u001b[39m\u001b[32m4\u001b[39m gdf = \u001b[43mgpd\u001b[49m\u001b[43m.\u001b[49m\u001b[43mread_file\u001b[49m\u001b[43m(\u001b[49m\u001b[43minput_dir\u001b[49m\u001b[43m,\u001b[49m\u001b[43m \u001b[49m\u001b[43mlayer\u001b[49m\u001b[43m=\u001b[49m\u001b[43mlayer\u001b[49m\u001b[43m)\u001b[49m\n\u001b[32m      5\u001b[39m xmin, ymin, xmax, ymax = gdf.total_bounds\n\u001b[32m      7\u001b[39m \u001b[38;5;28mprint\u001b[39m(gdf.iloc[\u001b[32m0\u001b[39m][\u001b[33mf\u001b[39m\u001b[33m'\u001b[39m\u001b[38;5;132;01m{\u001b[39;00msource\u001b[38;5;132;01m}\u001b[39;00m\u001b[33m_value\u001b[39m\u001b[33m'\u001b[39m])\n",
      "\u001b[36mFile \u001b[39m\u001b[32mc:\\Users\\tiago\\anaconda3\\envs\\gdal\\Lib\\site-packages\\geopandas\\io\\file.py:316\u001b[39m, in \u001b[36m_read_file\u001b[39m\u001b[34m(filename, bbox, mask, columns, rows, engine, **kwargs)\u001b[39m\n\u001b[32m    313\u001b[39m             filename = response.read()\n\u001b[32m    315\u001b[39m \u001b[38;5;28;01mif\u001b[39;00m engine == \u001b[33m\"\u001b[39m\u001b[33mpyogrio\u001b[39m\u001b[33m\"\u001b[39m:\n\u001b[32m--> \u001b[39m\u001b[32m316\u001b[39m     \u001b[38;5;28;01mreturn\u001b[39;00m \u001b[43m_read_file_pyogrio\u001b[49m\u001b[43m(\u001b[49m\n\u001b[32m    317\u001b[39m \u001b[43m        \u001b[49m\u001b[43mfilename\u001b[49m\u001b[43m,\u001b[49m\u001b[43m \u001b[49m\u001b[43mbbox\u001b[49m\u001b[43m=\u001b[49m\u001b[43mbbox\u001b[49m\u001b[43m,\u001b[49m\u001b[43m \u001b[49m\u001b[43mmask\u001b[49m\u001b[43m=\u001b[49m\u001b[43mmask\u001b[49m\u001b[43m,\u001b[49m\u001b[43m \u001b[49m\u001b[43mcolumns\u001b[49m\u001b[43m=\u001b[49m\u001b[43mcolumns\u001b[49m\u001b[43m,\u001b[49m\u001b[43m \u001b[49m\u001b[43mrows\u001b[49m\u001b[43m=\u001b[49m\u001b[43mrows\u001b[49m\u001b[43m,\u001b[49m\u001b[43m \u001b[49m\u001b[43m*\u001b[49m\u001b[43m*\u001b[49m\u001b[43mkwargs\u001b[49m\n\u001b[32m    318\u001b[39m \u001b[43m    \u001b[49m\u001b[43m)\u001b[49m\n\u001b[32m    320\u001b[39m \u001b[38;5;28;01melif\u001b[39;00m engine == \u001b[33m\"\u001b[39m\u001b[33mfiona\u001b[39m\u001b[33m\"\u001b[39m:\n\u001b[32m    321\u001b[39m     \u001b[38;5;28;01mif\u001b[39;00m pd.api.types.is_file_like(filename):\n",
      "\u001b[36mFile \u001b[39m\u001b[32mc:\\Users\\tiago\\anaconda3\\envs\\gdal\\Lib\\site-packages\\geopandas\\io\\file.py:576\u001b[39m, in \u001b[36m_read_file_pyogrio\u001b[39m\u001b[34m(path_or_bytes, bbox, mask, rows, **kwargs)\u001b[39m\n\u001b[32m    567\u001b[39m     warnings.warn(\n\u001b[32m    568\u001b[39m         \u001b[33m\"\u001b[39m\u001b[33mThe \u001b[39m\u001b[33m'\u001b[39m\u001b[33minclude_fields\u001b[39m\u001b[33m'\u001b[39m\u001b[33m and \u001b[39m\u001b[33m'\u001b[39m\u001b[33mignore_fields\u001b[39m\u001b[33m'\u001b[39m\u001b[33m keywords are deprecated, and \u001b[39m\u001b[33m\"\u001b[39m\n\u001b[32m    569\u001b[39m         \u001b[33m\"\u001b[39m\u001b[33mwill be removed in a future release. You can use the \u001b[39m\u001b[33m'\u001b[39m\u001b[33mcolumns\u001b[39m\u001b[33m'\u001b[39m\u001b[33m keyword \u001b[39m\u001b[33m\"\u001b[39m\n\u001b[32m   (...)\u001b[39m\u001b[32m    572\u001b[39m         stacklevel=\u001b[32m3\u001b[39m,\n\u001b[32m    573\u001b[39m     )\n\u001b[32m    574\u001b[39m     kwargs[\u001b[33m\"\u001b[39m\u001b[33mcolumns\u001b[39m\u001b[33m\"\u001b[39m] = kwargs.pop(\u001b[33m\"\u001b[39m\u001b[33minclude_fields\u001b[39m\u001b[33m\"\u001b[39m)\n\u001b[32m--> \u001b[39m\u001b[32m576\u001b[39m \u001b[38;5;28;01mreturn\u001b[39;00m \u001b[43mpyogrio\u001b[49m\u001b[43m.\u001b[49m\u001b[43mread_dataframe\u001b[49m\u001b[43m(\u001b[49m\u001b[43mpath_or_bytes\u001b[49m\u001b[43m,\u001b[49m\u001b[43m \u001b[49m\u001b[43mbbox\u001b[49m\u001b[43m=\u001b[49m\u001b[43mbbox\u001b[49m\u001b[43m,\u001b[49m\u001b[43m \u001b[49m\u001b[43m*\u001b[49m\u001b[43m*\u001b[49m\u001b[43mkwargs\u001b[49m\u001b[43m)\u001b[49m\n",
      "\u001b[36mFile \u001b[39m\u001b[32mc:\\Users\\tiago\\anaconda3\\envs\\gdal\\Lib\\site-packages\\pyogrio\\geopandas.py:355\u001b[39m, in \u001b[36mread_dataframe\u001b[39m\u001b[34m(path_or_buffer, layer, encoding, columns, read_geometry, force_2d, skip_features, max_features, where, bbox, mask, fids, sql, sql_dialect, fid_as_index, use_arrow, on_invalid, arrow_to_pandas_kwargs, **kwargs)\u001b[39m\n\u001b[32m    351\u001b[39m         \u001b[38;5;28;01mreturn\u001b[39;00m df\n\u001b[32m    353\u001b[39m meta, index, geometry, field_data = result\n\u001b[32m--> \u001b[39m\u001b[32m355\u001b[39m columns = \u001b[43mmeta\u001b[49m\u001b[43m[\u001b[49m\u001b[33;43m\"\u001b[39;49m\u001b[33;43mfields\u001b[39;49m\u001b[33;43m\"\u001b[39;49m\u001b[43m]\u001b[49m\u001b[43m.\u001b[49m\u001b[43mtolist\u001b[49m\u001b[43m(\u001b[49m\u001b[43m)\u001b[49m\n\u001b[32m    356\u001b[39m data = {columns[i]: field_data[i] \u001b[38;5;28;01mfor\u001b[39;00m i \u001b[38;5;129;01min\u001b[39;00m \u001b[38;5;28mrange\u001b[39m(\u001b[38;5;28mlen\u001b[39m(columns))}\n\u001b[32m    357\u001b[39m \u001b[38;5;28;01mif\u001b[39;00m fid_as_index:\n",
      "\u001b[31mKeyboardInterrupt\u001b[39m: "
     ]
    }
   ],
   "source": [
    "for gpkg_file in tqdm(gpkg_files):\n",
    "    for source in ['google', 'bing']:\n",
    "        try:\n",
    "            rasterize(gpkg_file, rtemp_dir / source, source)\n",
    "\n",
    "            warp(rtemp_dir / source / f\"{gpkg_file.stem}.tif\", wtemp_dir / source)\n",
    "\n",
    "            mask(wtemp_dir / source / f\"{gpkg_file.stem}.tif\", output_dir / source)\n",
    "        except Exception as e:\n",
    "            pass"
   ]
  },
  {
   "cell_type": "code",
   "execution_count": null,
   "id": "123ee779",
   "metadata": {},
   "outputs": [],
   "source": [
    "shutil.rmtree(rtemp_dir)\n",
    "shutil.rmtree(wtemp_dir)"
   ]
  }
 ],
 "metadata": {
  "kernelspec": {
   "display_name": "gdal",
   "language": "python",
   "name": "python3"
  },
  "language_info": {
   "codemirror_mode": {
    "name": "ipython",
    "version": 3
   },
   "file_extension": ".py",
   "mimetype": "text/x-python",
   "name": "python",
   "nbconvert_exporter": "python",
   "pygments_lexer": "ipython3",
   "version": "3.13.7"
  }
 },
 "nbformat": 4,
 "nbformat_minor": 5
}
